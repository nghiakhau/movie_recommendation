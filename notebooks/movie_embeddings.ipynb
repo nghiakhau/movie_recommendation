{
 "cells": [
  {
   "cell_type": "code",
   "execution_count": 1,
   "id": "provincial-bernard",
   "metadata": {},
   "outputs": [],
   "source": [
    "import numpy as np\n",
    "import pandas as pd\n",
    "import matplotlib.pyplot as plt\n",
    "from scipy import sparse\n",
    "import seaborn as sns\n",
    "import sys\n",
    "import os\n",
    "import math\n",
    "import time\n",
    "import random\n",
    "from sklearn.metrics.pairwise import cosine_similarity\n",
    "import pickle\n",
    "import warnings\n",
    "import ast\n",
    "warnings.filterwarnings(\"ignore\")\n",
    "\n",
    "\"append parent directory so that we can import sibling module\"\n",
    "\n",
    "parent_dir = os.path.dirname(os.path.abspath('.'))\n",
    "sys.path.append(parent_dir)"
   ]
  },
  {
   "cell_type": "code",
   "execution_count": 2,
   "id": "checked-african",
   "metadata": {},
   "outputs": [
    {
     "data": {
      "text/html": [
       "<div>\n",
       "<style scoped>\n",
       "    .dataframe tbody tr th:only-of-type {\n",
       "        vertical-align: middle;\n",
       "    }\n",
       "\n",
       "    .dataframe tbody tr th {\n",
       "        vertical-align: top;\n",
       "    }\n",
       "\n",
       "    .dataframe thead th {\n",
       "        text-align: right;\n",
       "    }\n",
       "</style>\n",
       "<table border=\"1\" class=\"dataframe\">\n",
       "  <thead>\n",
       "    <tr style=\"text-align: right;\">\n",
       "      <th></th>\n",
       "      <th>movieId</th>\n",
       "      <th>overview</th>\n",
       "      <th>genres</th>\n",
       "      <th>title</th>\n",
       "      <th>keywords</th>\n",
       "    </tr>\n",
       "  </thead>\n",
       "  <tbody>\n",
       "    <tr>\n",
       "      <th>0</th>\n",
       "      <td>1</td>\n",
       "      <td>Led by Woody, Andy's toys live happily in his ...</td>\n",
       "      <td>[Animation, Comedy, Family]</td>\n",
       "      <td>Toy Story</td>\n",
       "      <td>[jealousy, toy, boy, friendship, friends, riva...</td>\n",
       "    </tr>\n",
       "    <tr>\n",
       "      <th>1</th>\n",
       "      <td>2</td>\n",
       "      <td>When siblings Judy and Peter discover an encha...</td>\n",
       "      <td>[Adventure, Fantasy, Family]</td>\n",
       "      <td>Jumanji</td>\n",
       "      <td>[board game, disappearance, based on children'...</td>\n",
       "    </tr>\n",
       "  </tbody>\n",
       "</table>\n",
       "</div>"
      ],
      "text/plain": [
       "   movieId                                           overview  \\\n",
       "0        1  Led by Woody, Andy's toys live happily in his ...   \n",
       "1        2  When siblings Judy and Peter discover an encha...   \n",
       "\n",
       "                         genres      title  \\\n",
       "0   [Animation, Comedy, Family]  Toy Story   \n",
       "1  [Adventure, Fantasy, Family]    Jumanji   \n",
       "\n",
       "                                            keywords  \n",
       "0  [jealousy, toy, boy, friendship, friends, riva...  \n",
       "1  [board game, disappearance, based on children'...  "
      ]
     },
     "execution_count": 2,
     "metadata": {},
     "output_type": "execute_result"
    }
   ],
   "source": [
    "movies = pd.read_csv('../data/movies_w_description.csv')\n",
    "movies.drop_duplicates('movieId', inplace=True)\n",
    "movies['genres'] = movies['genres'].map(ast.literal_eval)\n",
    "movies['keywords'] = movies['keywords'].map(ast.literal_eval)\n",
    "movies.head(2)"
   ]
  },
  {
   "cell_type": "code",
   "execution_count": 3,
   "id": "chief-death",
   "metadata": {},
   "outputs": [],
   "source": [
    "from sklearn.model_selection import train_test_split"
   ]
  },
  {
   "cell_type": "code",
   "execution_count": 4,
   "id": "working-greeting",
   "metadata": {},
   "outputs": [
    {
     "data": {
      "text/plain": [
       "(33575, 8394)"
      ]
     },
     "execution_count": 4,
     "metadata": {},
     "output_type": "execute_result"
    }
   ],
   "source": [
    "data_tr, data_te = train_test_split(movies, test_size=0.2)\n",
    "len(data_tr), len(data_te)"
   ]
  },
  {
   "cell_type": "code",
   "execution_count": 6,
   "id": "afraid-nowhere",
   "metadata": {},
   "outputs": [
    {
     "data": {
      "text/html": [
       "<div>\n",
       "<style scoped>\n",
       "    .dataframe tbody tr th:only-of-type {\n",
       "        vertical-align: middle;\n",
       "    }\n",
       "\n",
       "    .dataframe tbody tr th {\n",
       "        vertical-align: top;\n",
       "    }\n",
       "\n",
       "    .dataframe thead th {\n",
       "        text-align: right;\n",
       "    }\n",
       "</style>\n",
       "<table border=\"1\" class=\"dataframe\">\n",
       "  <thead>\n",
       "    <tr style=\"text-align: right;\">\n",
       "      <th></th>\n",
       "      <th>movieId</th>\n",
       "      <th>overview</th>\n",
       "      <th>genres</th>\n",
       "      <th>title</th>\n",
       "      <th>keywords</th>\n",
       "    </tr>\n",
       "  </thead>\n",
       "  <tbody>\n",
       "    <tr>\n",
       "      <th>0</th>\n",
       "      <td>106168</td>\n",
       "      <td>Set in 1960, the story follows the efforts of ...</td>\n",
       "      <td>[TV Movie, Drama, History, War]</td>\n",
       "      <td>The Man Who Captured Eichmann</td>\n",
       "      <td>[]</td>\n",
       "    </tr>\n",
       "    <tr>\n",
       "      <th>1</th>\n",
       "      <td>150882</td>\n",
       "      <td>Life and adventures of a few Polish immigrants...</td>\n",
       "      <td>[Comedy]</td>\n",
       "      <td>Happy New York</td>\n",
       "      <td>[]</td>\n",
       "    </tr>\n",
       "    <tr>\n",
       "      <th>2</th>\n",
       "      <td>133828</td>\n",
       "      <td>When a cop-killer goes free, a detective's sea...</td>\n",
       "      <td>[Thriller, Drama, Action]</td>\n",
       "      <td>Mistrial</td>\n",
       "      <td>[]</td>\n",
       "    </tr>\n",
       "    <tr>\n",
       "      <th>3</th>\n",
       "      <td>148404</td>\n",
       "      <td>The President is the story of a dictator of an...</td>\n",
       "      <td>[Drama]</td>\n",
       "      <td>The President</td>\n",
       "      <td>[dictator]</td>\n",
       "    </tr>\n",
       "    <tr>\n",
       "      <th>4</th>\n",
       "      <td>119946</td>\n",
       "      <td>In the early days of the industrial revolution...</td>\n",
       "      <td>[Drama, History, War]</td>\n",
       "      <td>The New Babylon</td>\n",
       "      <td>[soviet union]</td>\n",
       "    </tr>\n",
       "  </tbody>\n",
       "</table>\n",
       "</div>"
      ],
      "text/plain": [
       "   movieId                                           overview  \\\n",
       "0   106168  Set in 1960, the story follows the efforts of ...   \n",
       "1   150882  Life and adventures of a few Polish immigrants...   \n",
       "2   133828  When a cop-killer goes free, a detective's sea...   \n",
       "3   148404  The President is the story of a dictator of an...   \n",
       "4   119946  In the early days of the industrial revolution...   \n",
       "\n",
       "                            genres                          title  \\\n",
       "0  [TV Movie, Drama, History, War]  The Man Who Captured Eichmann   \n",
       "1                         [Comedy]                 Happy New York   \n",
       "2        [Thriller, Drama, Action]                       Mistrial   \n",
       "3                          [Drama]                  The President   \n",
       "4            [Drama, History, War]                The New Babylon   \n",
       "\n",
       "         keywords  \n",
       "0              []  \n",
       "1              []  \n",
       "2              []  \n",
       "3      [dictator]  \n",
       "4  [soviet union]  "
      ]
     },
     "execution_count": 6,
     "metadata": {},
     "output_type": "execute_result"
    }
   ],
   "source": [
    "data_tr = data_tr.reset_index().drop('index', 1)\n",
    "data_tr.head()"
   ]
  },
  {
   "cell_type": "code",
   "execution_count": 7,
   "id": "relative-montreal",
   "metadata": {},
   "outputs": [
    {
     "data": {
      "text/html": [
       "<div>\n",
       "<style scoped>\n",
       "    .dataframe tbody tr th:only-of-type {\n",
       "        vertical-align: middle;\n",
       "    }\n",
       "\n",
       "    .dataframe tbody tr th {\n",
       "        vertical-align: top;\n",
       "    }\n",
       "\n",
       "    .dataframe thead th {\n",
       "        text-align: right;\n",
       "    }\n",
       "</style>\n",
       "<table border=\"1\" class=\"dataframe\">\n",
       "  <thead>\n",
       "    <tr style=\"text-align: right;\">\n",
       "      <th></th>\n",
       "      <th>movieId</th>\n",
       "      <th>overview</th>\n",
       "      <th>genres</th>\n",
       "      <th>title</th>\n",
       "      <th>keywords</th>\n",
       "    </tr>\n",
       "  </thead>\n",
       "  <tbody>\n",
       "    <tr>\n",
       "      <th>33570</th>\n",
       "      <td>61352</td>\n",
       "      <td>When straight arrow FBI agent Roy Clayton head...</td>\n",
       "      <td>[Drama, Action, Thriller, Crime]</td>\n",
       "      <td>Traitor</td>\n",
       "      <td>[bomb, prison, alcohol, kidnapping, traitor, d...</td>\n",
       "    </tr>\n",
       "    <tr>\n",
       "      <th>33571</th>\n",
       "      <td>97913</td>\n",
       "      <td>Wreck-It Ralph is the 9-foot-tall, 643-pound v...</td>\n",
       "      <td>[Family, Animation, Comedy, Adventure]</td>\n",
       "      <td>Wreck-It Ralph</td>\n",
       "      <td>[support group, product placement, bullying, r...</td>\n",
       "    </tr>\n",
       "    <tr>\n",
       "      <th>33572</th>\n",
       "      <td>7408</td>\n",
       "      <td>Abbott and Costello's version of the famous fa...</td>\n",
       "      <td>[Comedy, Family, Fantasy]</td>\n",
       "      <td>Jack and the Beanstalk</td>\n",
       "      <td>[problem child, falling from height, black and...</td>\n",
       "    </tr>\n",
       "    <tr>\n",
       "      <th>33573</th>\n",
       "      <td>101448</td>\n",
       "      <td>My Last Five Girlfriends traces the romantic j...</td>\n",
       "      <td>[Romance, Comedy]</td>\n",
       "      <td>My Last Five Girlfriends</td>\n",
       "      <td>[independent film]</td>\n",
       "    </tr>\n",
       "    <tr>\n",
       "      <th>33574</th>\n",
       "      <td>161032</td>\n",
       "      <td>A young boy plants some strange seeds and they...</td>\n",
       "      <td>[Thriller, Action, Drama]</td>\n",
       "      <td>The Grandmother</td>\n",
       "      <td>[surreal, surrealism, dark]</td>\n",
       "    </tr>\n",
       "  </tbody>\n",
       "</table>\n",
       "</div>"
      ],
      "text/plain": [
       "       movieId                                           overview  \\\n",
       "33570    61352  When straight arrow FBI agent Roy Clayton head...   \n",
       "33571    97913  Wreck-It Ralph is the 9-foot-tall, 643-pound v...   \n",
       "33572     7408  Abbott and Costello's version of the famous fa...   \n",
       "33573   101448  My Last Five Girlfriends traces the romantic j...   \n",
       "33574   161032  A young boy plants some strange seeds and they...   \n",
       "\n",
       "                                       genres                     title  \\\n",
       "33570        [Drama, Action, Thriller, Crime]                   Traitor   \n",
       "33571  [Family, Animation, Comedy, Adventure]            Wreck-It Ralph   \n",
       "33572               [Comedy, Family, Fantasy]    Jack and the Beanstalk   \n",
       "33573                       [Romance, Comedy]  My Last Five Girlfriends   \n",
       "33574               [Thriller, Action, Drama]           The Grandmother   \n",
       "\n",
       "                                                keywords  \n",
       "33570  [bomb, prison, alcohol, kidnapping, traitor, d...  \n",
       "33571  [support group, product placement, bullying, r...  \n",
       "33572  [problem child, falling from height, black and...  \n",
       "33573                                 [independent film]  \n",
       "33574                        [surreal, surrealism, dark]  "
      ]
     },
     "execution_count": 7,
     "metadata": {},
     "output_type": "execute_result"
    }
   ],
   "source": [
    "data_tr.tail()"
   ]
  },
  {
   "cell_type": "code",
   "execution_count": 3,
   "id": "intellectual-hotel",
   "metadata": {},
   "outputs": [
    {
     "data": {
      "text/plain": [
       "(41969, 5)"
      ]
     },
     "execution_count": 3,
     "metadata": {},
     "output_type": "execute_result"
    }
   ],
   "source": [
    "movies.shape"
   ]
  },
  {
   "cell_type": "code",
   "execution_count": 4,
   "id": "atomic-johnston",
   "metadata": {},
   "outputs": [
    {
     "data": {
      "text/plain": [
       "17493"
      ]
     },
     "execution_count": 4,
     "metadata": {},
     "output_type": "execute_result"
    }
   ],
   "source": [
    "unique_sid = list()\n",
    "with open('../data/processed/4_5_5_False_15000/unique_sid.txt', 'r') as f:\n",
    "    for line in f:\n",
    "        unique_sid.append(int(line.strip()))\n",
    "        \n",
    "len(unique_sid)"
   ]
  },
  {
   "cell_type": "code",
   "execution_count": 5,
   "id": "crazy-politics",
   "metadata": {},
   "outputs": [
    {
     "data": {
      "text/plain": [
       "(17493, 5)"
      ]
     },
     "execution_count": 5,
     "metadata": {},
     "output_type": "execute_result"
    }
   ],
   "source": [
    "movies = movies[movies['movieId'].isin(unique_sid)]\n",
    "movies.shape"
   ]
  },
  {
   "cell_type": "code",
   "execution_count": 7,
   "id": "disabled-yorkshire",
   "metadata": {},
   "outputs": [],
   "source": [
    "from torch.utils.data import DataLoader, random_split"
   ]
  },
  {
   "cell_type": "code",
   "execution_count": 8,
   "id": "agreed-cookie",
   "metadata": {},
   "outputs": [],
   "source": [
    "train_data, val_data = random_split(movies, [15000, 2493])"
   ]
  },
  {
   "cell_type": "code",
   "execution_count": 9,
   "id": "respected-spine",
   "metadata": {},
   "outputs": [
    {
     "ename": "AttributeError",
     "evalue": "'Subset' object has no attribute 'shape'",
     "output_type": "error",
     "traceback": [
      "\u001b[0;31m---------------------------------------------------------------------------\u001b[0m",
      "\u001b[0;31mAttributeError\u001b[0m                            Traceback (most recent call last)",
      "\u001b[0;32m<ipython-input-9-cc5989077d07>\u001b[0m in \u001b[0;36m<module>\u001b[0;34m\u001b[0m\n\u001b[0;32m----> 1\u001b[0;31m \u001b[0mtrain_data\u001b[0m\u001b[0;34m.\u001b[0m\u001b[0mshape\u001b[0m\u001b[0;34m,\u001b[0m \u001b[0mval_data\u001b[0m\u001b[0;34m.\u001b[0m\u001b[0mshape\u001b[0m\u001b[0;34m\u001b[0m\u001b[0;34m\u001b[0m\u001b[0m\n\u001b[0m",
      "\u001b[0;31mAttributeError\u001b[0m: 'Subset' object has no attribute 'shape'"
     ]
    }
   ],
   "source": [
    "train_data.shape, val_data.shape"
   ]
  },
  {
   "cell_type": "code",
   "execution_count": 12,
   "id": "emotional-multimedia",
   "metadata": {},
   "outputs": [
    {
     "data": {
      "text/html": [
       "<div>\n",
       "<style scoped>\n",
       "    .dataframe tbody tr th:only-of-type {\n",
       "        vertical-align: middle;\n",
       "    }\n",
       "\n",
       "    .dataframe tbody tr th {\n",
       "        vertical-align: top;\n",
       "    }\n",
       "\n",
       "    .dataframe thead th {\n",
       "        text-align: right;\n",
       "    }\n",
       "</style>\n",
       "<table border=\"1\" class=\"dataframe\">\n",
       "  <thead>\n",
       "    <tr style=\"text-align: right;\">\n",
       "      <th></th>\n",
       "      <th>movieId</th>\n",
       "      <th>text</th>\n",
       "      <th>genres</th>\n",
       "      <th>title</th>\n",
       "      <th>keywords</th>\n",
       "    </tr>\n",
       "  </thead>\n",
       "  <tbody>\n",
       "    <tr>\n",
       "      <th>0</th>\n",
       "      <td>1</td>\n",
       "      <td>Led by Woody, Andy's toys live happily in his ...</td>\n",
       "      <td>[Animation, Comedy, Family]</td>\n",
       "      <td>Toy Story</td>\n",
       "      <td>[jealousy, toy, boy, friendship, friends, riva...</td>\n",
       "    </tr>\n",
       "    <tr>\n",
       "      <th>1</th>\n",
       "      <td>2</td>\n",
       "      <td>When siblings Judy and Peter discover an encha...</td>\n",
       "      <td>[Adventure, Fantasy, Family]</td>\n",
       "      <td>Jumanji</td>\n",
       "      <td>[board game, disappearance, based on children'...</td>\n",
       "    </tr>\n",
       "  </tbody>\n",
       "</table>\n",
       "</div>"
      ],
      "text/plain": [
       "   movieId                                               text  \\\n",
       "0        1  Led by Woody, Andy's toys live happily in his ...   \n",
       "1        2  When siblings Judy and Peter discover an encha...   \n",
       "\n",
       "                         genres      title  \\\n",
       "0   [Animation, Comedy, Family]  Toy Story   \n",
       "1  [Adventure, Fantasy, Family]    Jumanji   \n",
       "\n",
       "                                            keywords  \n",
       "0  [jealousy, toy, boy, friendship, friends, riva...  \n",
       "1  [board game, disappearance, based on children'...  "
      ]
     },
     "execution_count": 12,
     "metadata": {},
     "output_type": "execute_result"
    }
   ],
   "source": [
    "movies.head(2)\n",
    "movies.rename(columns={'overview': 'text'}, inplace=True)\n",
    "movies.head(2)"
   ]
  },
  {
   "cell_type": "code",
   "execution_count": 13,
   "id": "sharp-alcohol",
   "metadata": {},
   "outputs": [
    {
     "data": {
      "text/plain": [
       "{'Thriller': 0,\n",
       " 'Foreign': 1,\n",
       " 'Adventure': 2,\n",
       " 'TV Movie': 3,\n",
       " 'Mystery': 4,\n",
       " 'Music': 5,\n",
       " 'War': 6,\n",
       " 'Horror': 7,\n",
       " 'Science Fiction': 8,\n",
       " 'Fantasy': 9,\n",
       " 'Documentary': 10,\n",
       " 'Comedy': 11,\n",
       " 'Animation': 12,\n",
       " 'Romance': 13,\n",
       " 'Drama': 14,\n",
       " 'Family': 15,\n",
       " 'Western': 16,\n",
       " 'Action': 17,\n",
       " 'Crime': 18,\n",
       " 'History': 19}"
      ]
     },
     "execution_count": 13,
     "metadata": {},
     "output_type": "execute_result"
    }
   ],
   "source": [
    "genres_list = [x for sublist in movies.genres.tolist() for x in sublist]\n",
    "genres = set(genres_list)\n",
    "genre2id = dict((pid, i) for (i, pid) in enumerate(genres))\n",
    "genre2id"
   ]
  },
  {
   "cell_type": "code",
   "execution_count": 14,
   "id": "imperial-accounting",
   "metadata": {},
   "outputs": [
    {
     "data": {
      "text/plain": [
       "20"
      ]
     },
     "execution_count": 14,
     "metadata": {},
     "output_type": "execute_result"
    }
   ],
   "source": [
    "num_genre = len(genres)\n",
    "num_genre"
   ]
  },
  {
   "cell_type": "code",
   "execution_count": 16,
   "id": "photographic-currency",
   "metadata": {},
   "outputs": [
    {
     "data": {
      "text/html": [
       "<div>\n",
       "<style scoped>\n",
       "    .dataframe tbody tr th:only-of-type {\n",
       "        vertical-align: middle;\n",
       "    }\n",
       "\n",
       "    .dataframe tbody tr th {\n",
       "        vertical-align: top;\n",
       "    }\n",
       "\n",
       "    .dataframe thead th {\n",
       "        text-align: right;\n",
       "    }\n",
       "</style>\n",
       "<table border=\"1\" class=\"dataframe\">\n",
       "  <thead>\n",
       "    <tr style=\"text-align: right;\">\n",
       "      <th></th>\n",
       "      <th>movieId</th>\n",
       "      <th>text</th>\n",
       "      <th>genres</th>\n",
       "      <th>title</th>\n",
       "      <th>keywords</th>\n",
       "      <th>label</th>\n",
       "    </tr>\n",
       "  </thead>\n",
       "  <tbody>\n",
       "    <tr>\n",
       "      <th>0</th>\n",
       "      <td>1</td>\n",
       "      <td>Led by Woody, Andy's toys live happily in his ...</td>\n",
       "      <td>[Animation, Comedy, Family]</td>\n",
       "      <td>Toy Story</td>\n",
       "      <td>[jealousy, toy, boy, friendship, friends, riva...</td>\n",
       "      <td>[0.0, 0.0, 0.0, 0.0, 0.0, 0.0, 0.0, 0.0, 0.0, ...</td>\n",
       "    </tr>\n",
       "    <tr>\n",
       "      <th>1</th>\n",
       "      <td>2</td>\n",
       "      <td>When siblings Judy and Peter discover an encha...</td>\n",
       "      <td>[Adventure, Fantasy, Family]</td>\n",
       "      <td>Jumanji</td>\n",
       "      <td>[board game, disappearance, based on children'...</td>\n",
       "      <td>[0.0, 0.0, 1.0, 0.0, 0.0, 0.0, 0.0, 0.0, 0.0, ...</td>\n",
       "    </tr>\n",
       "  </tbody>\n",
       "</table>\n",
       "</div>"
      ],
      "text/plain": [
       "   movieId                                               text  \\\n",
       "0        1  Led by Woody, Andy's toys live happily in his ...   \n",
       "1        2  When siblings Judy and Peter discover an encha...   \n",
       "\n",
       "                         genres      title  \\\n",
       "0   [Animation, Comedy, Family]  Toy Story   \n",
       "1  [Adventure, Fantasy, Family]    Jumanji   \n",
       "\n",
       "                                            keywords  \\\n",
       "0  [jealousy, toy, boy, friendship, friends, riva...   \n",
       "1  [board game, disappearance, based on children'...   \n",
       "\n",
       "                                               label  \n",
       "0  [0.0, 0.0, 0.0, 0.0, 0.0, 0.0, 0.0, 0.0, 0.0, ...  \n",
       "1  [0.0, 0.0, 1.0, 0.0, 0.0, 0.0, 0.0, 0.0, 0.0, ...  "
      ]
     },
     "execution_count": 16,
     "metadata": {},
     "output_type": "execute_result"
    }
   ],
   "source": [
    "def gen(x, num_genre):\n",
    "    tmp = [0.0]*num_genre\n",
    "    for g in x:\n",
    "        tmp[genre2id[g]] = 1.0\n",
    "        \n",
    "    return tmp\n",
    "\n",
    "movies['label'] = movies['genres'].map(lambda x : gen(x, genre2id, num_genre))\n",
    "movies.head(2)"
   ]
  },
  {
   "cell_type": "code",
   "execution_count": 17,
   "id": "outside-intelligence",
   "metadata": {},
   "outputs": [
    {
     "data": {
      "text/plain": [
       "['Animation', 'Comedy', 'Family']"
      ]
     },
     "execution_count": 17,
     "metadata": {},
     "output_type": "execute_result"
    }
   ],
   "source": [
    "movies.iloc[0].genres"
   ]
  },
  {
   "cell_type": "code",
   "execution_count": 18,
   "id": "acting-graduation",
   "metadata": {},
   "outputs": [
    {
     "data": {
      "text/plain": [
       "[0.0,\n",
       " 0.0,\n",
       " 0.0,\n",
       " 0.0,\n",
       " 0.0,\n",
       " 0.0,\n",
       " 0.0,\n",
       " 0.0,\n",
       " 0.0,\n",
       " 0.0,\n",
       " 0.0,\n",
       " 1.0,\n",
       " 1.0,\n",
       " 0.0,\n",
       " 0.0,\n",
       " 1.0,\n",
       " 0.0,\n",
       " 0.0,\n",
       " 0.0,\n",
       " 0.0]"
      ]
     },
     "execution_count": 18,
     "metadata": {},
     "output_type": "execute_result"
    }
   ],
   "source": [
    "movies.iloc[0].label"
   ]
  },
  {
   "cell_type": "code",
   "execution_count": 8,
   "id": "quick-single",
   "metadata": {},
   "outputs": [
    {
     "data": {
      "text/plain": [
       "0    Led by Woody, Andy's toys live happily in his ...\n",
       "1    When siblings Judy and Peter discover an encha...\n",
       "Name: overview, dtype: object"
      ]
     },
     "execution_count": 8,
     "metadata": {},
     "output_type": "execute_result"
    }
   ],
   "source": [
    "data = movies['overview']\n",
    "data.head(2)"
   ]
  },
  {
   "cell_type": "code",
   "execution_count": 9,
   "id": "adapted-princeton",
   "metadata": {},
   "outputs": [
    {
     "data": {
      "text/plain": [
       "0    Led by Woody, Andy's toys live happily in his ...\n",
       "1    When siblings Judy and Peter discover an encha...\n",
       "Name: text, dtype: object"
      ]
     },
     "execution_count": 9,
     "metadata": {},
     "output_type": "execute_result"
    }
   ],
   "source": [
    "data.name = 'text'\n",
    "data.head(2)"
   ]
  },
  {
   "cell_type": "code",
   "execution_count": 10,
   "id": "grave-shelf",
   "metadata": {},
   "outputs": [],
   "source": [
    "data.to_csv('../data/mask_language_model/text.csv', index=False)"
   ]
  },
  {
   "cell_type": "code",
   "execution_count": 11,
   "id": "sharp-python",
   "metadata": {},
   "outputs": [
    {
     "ename": "ModuleNotFoundError",
     "evalue": "No module named 'sklearn'",
     "output_type": "error",
     "traceback": [
      "\u001b[0;31m---------------------------------------------------------------------------\u001b[0m",
      "\u001b[0;31mModuleNotFoundError\u001b[0m                       Traceback (most recent call last)",
      "\u001b[0;32m<ipython-input-11-73edc048c06b>\u001b[0m in \u001b[0;36m<module>\u001b[0;34m\u001b[0m\n\u001b[0;32m----> 1\u001b[0;31m \u001b[0;32mfrom\u001b[0m \u001b[0msklearn\u001b[0m\u001b[0;34m.\u001b[0m\u001b[0mmodel_selection\u001b[0m \u001b[0;32mimport\u001b[0m \u001b[0mtrain_test_split\u001b[0m\u001b[0;34m\u001b[0m\u001b[0;34m\u001b[0m\u001b[0m\n\u001b[0m",
      "\u001b[0;31mModuleNotFoundError\u001b[0m: No module named 'sklearn'"
     ]
    }
   ],
   "source": [
    "from sklearn.model_selection import train_test_split"
   ]
  },
  {
   "cell_type": "code",
   "execution_count": 28,
   "id": "eight-breeding",
   "metadata": {},
   "outputs": [],
   "source": [
    "index = list(range(data.shape[0]))"
   ]
  },
  {
   "cell_type": "code",
   "execution_count": 29,
   "id": "systematic-force",
   "metadata": {},
   "outputs": [],
   "source": [
    "np.random.shuffle(index)"
   ]
  },
  {
   "cell_type": "code",
   "execution_count": 36,
   "id": "organizational-reservation",
   "metadata": {},
   "outputs": [
    {
     "data": {
      "text/plain": [
       "(14493,)"
      ]
     },
     "execution_count": 36,
     "metadata": {},
     "output_type": "execute_result"
    }
   ],
   "source": [
    "train_data = data.iloc[index[:-3000]]\n",
    "train_data.shape"
   ]
  },
  {
   "cell_type": "code",
   "execution_count": 37,
   "id": "checked-gather",
   "metadata": {},
   "outputs": [
    {
     "data": {
      "text/plain": [
       "15748    The Fighter, is a drama about boxer \"Irish\" Mi...\n",
       "14494    Three bad girls (a down-and-out stripper, a dr...\n",
       "Name: text, dtype: object"
      ]
     },
     "execution_count": 37,
     "metadata": {},
     "output_type": "execute_result"
    }
   ],
   "source": [
    "train_data.head(2)"
   ]
  },
  {
   "cell_type": "code",
   "execution_count": 38,
   "id": "connected-reminder",
   "metadata": {},
   "outputs": [
    {
     "data": {
      "text/plain": [
       "(3000,)"
      ]
     },
     "execution_count": 38,
     "metadata": {},
     "output_type": "execute_result"
    }
   ],
   "source": [
    "vad_data = data.iloc[index[-3000:]]\n",
    "vad_data.shape"
   ]
  },
  {
   "cell_type": "code",
   "execution_count": 39,
   "id": "cardiac-collar",
   "metadata": {},
   "outputs": [],
   "source": [
    "train_data.to_csv('../data/mask_language_model/train_data.csv', index=False)\n",
    "vad_data.to_csv('../data/mask_language_model/vad_data.csv', index=False)"
   ]
  },
  {
   "cell_type": "code",
   "execution_count": 8,
   "id": "piano-metabolism",
   "metadata": {},
   "outputs": [
    {
     "data": {
      "text/plain": [
       "17493"
      ]
     },
     "execution_count": 8,
     "metadata": {},
     "output_type": "execute_result"
    }
   ],
   "source": [
    "14493 + 3000"
   ]
  },
  {
   "cell_type": "code",
   "execution_count": 10,
   "id": "particular-polls",
   "metadata": {},
   "outputs": [
    {
     "data": {
      "text/plain": [
       "2623.95"
      ]
     },
     "execution_count": 10,
     "metadata": {},
     "output_type": "execute_result"
    }
   ],
   "source": [
    "17493*0.15"
   ]
  },
  {
   "cell_type": "code",
   "execution_count": 1,
   "id": "stable-jacket",
   "metadata": {},
   "outputs": [],
   "source": [
    "from sklearn.metrics import classification_report"
   ]
  },
  {
   "cell_type": "code",
   "execution_count": 2,
   "id": "australian-january",
   "metadata": {},
   "outputs": [],
   "source": [
    "import torch"
   ]
  },
  {
   "cell_type": "code",
   "execution_count": 31,
   "id": "martial-strip",
   "metadata": {},
   "outputs": [
    {
     "data": {
      "text/plain": [
       "tensor([0.6000, 0.1000, 0.8000, 0.9000], device='cuda:0')"
      ]
     },
     "execution_count": 31,
     "metadata": {},
     "output_type": "execute_result"
    }
   ],
   "source": [
    "y_pred = torch.FloatTensor( [0.6, 0.1, 0.8, 0.9]).to('cuda')\n",
    "y_pred"
   ]
  },
  {
   "cell_type": "code",
   "execution_count": 32,
   "id": "after-checklist",
   "metadata": {},
   "outputs": [
    {
     "data": {
      "text/plain": [
       "tensor(0.6000, device='cuda:0')"
      ]
     },
     "execution_count": 32,
     "metadata": {},
     "output_type": "execute_result"
    }
   ],
   "source": [
    "torch.mean(y_pred)"
   ]
  },
  {
   "cell_type": "code",
   "execution_count": 18,
   "id": "royal-cycling",
   "metadata": {},
   "outputs": [
    {
     "data": {
      "text/plain": [
       "tensor([[0., 0., 1., 0.],\n",
       "        [0., 0., 1., 0.]], device='cuda:0')"
      ]
     },
     "execution_count": 18,
     "metadata": {},
     "output_type": "execute_result"
    }
   ],
   "source": [
    "label = torch.FloatTensor([[0.0, 0.0, 1.0, 0.0], [0.0, 0.0, 1.0, 0.0]]).to('cuda')\n",
    "label"
   ]
  },
  {
   "cell_type": "code",
   "execution_count": 25,
   "id": "meaningful-rochester",
   "metadata": {},
   "outputs": [
    {
     "data": {
      "text/plain": [
       "tensor([[0., 1., 1., 0.],\n",
       "        [1., 0., 1., 1.]], device='cuda:0')"
      ]
     },
     "execution_count": 25,
     "metadata": {},
     "output_type": "execute_result"
    }
   ],
   "source": [
    "bi_pred = (y_pred > 0.5).float()\n",
    "bi_pred"
   ]
  },
  {
   "cell_type": "code",
   "execution_count": 21,
   "id": "chief-ferry",
   "metadata": {},
   "outputs": [
    {
     "data": {
      "text/plain": [
       "tensor([[0., 1., 2., 0.],\n",
       "        [1., 0., 2., 1.]], device='cuda:0')"
      ]
     },
     "execution_count": 21,
     "metadata": {},
     "output_type": "execute_result"
    }
   ],
   "source": [
    "bi_pred += label\n",
    "bi_pred"
   ]
  },
  {
   "cell_type": "code",
   "execution_count": 30,
   "id": "strategic-weekly",
   "metadata": {},
   "outputs": [
    {
     "data": {
      "text/plain": [
       "tensor(0.3750, device='cuda:0')"
      ]
     },
     "execution_count": 30,
     "metadata": {},
     "output_type": "execute_result"
    }
   ],
   "source": [
    "((bi_pred == 2).sum() + (bi_pred == 0).sum()).float() / (y_pred.shape[0] * y_pred.shape[1])"
   ]
  },
  {
   "cell_type": "code",
   "execution_count": 28,
   "id": "union-netherlands",
   "metadata": {},
   "outputs": [
    {
     "name": "stdout",
     "output_type": "stream",
     "text": [
      "              precision    recall  f1-score   support\n",
      "\n",
      "           0      0.000     0.000     0.000         0\n",
      "           1      0.000     0.000     0.000         0\n",
      "           2      1.000     1.000     1.000         2\n",
      "           3      0.000     0.000     0.000         0\n",
      "\n",
      "   micro avg      0.400     1.000     0.571         2\n",
      "   macro avg      0.250     0.250     0.250         2\n",
      "weighted avg      1.000     1.000     1.000         2\n",
      " samples avg      0.417     1.000     0.583         2\n",
      "\n"
     ]
    },
    {
     "name": "stderr",
     "output_type": "stream",
     "text": [
      "/home/nghia/Documents/dev/machine_learning_projects/movie_recommendation/venv/lib/python3.8/site-packages/sklearn/metrics/_classification.py:1245: UndefinedMetricWarning: Recall and F-score are ill-defined and being set to 0.0 in labels with no true samples. Use `zero_division` parameter to control this behavior.\n",
      "  _warn_prf(average, modifier, msg_start, len(result))\n"
     ]
    }
   ],
   "source": [
    "print(classification_report(label.cpu(), bi_pred.cpu(), digits=3))"
   ]
  },
  {
   "cell_type": "markdown",
   "id": "solid-thickness",
   "metadata": {},
   "source": [
    "## Load trained model and compute embedding"
   ]
  },
  {
   "cell_type": "code",
   "execution_count": 1,
   "id": "cheap-aquarium",
   "metadata": {},
   "outputs": [],
   "source": [
    "start = 17000\n",
    "end = start + 1000"
   ]
  },
  {
   "cell_type": "code",
   "execution_count": 1,
   "id": "sublime-endorsement",
   "metadata": {},
   "outputs": [],
   "source": [
    "import os\n",
    "import sys\n",
    "\n",
    "\"append parent directory so that we can import sibling module\"\n",
    "\n",
    "parent_dir = os.path.dirname(os.path.abspath('.'))\n",
    "sys.path.append(parent_dir)"
   ]
  },
  {
   "cell_type": "code",
   "execution_count": 2,
   "id": "growing-forward",
   "metadata": {},
   "outputs": [],
   "source": [
    "from data_loader.movie_loader import MovieDataset\n",
    "from model.model import MovieEmbedding\n",
    "from model.batch import TokenizersCollateFn\n",
    "from model.metric import compute_accuracy\n",
    "from utils.utils import plot_results\n",
    "\n",
    "import numpy as np\n",
    "import pandas as pd\n",
    "import random\n",
    "import argparse\n",
    "import json\n",
    "import os\n",
    "import logging\n",
    "import time\n",
    "import ast\n",
    "from sklearn.model_selection import train_test_split\n",
    "from transformers import AdamW, get_linear_schedule_with_warmup\n",
    "import pickle\n",
    "import torch\n",
    "from torch.utils.data import DataLoader\n",
    "from torch.utils.tensorboard import SummaryWriter"
   ]
  },
  {
   "cell_type": "code",
   "execution_count": 4,
   "id": "dental-insert",
   "metadata": {},
   "outputs": [],
   "source": [
    "save_path = \"../saved/movie_embedding_1\""
   ]
  },
  {
   "cell_type": "code",
   "execution_count": 5,
   "id": "auburn-psychology",
   "metadata": {},
   "outputs": [
    {
     "data": {
      "text/plain": [
       "{'pretrained_model_name_or_path': 'roberta-base',\n",
       " 'pretrained_dir_cache': 'data/pretrained_model/roberta-base',\n",
       " 'pretrained_tokenizer_name_or_path': 'roberta-base',\n",
       " 'tokenizer_dir_cache': 'data/tokenizer/roberta-base',\n",
       " 'tokenizer_use_fast': 1,\n",
       " 'sequence_max_length': 256,\n",
       " 'padding': 'longest',\n",
       " 'truncation': 'longest_first',\n",
       " 'classifier_hidden_size': 512,\n",
       " 'dropout': 0.2,\n",
       " 'data_dir': 'data/movies_w_description.csv',\n",
       " 'selected_id_dir': 'data/processed/4_5_5_False_15000/unique_sid.txt',\n",
       " 'save_dir': 'saved/movie_embedding_1',\n",
       " 'n_classes': 20,\n",
       " 'device': 'cuda',\n",
       " 'seed': 2021,\n",
       " 'tr_batch_size': 16,\n",
       " 'vad_batch_size': 16,\n",
       " 'learning_rate': 8e-05,\n",
       " 'l2_reg': 0,\n",
       " 'epochs': 20,\n",
       " 'warmup_steps': 500,\n",
       " 'freeze_encoder_after_epochs': 2,\n",
       " 'accumulate_grad_batches': 8,\n",
       " 'msg': 'try freeze_encoder_after_steps + RReLU'}"
      ]
     },
     "execution_count": 5,
     "metadata": {},
     "output_type": "execute_result"
    }
   ],
   "source": [
    "config = json.load(open(os.path.join(save_path, \"config/config.json\")))\n",
    "config"
   ]
  },
  {
   "cell_type": "code",
   "execution_count": 6,
   "id": "blond-american",
   "metadata": {},
   "outputs": [],
   "source": [
    "config['tokenizer_dir_cache'] = '../data/tokenizer/roberta-base'\n",
    "config['pretrained_tokenizer_name_or_path'] = 'roberta-base'\n",
    "\n",
    "config['pretrained_model_name_or_path'] = 'roberta-base'\n",
    "config['pretrained_dir_cache'] = '../data/pretrained_model/roberta-base'"
   ]
  },
  {
   "cell_type": "code",
   "execution_count": 7,
   "id": "above-offset",
   "metadata": {},
   "outputs": [
    {
     "data": {
      "text/plain": [
       "(41969, 5)"
      ]
     },
     "execution_count": 7,
     "metadata": {},
     "output_type": "execute_result"
    }
   ],
   "source": [
    "movies = pd.read_csv(\"../\" + config['data_dir'])\n",
    "movies.drop_duplicates('movieId', inplace=True)\n",
    "movies.rename(columns={'overview': 'text'}, inplace=True)\n",
    "movies['genres'] = movies['genres'].map(ast.literal_eval)\n",
    "movies['keywords'] = movies['keywords'].map(ast.literal_eval)\n",
    "movies.shape"
   ]
  },
  {
   "cell_type": "code",
   "execution_count": 8,
   "id": "integral-engagement",
   "metadata": {},
   "outputs": [],
   "source": [
    "unique_sid = list()\n",
    "with open(\"../\" + config['selected_id_dir'], 'r') as f:\n",
    "    for line in f:\n",
    "        unique_sid.append(int(line.strip()))"
   ]
  },
  {
   "cell_type": "code",
   "execution_count": 9,
   "id": "intended-mailing",
   "metadata": {},
   "outputs": [],
   "source": [
    "mid = dict((i, s) for (s, i) in enumerate(unique_sid))"
   ]
  },
  {
   "cell_type": "code",
   "execution_count": 10,
   "id": "handy-carbon",
   "metadata": {},
   "outputs": [
    {
     "data": {
      "text/plain": [
       "(17493, 5)"
      ]
     },
     "execution_count": 10,
     "metadata": {},
     "output_type": "execute_result"
    }
   ],
   "source": [
    "movies = movies[movies['movieId'].isin(unique_sid)]\n",
    "movies.shape"
   ]
  },
  {
   "cell_type": "code",
   "execution_count": 11,
   "id": "sticky-teacher",
   "metadata": {},
   "outputs": [
    {
     "data": {
      "text/html": [
       "<div>\n",
       "<style scoped>\n",
       "    .dataframe tbody tr th:only-of-type {\n",
       "        vertical-align: middle;\n",
       "    }\n",
       "\n",
       "    .dataframe tbody tr th {\n",
       "        vertical-align: top;\n",
       "    }\n",
       "\n",
       "    .dataframe thead th {\n",
       "        text-align: right;\n",
       "    }\n",
       "</style>\n",
       "<table border=\"1\" class=\"dataframe\">\n",
       "  <thead>\n",
       "    <tr style=\"text-align: right;\">\n",
       "      <th></th>\n",
       "      <th>movieId</th>\n",
       "      <th>text</th>\n",
       "      <th>genres</th>\n",
       "      <th>title</th>\n",
       "      <th>keywords</th>\n",
       "      <th>mid</th>\n",
       "    </tr>\n",
       "  </thead>\n",
       "  <tbody>\n",
       "    <tr>\n",
       "      <th>41831</th>\n",
       "      <td>175795</td>\n",
       "      <td>When the pressure to be royal becomes too much...</td>\n",
       "      <td>[TV Movie, Family, Action, Comedy, Music, Adve...</td>\n",
       "      <td>Descendants 2</td>\n",
       "      <td>[fairy tale, villain, musical, teen movie, tee...</td>\n",
       "      <td>17185</td>\n",
       "    </tr>\n",
       "    <tr>\n",
       "      <th>41977</th>\n",
       "      <td>176211</td>\n",
       "      <td>A closeted boy runs the risk of being outed by...</td>\n",
       "      <td>[Family, Animation, Romance, Comedy]</td>\n",
       "      <td>In a Heartbeat</td>\n",
       "      <td>[love, teenager, lgbt, short]</td>\n",
       "      <td>11276</td>\n",
       "    </tr>\n",
       "  </tbody>\n",
       "</table>\n",
       "</div>"
      ],
      "text/plain": [
       "       movieId                                               text  \\\n",
       "41831   175795  When the pressure to be royal becomes too much...   \n",
       "41977   176211  A closeted boy runs the risk of being outed by...   \n",
       "\n",
       "                                                  genres           title  \\\n",
       "41831  [TV Movie, Family, Action, Comedy, Music, Adve...   Descendants 2   \n",
       "41977               [Family, Animation, Romance, Comedy]  In a Heartbeat   \n",
       "\n",
       "                                                keywords    mid  \n",
       "41831  [fairy tale, villain, musical, teen movie, tee...  17185  \n",
       "41977                      [love, teenager, lgbt, short]  11276  "
      ]
     },
     "execution_count": 11,
     "metadata": {},
     "output_type": "execute_result"
    }
   ],
   "source": [
    "movies['mid'] = movies['movieId'].map(mid)\n",
    "movies.tail(2)"
   ]
  },
  {
   "cell_type": "code",
   "execution_count": 12,
   "id": "collected-swift",
   "metadata": {},
   "outputs": [
    {
     "data": {
      "text/html": [
       "<div>\n",
       "<style scoped>\n",
       "    .dataframe tbody tr th:only-of-type {\n",
       "        vertical-align: middle;\n",
       "    }\n",
       "\n",
       "    .dataframe tbody tr th {\n",
       "        vertical-align: top;\n",
       "    }\n",
       "\n",
       "    .dataframe thead th {\n",
       "        text-align: right;\n",
       "    }\n",
       "</style>\n",
       "<table border=\"1\" class=\"dataframe\">\n",
       "  <thead>\n",
       "    <tr style=\"text-align: right;\">\n",
       "      <th></th>\n",
       "      <th>movieId</th>\n",
       "      <th>text</th>\n",
       "      <th>genres</th>\n",
       "      <th>title</th>\n",
       "      <th>keywords</th>\n",
       "      <th>mid</th>\n",
       "    </tr>\n",
       "  </thead>\n",
       "  <tbody>\n",
       "    <tr>\n",
       "      <th>17491</th>\n",
       "      <td>69187</td>\n",
       "      <td>A remake of the hugely successful Malayalam fi...</td>\n",
       "      <td>[Comedy, Drama]</td>\n",
       "      <td>Billu</td>\n",
       "      <td>[barbershop, actors, remake of malayalam film]</td>\n",
       "      <td>17491</td>\n",
       "    </tr>\n",
       "    <tr>\n",
       "      <th>17492</th>\n",
       "      <td>135759</td>\n",
       "      <td>A historical drama set in the Koryo dynasty an...</td>\n",
       "      <td>[Drama]</td>\n",
       "      <td>A Frozen Flower</td>\n",
       "      <td>[adultery, sword fight, romance, betrayal, tra...</td>\n",
       "      <td>17492</td>\n",
       "    </tr>\n",
       "  </tbody>\n",
       "</table>\n",
       "</div>"
      ],
      "text/plain": [
       "       movieId                                               text  \\\n",
       "17491    69187  A remake of the hugely successful Malayalam fi...   \n",
       "17492   135759  A historical drama set in the Koryo dynasty an...   \n",
       "\n",
       "                genres            title  \\\n",
       "17491  [Comedy, Drama]            Billu   \n",
       "17492          [Drama]  A Frozen Flower   \n",
       "\n",
       "                                                keywords    mid  \n",
       "17491     [barbershop, actors, remake of malayalam film]  17491  \n",
       "17492  [adultery, sword fight, romance, betrayal, tra...  17492  "
      ]
     },
     "execution_count": 12,
     "metadata": {},
     "output_type": "execute_result"
    }
   ],
   "source": [
    "movies.sort_values('mid', inplace=True)\n",
    "movies = movies.reset_index().drop('index', 1)\n",
    "movies.tail(2)"
   ]
  },
  {
   "cell_type": "code",
   "execution_count": 13,
   "id": "major-lemon",
   "metadata": {},
   "outputs": [],
   "source": [
    "tokenizer = TokenizersCollateFn(config)"
   ]
  },
  {
   "cell_type": "code",
   "execution_count": 14,
   "id": "hearing-easter",
   "metadata": {},
   "outputs": [
    {
     "data": {
      "text/plain": [
       "<All keys matched successfully>"
      ]
     },
     "execution_count": 14,
     "metadata": {},
     "output_type": "execute_result"
    }
   ],
   "source": [
    "model = MovieEmbedding(config)\n",
    "\n",
    "model.load_state_dict(torch.load(os.path.join(save_path, \"model/model.pt\")))"
   ]
  },
  {
   "cell_type": "code",
   "execution_count": 15,
   "id": "virtual-timer",
   "metadata": {},
   "outputs": [
    {
     "data": {
      "text/plain": [
       "(493, 6)"
      ]
     },
     "execution_count": 15,
     "metadata": {},
     "output_type": "execute_result"
    }
   ],
   "source": [
    "df = movies[start:end]\n",
    "df.shape"
   ]
  },
  {
   "cell_type": "code",
   "execution_count": 16,
   "id": "veterinary-frontier",
   "metadata": {},
   "outputs": [],
   "source": [
    "embs = []\n",
    "\n",
    "for index, row in df.iterrows():\n",
    "    text = row['text']\n",
    "    encoded = tokenizer.tokenizer.encode_plus(text, \n",
    "                                              add_special_tokens=True, \n",
    "                                              return_tensors='pt', \n",
    "                                              return_attention_mask=True)\n",
    "\n",
    "    out = model.encoder(encoded.input_ids, encoded.attention_mask)\n",
    "    embs.append(out[0][:, 0, :].tolist())"
   ]
  },
  {
   "cell_type": "code",
   "execution_count": 17,
   "id": "divine-disease",
   "metadata": {},
   "outputs": [],
   "source": [
    "name = save_path + \"/embs/\" + str(start) + \".pck\"\n",
    "with open(name, 'wb') as fp:\n",
    "    pickle.dump(embs, fp)"
   ]
  },
  {
   "cell_type": "code",
   "execution_count": 18,
   "id": "incident-velvet",
   "metadata": {},
   "outputs": [],
   "source": [
    "# with open (name, 'rb') as fp:\n",
    "#     hehe = pickle.load(fp)"
   ]
  },
  {
   "cell_type": "code",
   "execution_count": 78,
   "id": "possible-treat",
   "metadata": {},
   "outputs": [],
   "source": [
    "embs = []"
   ]
  },
  {
   "cell_type": "code",
   "execution_count": 116,
   "id": "incoming-acoustic",
   "metadata": {},
   "outputs": [],
   "source": [
    "start = embs.shape[0]\n",
    "name = save_path + \"/embs/\" + str(start) + \".pck\"\n",
    "with open (name, 'rb') as fp:\n",
    "    hehe = np.array(pickle.load(fp))"
   ]
  },
  {
   "cell_type": "code",
   "execution_count": 117,
   "id": "objective-disorder",
   "metadata": {},
   "outputs": [
    {
     "data": {
      "text/plain": [
       "(17493, 768)"
      ]
     },
     "execution_count": 117,
     "metadata": {},
     "output_type": "execute_result"
    }
   ],
   "source": [
    "embs = np.concatenate((embs, hehe.reshape(hehe.shape[0], 768)))\n",
    "embs.shape"
   ]
  },
  {
   "cell_type": "code",
   "execution_count": 118,
   "id": "imported-moisture",
   "metadata": {},
   "outputs": [],
   "source": [
    "name = save_path + \"/embs/embedding.pck\"\n",
    "with open(name, 'wb') as fp:\n",
    "    pickle.dump(embs, fp)"
   ]
  },
  {
   "cell_type": "code",
   "execution_count": 131,
   "id": "young-nightlife",
   "metadata": {},
   "outputs": [
    {
     "data": {
      "text/plain": [
       "'../saved/movie_embedding_1/embs/embedding.pck'"
      ]
     },
     "execution_count": 131,
     "metadata": {},
     "output_type": "execute_result"
    }
   ],
   "source": [
    "name"
   ]
  },
  {
   "cell_type": "code",
   "execution_count": 134,
   "id": "practical-literature",
   "metadata": {},
   "outputs": [],
   "source": [
    "with open (name, 'rb') as fp:\n",
    "    hehe = torch.tensor(pickle.load(fp))"
   ]
  },
  {
   "cell_type": "code",
   "execution_count": 135,
   "id": "dutch-shift",
   "metadata": {},
   "outputs": [
    {
     "data": {
      "text/plain": [
       "torch.Size([17493, 768])"
      ]
     },
     "execution_count": 135,
     "metadata": {},
     "output_type": "execute_result"
    }
   ],
   "source": [
    "hehe.shape"
   ]
  },
  {
   "cell_type": "code",
   "execution_count": 121,
   "id": "intelligent-founder",
   "metadata": {},
   "outputs": [
    {
     "data": {
      "text/plain": [
       "array([ 0.33821532, -1.37877941,  0.34697649, -0.93654454, -0.07133052,\n",
       "       -1.56192374, -0.08415685, -0.55216378,  0.861265  ,  0.15836471])"
      ]
     },
     "execution_count": 121,
     "metadata": {},
     "output_type": "execute_result"
    }
   ],
   "source": [
    "hehe[0][:10]"
   ]
  },
  {
   "cell_type": "code",
   "execution_count": 122,
   "id": "tough-taxation",
   "metadata": {},
   "outputs": [
    {
     "data": {
      "text/plain": [
       "tensor([ 0.3382, -1.3788,  0.3470, -0.9365, -0.0713, -1.5619, -0.0842, -0.5522,\n",
       "         0.8613,  0.1584], dtype=torch.float64)"
      ]
     },
     "execution_count": 122,
     "metadata": {},
     "output_type": "execute_result"
    }
   ],
   "source": [
    "haha = torch.from_numpy(hehe)\n",
    "haha[0][:10]"
   ]
  },
  {
   "cell_type": "code",
   "execution_count": 123,
   "id": "digital-greene",
   "metadata": {},
   "outputs": [],
   "source": [
    "from torch import nn"
   ]
  },
  {
   "cell_type": "code",
   "execution_count": 128,
   "id": "electoral-aspect",
   "metadata": {},
   "outputs": [],
   "source": [
    "embs = nn.Embedding(17493, 768)"
   ]
  },
  {
   "cell_type": "code",
   "execution_count": 126,
   "id": "stuck-client",
   "metadata": {},
   "outputs": [
    {
     "data": {
      "text/plain": [
       "(17493, 768)"
      ]
     },
     "execution_count": 126,
     "metadata": {},
     "output_type": "execute_result"
    }
   ],
   "source": [
    "hehe.shape"
   ]
  },
  {
   "cell_type": "code",
   "execution_count": 130,
   "id": "acquired-landscape",
   "metadata": {},
   "outputs": [],
   "source": [
    "embs.weight.data = torch.from_numpy(hehe)"
   ]
  },
  {
   "cell_type": "markdown",
   "id": "macro-candidate",
   "metadata": {},
   "source": [
    "# Test movie embedding"
   ]
  },
  {
   "cell_type": "code",
   "execution_count": 2,
   "id": "humanitarian-assembly",
   "metadata": {},
   "outputs": [
    {
     "data": {
      "text/html": [
       "<div>\n",
       "<style scoped>\n",
       "    .dataframe tbody tr th:only-of-type {\n",
       "        vertical-align: middle;\n",
       "    }\n",
       "\n",
       "    .dataframe tbody tr th {\n",
       "        vertical-align: top;\n",
       "    }\n",
       "\n",
       "    .dataframe thead th {\n",
       "        text-align: right;\n",
       "    }\n",
       "</style>\n",
       "<table border=\"1\" class=\"dataframe\">\n",
       "  <thead>\n",
       "    <tr style=\"text-align: right;\">\n",
       "      <th></th>\n",
       "      <th>movieId</th>\n",
       "      <th>overview</th>\n",
       "      <th>genres</th>\n",
       "      <th>title</th>\n",
       "      <th>keywords</th>\n",
       "    </tr>\n",
       "  </thead>\n",
       "  <tbody>\n",
       "    <tr>\n",
       "      <th>0</th>\n",
       "      <td>1</td>\n",
       "      <td>Led by Woody, Andy's toys live happily in his ...</td>\n",
       "      <td>[Animation, Comedy, Family]</td>\n",
       "      <td>Toy Story</td>\n",
       "      <td>[jealousy, toy, boy, friendship, friends, riva...</td>\n",
       "    </tr>\n",
       "    <tr>\n",
       "      <th>1</th>\n",
       "      <td>2</td>\n",
       "      <td>When siblings Judy and Peter discover an encha...</td>\n",
       "      <td>[Adventure, Fantasy, Family]</td>\n",
       "      <td>Jumanji</td>\n",
       "      <td>[board game, disappearance, based on children'...</td>\n",
       "    </tr>\n",
       "  </tbody>\n",
       "</table>\n",
       "</div>"
      ],
      "text/plain": [
       "   movieId                                           overview  \\\n",
       "0        1  Led by Woody, Andy's toys live happily in his ...   \n",
       "1        2  When siblings Judy and Peter discover an encha...   \n",
       "\n",
       "                         genres      title  \\\n",
       "0   [Animation, Comedy, Family]  Toy Story   \n",
       "1  [Adventure, Fantasy, Family]    Jumanji   \n",
       "\n",
       "                                            keywords  \n",
       "0  [jealousy, toy, boy, friendship, friends, riva...  \n",
       "1  [board game, disappearance, based on children'...  "
      ]
     },
     "execution_count": 2,
     "metadata": {},
     "output_type": "execute_result"
    }
   ],
   "source": [
    "movies = pd.read_csv('../data/movies_w_description.csv')\n",
    "movies.drop_duplicates('movieId', inplace=True)\n",
    "movies['genres'] = movies['genres'].map(ast.literal_eval)\n",
    "movies['keywords'] = movies['keywords'].map(ast.literal_eval)\n",
    "movies.head(2)"
   ]
  },
  {
   "cell_type": "code",
   "execution_count": 3,
   "id": "vocational-geology",
   "metadata": {},
   "outputs": [
    {
     "data": {
      "text/plain": [
       "17493"
      ]
     },
     "execution_count": 3,
     "metadata": {},
     "output_type": "execute_result"
    }
   ],
   "source": [
    "unique_sid = list()\n",
    "with open('../data/processed/4_5_5_False_15000/unique_sid.txt', 'r') as f:\n",
    "    for line in f:\n",
    "        unique_sid.append(int(line.strip()))\n",
    "        \n",
    "len(unique_sid)"
   ]
  },
  {
   "cell_type": "code",
   "execution_count": 4,
   "id": "fitting-clarity",
   "metadata": {},
   "outputs": [
    {
     "data": {
      "text/plain": [
       "(17493, 5)"
      ]
     },
     "execution_count": 4,
     "metadata": {},
     "output_type": "execute_result"
    }
   ],
   "source": [
    "movies = movies[movies['movieId'].isin(unique_sid)]\n",
    "movies.shape"
   ]
  },
  {
   "cell_type": "code",
   "execution_count": 5,
   "id": "comprehensive-forest",
   "metadata": {},
   "outputs": [],
   "source": [
    "mid = dict((i, s) for (s, i) in enumerate(unique_sid))"
   ]
  },
  {
   "cell_type": "code",
   "execution_count": 6,
   "id": "processed-arrest",
   "metadata": {},
   "outputs": [
    {
     "data": {
      "text/html": [
       "<div>\n",
       "<style scoped>\n",
       "    .dataframe tbody tr th:only-of-type {\n",
       "        vertical-align: middle;\n",
       "    }\n",
       "\n",
       "    .dataframe tbody tr th {\n",
       "        vertical-align: top;\n",
       "    }\n",
       "\n",
       "    .dataframe thead th {\n",
       "        text-align: right;\n",
       "    }\n",
       "</style>\n",
       "<table border=\"1\" class=\"dataframe\">\n",
       "  <thead>\n",
       "    <tr style=\"text-align: right;\">\n",
       "      <th></th>\n",
       "      <th>movieId</th>\n",
       "      <th>overview</th>\n",
       "      <th>genres</th>\n",
       "      <th>title</th>\n",
       "      <th>keywords</th>\n",
       "      <th>mid</th>\n",
       "    </tr>\n",
       "  </thead>\n",
       "  <tbody>\n",
       "    <tr>\n",
       "      <th>17491</th>\n",
       "      <td>69187</td>\n",
       "      <td>A remake of the hugely successful Malayalam fi...</td>\n",
       "      <td>[Comedy, Drama]</td>\n",
       "      <td>Billu</td>\n",
       "      <td>[barbershop, actors, remake of malayalam film]</td>\n",
       "      <td>17491</td>\n",
       "    </tr>\n",
       "    <tr>\n",
       "      <th>17492</th>\n",
       "      <td>135759</td>\n",
       "      <td>A historical drama set in the Koryo dynasty an...</td>\n",
       "      <td>[Drama]</td>\n",
       "      <td>A Frozen Flower</td>\n",
       "      <td>[adultery, sword fight, romance, betrayal, tra...</td>\n",
       "      <td>17492</td>\n",
       "    </tr>\n",
       "  </tbody>\n",
       "</table>\n",
       "</div>"
      ],
      "text/plain": [
       "       movieId                                           overview  \\\n",
       "17491    69187  A remake of the hugely successful Malayalam fi...   \n",
       "17492   135759  A historical drama set in the Koryo dynasty an...   \n",
       "\n",
       "                genres            title  \\\n",
       "17491  [Comedy, Drama]            Billu   \n",
       "17492          [Drama]  A Frozen Flower   \n",
       "\n",
       "                                                keywords    mid  \n",
       "17491     [barbershop, actors, remake of malayalam film]  17491  \n",
       "17492  [adultery, sword fight, romance, betrayal, tra...  17492  "
      ]
     },
     "execution_count": 6,
     "metadata": {},
     "output_type": "execute_result"
    }
   ],
   "source": [
    "movies['mid'] = movies['movieId'].map(mid)\n",
    "movies.sort_values('mid', inplace=True)\n",
    "movies = movies.reset_index().drop('index', 1)\n",
    "movies.tail(2)"
   ]
  },
  {
   "cell_type": "code",
   "execution_count": 7,
   "id": "loose-baptist",
   "metadata": {},
   "outputs": [
    {
     "data": {
      "text/html": [
       "<div>\n",
       "<style scoped>\n",
       "    .dataframe tbody tr th:only-of-type {\n",
       "        vertical-align: middle;\n",
       "    }\n",
       "\n",
       "    .dataframe tbody tr th {\n",
       "        vertical-align: top;\n",
       "    }\n",
       "\n",
       "    .dataframe thead th {\n",
       "        text-align: right;\n",
       "    }\n",
       "</style>\n",
       "<table border=\"1\" class=\"dataframe\">\n",
       "  <thead>\n",
       "    <tr style=\"text-align: right;\">\n",
       "      <th></th>\n",
       "      <th>movieId</th>\n",
       "      <th>overview</th>\n",
       "      <th>genres</th>\n",
       "      <th>title</th>\n",
       "      <th>keywords</th>\n",
       "      <th>mid</th>\n",
       "    </tr>\n",
       "  </thead>\n",
       "  <tbody>\n",
       "    <tr>\n",
       "      <th>0</th>\n",
       "      <td>147</td>\n",
       "      <td>Film adaptation of street tough Jim Carroll's ...</td>\n",
       "      <td>[Drama, Crime]</td>\n",
       "      <td>The Basketball Diaries</td>\n",
       "      <td>[sport, basketball, addiction, friends, drug]</td>\n",
       "      <td>0</td>\n",
       "    </tr>\n",
       "    <tr>\n",
       "      <th>1</th>\n",
       "      <td>858</td>\n",
       "      <td>Spanning the years 1945 to 1955, a chronicle o...</td>\n",
       "      <td>[Drama, Crime]</td>\n",
       "      <td>The Godfather</td>\n",
       "      <td>[italy, love at first sight, loss of father, p...</td>\n",
       "      <td>1</td>\n",
       "    </tr>\n",
       "  </tbody>\n",
       "</table>\n",
       "</div>"
      ],
      "text/plain": [
       "   movieId                                           overview          genres  \\\n",
       "0      147  Film adaptation of street tough Jim Carroll's ...  [Drama, Crime]   \n",
       "1      858  Spanning the years 1945 to 1955, a chronicle o...  [Drama, Crime]   \n",
       "\n",
       "                    title                                           keywords  \\\n",
       "0  The Basketball Diaries      [sport, basketball, addiction, friends, drug]   \n",
       "1           The Godfather  [italy, love at first sight, loss of father, p...   \n",
       "\n",
       "   mid  \n",
       "0    0  \n",
       "1    1  "
      ]
     },
     "execution_count": 7,
     "metadata": {},
     "output_type": "execute_result"
    }
   ],
   "source": [
    "movies.head(2)"
   ]
  },
  {
   "cell_type": "code",
   "execution_count": 21,
   "id": "oriented-tourist",
   "metadata": {},
   "outputs": [],
   "source": [
    "with open(\"../saved/movie_embedding_1/embs/embedding.pck\", 'rb') as fp:\n",
    "    weights = pickle.load(fp)\n",
    "    \n",
    "weights = [x.tolist() for x in weights] "
   ]
  },
  {
   "cell_type": "code",
   "execution_count": 22,
   "id": "silver-journey",
   "metadata": {},
   "outputs": [],
   "source": [
    "movies['embe'] = weights"
   ]
  },
  {
   "cell_type": "code",
   "execution_count": 23,
   "id": "acknowledged-greeting",
   "metadata": {},
   "outputs": [
    {
     "data": {
      "text/html": [
       "<div>\n",
       "<style scoped>\n",
       "    .dataframe tbody tr th:only-of-type {\n",
       "        vertical-align: middle;\n",
       "    }\n",
       "\n",
       "    .dataframe tbody tr th {\n",
       "        vertical-align: top;\n",
       "    }\n",
       "\n",
       "    .dataframe thead th {\n",
       "        text-align: right;\n",
       "    }\n",
       "</style>\n",
       "<table border=\"1\" class=\"dataframe\">\n",
       "  <thead>\n",
       "    <tr style=\"text-align: right;\">\n",
       "      <th></th>\n",
       "      <th>movieId</th>\n",
       "      <th>overview</th>\n",
       "      <th>genres</th>\n",
       "      <th>title</th>\n",
       "      <th>keywords</th>\n",
       "      <th>mid</th>\n",
       "      <th>embe</th>\n",
       "    </tr>\n",
       "  </thead>\n",
       "  <tbody>\n",
       "    <tr>\n",
       "      <th>0</th>\n",
       "      <td>147</td>\n",
       "      <td>Film adaptation of street tough Jim Carroll's ...</td>\n",
       "      <td>[Drama, Crime]</td>\n",
       "      <td>The Basketball Diaries</td>\n",
       "      <td>[sport, basketball, addiction, friends, drug]</td>\n",
       "      <td>0</td>\n",
       "      <td>[0.33821532130241394, -1.378779411315918, 0.34...</td>\n",
       "    </tr>\n",
       "    <tr>\n",
       "      <th>1</th>\n",
       "      <td>858</td>\n",
       "      <td>Spanning the years 1945 to 1955, a chronicle o...</td>\n",
       "      <td>[Drama, Crime]</td>\n",
       "      <td>The Godfather</td>\n",
       "      <td>[italy, love at first sight, loss of father, p...</td>\n",
       "      <td>1</td>\n",
       "      <td>[0.4388054609298706, -1.2216815948486328, -0.0...</td>\n",
       "    </tr>\n",
       "  </tbody>\n",
       "</table>\n",
       "</div>"
      ],
      "text/plain": [
       "   movieId                                           overview          genres  \\\n",
       "0      147  Film adaptation of street tough Jim Carroll's ...  [Drama, Crime]   \n",
       "1      858  Spanning the years 1945 to 1955, a chronicle o...  [Drama, Crime]   \n",
       "\n",
       "                    title                                           keywords  \\\n",
       "0  The Basketball Diaries      [sport, basketball, addiction, friends, drug]   \n",
       "1           The Godfather  [italy, love at first sight, loss of father, p...   \n",
       "\n",
       "   mid                                               embe  \n",
       "0    0  [0.33821532130241394, -1.378779411315918, 0.34...  \n",
       "1    1  [0.4388054609298706, -1.2216815948486328, -0.0...  "
      ]
     },
     "execution_count": 23,
     "metadata": {},
     "output_type": "execute_result"
    }
   ],
   "source": [
    "movies.head(2)"
   ]
  },
  {
   "cell_type": "code",
   "execution_count": 26,
   "id": "retired-thanks",
   "metadata": {},
   "outputs": [],
   "source": [
    "def flatten(lol):\n",
    "    return [s for a in lol for s in a]\n",
    "\n",
    "def find_similar_movie(movieId, k=20):\n",
    "    print('Similar movies to {}:'.format(movies[movies['mid']==movieId]['title'].values))\n",
    "    print('')\n",
    "    new_id_emb = movies[movies['mid']==movieId]['embe'].values.tolist()\n",
    "    item_scores = cosine_similarity(weights, new_id_emb)\n",
    "    item_preds = flatten((-item_scores).argsort(axis=0))\n",
    "    for i in item_preds[:k]:\n",
    "        print(movies.iloc[i]['title'], item_scores[i], movies.iloc[i]['genres'])"
   ]
  },
  {
   "cell_type": "code",
   "execution_count": 35,
   "id": "clear-maldives",
   "metadata": {},
   "outputs": [
    {
     "name": "stdout",
     "output_type": "stream",
     "text": [
      "Similar movies to ['Harry Potter and the Half-Blood Prince']:\n",
      "\n",
      "Harry Potter and the Half-Blood Prince [1.] ['Adventure', 'Fantasy', 'Family']\n",
      "Harry Potter and the Order of the Phoenix [0.96065018] ['Adventure', 'Fantasy', 'Family', 'Mystery']\n",
      "Harry Potter and the Deathly Hallows: Part 1 [0.9467894] ['Adventure', 'Fantasy', 'Family']\n",
      "Harry Potter and the Goblet of Fire [0.92461667] ['Adventure', 'Fantasy', 'Family']\n",
      "Hansel & Gretel: Witch Hunters [0.91186996] ['Fantasy', 'Horror', 'Action']\n",
      "Harry Potter and the Prisoner of Azkaban [0.90970572] ['Adventure', 'Fantasy', 'Family']\n",
      "Tales from Earthsea [0.90525908] ['Adventure', 'Fantasy', 'Animation', 'Science Fiction']\n",
      "Leprechaun [0.90328595] ['Comedy', 'Horror', 'Thriller']\n",
      "Harry Potter and the Philosopher's Stone [0.90239072] ['Adventure', 'Fantasy', 'Family']\n",
      "Dragon Ball: Sleeping Princess in Devil's Castle [0.90127954] ['Action', 'Animation']\n",
      "Halloweentown II: Kalabar's Revenge [0.90045283] ['Adventure', 'Family', 'Fantasy', 'TV Movie']\n",
      "Fantastic Beasts and Where to Find Them [0.89992177] ['Adventure', 'Family', 'Fantasy']\n",
      "Doctor Who: Last Christmas [0.89986776] ['Science Fiction', 'Adventure', 'Drama', 'Fantasy']\n",
      "Return to Halloweentown [0.89940859] ['Adventure', 'Comedy', 'Family', 'Fantasy', 'TV Movie']\n",
      "Kung Fu Panda 3 [0.89840548] ['Action', 'Adventure', 'Animation', 'Comedy', 'Family']\n",
      "Naruto the Movie: Ninja Clash in the Land of Snow [0.8983111] ['Comedy', 'Action', 'Animation', 'Adventure']\n",
      "Knights of Badassdom [0.898242] ['Adventure', 'Fantasy', 'Horror', 'Comedy']\n",
      "The Shaggy Dog [0.89814626] ['Comedy', 'Family']\n",
      "The Spiderwick Chronicles [0.8975067] ['Adventure', 'Family', 'Fantasy']\n",
      "Tin Man [0.89657125] ['Adventure', 'Fantasy', 'Science Fiction']\n"
     ]
    }
   ],
   "source": [
    "test_id = 15\n",
    "\n",
    "find_similar_movie(test_id)"
   ]
  },
  {
   "cell_type": "code",
   "execution_count": 36,
   "id": "earlier-kennedy",
   "metadata": {},
   "outputs": [
    {
     "data": {
      "text/plain": [
       "array([\"As Harry begins his sixth year at Hogwarts, he discovers an old book marked as 'Property of the Half-Blood Prince', and begins to learn more about Lord Voldemort's dark past.\"],\n",
       "      dtype=object)"
      ]
     },
     "execution_count": 36,
     "metadata": {},
     "output_type": "execute_result"
    }
   ],
   "source": [
    "movies[movies['mid']==test_id]['overview'].values"
   ]
  },
  {
   "cell_type": "code",
   "execution_count": 37,
   "id": "elder-watson",
   "metadata": {},
   "outputs": [
    {
     "data": {
      "text/plain": [
       "array([\"Returning for his fifth year of study at Hogwarts, Harry is stunned to find that his warnings about the return of Lord Voldemort have been ignored. Left with no choice, Harry takes matters into his own hands, training a small group of students – dubbed 'Dumbledore's Army' – to defend themselves against the dark arts.\"],\n",
       "      dtype=object)"
      ]
     },
     "execution_count": 37,
     "metadata": {},
     "output_type": "execute_result"
    }
   ],
   "source": [
    "movies[movies['title']=='Harry Potter and the Order of the Phoenix']['overview'].values"
   ]
  },
  {
   "cell_type": "code",
   "execution_count": 34,
   "id": "immediate-piece",
   "metadata": {},
   "outputs": [
    {
     "data": {
      "text/plain": [
       "0                           The Basketball Diaries\n",
       "1                                    The Godfather\n",
       "2                           The Godfather: Part II\n",
       "3                               Dead Poets Society\n",
       "4                               The Breakfast Club\n",
       "5                                  The Sixth Sense\n",
       "6                         Ferris Bueller's Day Off\n",
       "7                                       Fight Club\n",
       "8                                          Memento\n",
       "9                                     Donnie Darko\n",
       "10                                  Igby Goes Down\n",
       "11                                   Batman Begins\n",
       "12                                 The Dark Knight\n",
       "13                                        Iron Man\n",
       "14                                       Star Trek\n",
       "15          Harry Potter and the Half-Blood Prince\n",
       "16                                 Sherlock Holmes\n",
       "17    Harry Potter and the Deathly Hallows: Part 1\n",
       "18              Sherlock Holmes: A Game of Shadows\n",
       "19                           The Art of Getting By\n",
       "20                 The Perks of Being a Wallflower\n",
       "21                                Django Unchained\n",
       "22                                        Whiplash\n",
       "23                                          Clerks\n",
       "24                                Another Stakeout\n",
       "25                             Mission: Impossible\n",
       "26                      E.T. the Extra-Terrestrial\n",
       "27                              The Princess Bride\n",
       "28                                  Murder at 1600\n",
       "29                               L.A. Confidential\n",
       "30                            The Devil's Advocate\n",
       "31                                     The X Files\n",
       "32                                 Doctor Dolittle\n",
       "33                         The Godfather: Part III\n",
       "34                                    A Bug's Life\n",
       "35                             Shakespeare in Love\n",
       "36                                Playing by Heart\n",
       "37                                    Run Lola Run\n",
       "38                                    American Pie\n",
       "39                                    Ghostbusters\n",
       "Name: title, dtype: object"
      ]
     },
     "execution_count": 34,
     "metadata": {},
     "output_type": "execute_result"
    }
   ],
   "source": [
    "movies.head(40).title"
   ]
  },
  {
   "cell_type": "code",
   "execution_count": null,
   "id": "permanent-greeting",
   "metadata": {},
   "outputs": [],
   "source": []
  }
 ],
 "metadata": {
  "kernelspec": {
   "display_name": "Python 3",
   "language": "python",
   "name": "python3"
  },
  "language_info": {
   "codemirror_mode": {
    "name": "ipython",
    "version": 3
   },
   "file_extension": ".py",
   "mimetype": "text/x-python",
   "name": "python",
   "nbconvert_exporter": "python",
   "pygments_lexer": "ipython3",
   "version": "3.8.2"
  }
 },
 "nbformat": 4,
 "nbformat_minor": 5
}
