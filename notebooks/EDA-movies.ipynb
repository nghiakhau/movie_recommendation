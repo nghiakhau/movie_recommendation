{
 "cells": [
  {
   "cell_type": "code",
   "execution_count": 1,
   "id": "liable-embassy",
   "metadata": {},
   "outputs": [],
   "source": [
    "import numpy as np\n",
    "import pandas as pd\n",
    "import matplotlib.pyplot as plt\n",
    "from scipy import sparse\n",
    "import seaborn as sns\n",
    "import sys\n",
    "import os\n",
    "import math\n",
    "import time\n",
    "import random\n",
    "import warnings\n",
    "import ast\n",
    "warnings.filterwarnings(\"ignore\")\n",
    "\n",
    "\"append parent directory so that we can import sibling module\"\n",
    "\n",
    "parent_dir = os.path.dirname(os.path.abspath('.'))\n",
    "sys.path.append(parent_dir)\n",
    "\n",
    "from utils.eda_utils import *"
   ]
  },
  {
   "cell_type": "code",
   "execution_count": 2,
   "id": "coral-summer",
   "metadata": {},
   "outputs": [
    {
     "data": {
      "text/html": [
       "<div>\n",
       "<style scoped>\n",
       "    .dataframe tbody tr th:only-of-type {\n",
       "        vertical-align: middle;\n",
       "    }\n",
       "\n",
       "    .dataframe tbody tr th {\n",
       "        vertical-align: top;\n",
       "    }\n",
       "\n",
       "    .dataframe thead th {\n",
       "        text-align: right;\n",
       "    }\n",
       "</style>\n",
       "<table border=\"1\" class=\"dataframe\">\n",
       "  <thead>\n",
       "    <tr style=\"text-align: right;\">\n",
       "      <th></th>\n",
       "      <th>adult</th>\n",
       "      <th>budget</th>\n",
       "      <th>genres</th>\n",
       "      <th>id</th>\n",
       "      <th>imdb_id</th>\n",
       "      <th>original_language</th>\n",
       "      <th>original_title</th>\n",
       "      <th>overview</th>\n",
       "      <th>popularity</th>\n",
       "      <th>production_companies</th>\n",
       "      <th>...</th>\n",
       "      <th>release_date</th>\n",
       "      <th>revenue</th>\n",
       "      <th>spoken_languages</th>\n",
       "      <th>title</th>\n",
       "      <th>video</th>\n",
       "      <th>vote_average</th>\n",
       "      <th>vote_count</th>\n",
       "      <th>cast</th>\n",
       "      <th>crew</th>\n",
       "      <th>keywords</th>\n",
       "    </tr>\n",
       "  </thead>\n",
       "  <tbody>\n",
       "    <tr>\n",
       "      <th>0</th>\n",
       "      <td>False</td>\n",
       "      <td>30000000</td>\n",
       "      <td>[{'id': 16, 'name': 'Animation'}, {'id': 35, '...</td>\n",
       "      <td>862</td>\n",
       "      <td>tt0114709</td>\n",
       "      <td>en</td>\n",
       "      <td>Toy Story</td>\n",
       "      <td>Led by Woody, Andy's toys live happily in his ...</td>\n",
       "      <td>21.946943</td>\n",
       "      <td>[{'name': 'Pixar Animation Studios', 'id': 3}]</td>\n",
       "      <td>...</td>\n",
       "      <td>1995-10-30</td>\n",
       "      <td>373554033.0</td>\n",
       "      <td>[{'iso_639_1': 'en', 'name': 'English'}]</td>\n",
       "      <td>Toy Story</td>\n",
       "      <td>False</td>\n",
       "      <td>7.7</td>\n",
       "      <td>5415.0</td>\n",
       "      <td>[{'cast_id': 14, 'character': 'Woody (voice)',...</td>\n",
       "      <td>[{'credit_id': '52fe4284c3a36847f8024f49', 'de...</td>\n",
       "      <td>[{'id': 931, 'name': 'jealousy'}, {'id': 4290,...</td>\n",
       "    </tr>\n",
       "    <tr>\n",
       "      <th>1</th>\n",
       "      <td>False</td>\n",
       "      <td>65000000</td>\n",
       "      <td>[{'id': 12, 'name': 'Adventure'}, {'id': 14, '...</td>\n",
       "      <td>8844</td>\n",
       "      <td>tt0113497</td>\n",
       "      <td>en</td>\n",
       "      <td>Jumanji</td>\n",
       "      <td>When siblings Judy and Peter discover an encha...</td>\n",
       "      <td>17.015539</td>\n",
       "      <td>[{'name': 'TriStar Pictures', 'id': 559}, {'na...</td>\n",
       "      <td>...</td>\n",
       "      <td>1995-12-15</td>\n",
       "      <td>262797249.0</td>\n",
       "      <td>[{'iso_639_1': 'en', 'name': 'English'}, {'iso...</td>\n",
       "      <td>Jumanji</td>\n",
       "      <td>False</td>\n",
       "      <td>6.9</td>\n",
       "      <td>2413.0</td>\n",
       "      <td>[{'cast_id': 1, 'character': 'Alan Parrish', '...</td>\n",
       "      <td>[{'credit_id': '52fe44bfc3a36847f80a7cd1', 'de...</td>\n",
       "      <td>[{'id': 10090, 'name': 'board game'}, {'id': 1...</td>\n",
       "    </tr>\n",
       "  </tbody>\n",
       "</table>\n",
       "<p>2 rows × 21 columns</p>\n",
       "</div>"
      ],
      "text/plain": [
       "   adult    budget                                             genres    id  \\\n",
       "0  False  30000000  [{'id': 16, 'name': 'Animation'}, {'id': 35, '...   862   \n",
       "1  False  65000000  [{'id': 12, 'name': 'Adventure'}, {'id': 14, '...  8844   \n",
       "\n",
       "     imdb_id original_language original_title  \\\n",
       "0  tt0114709                en      Toy Story   \n",
       "1  tt0113497                en        Jumanji   \n",
       "\n",
       "                                            overview  popularity  \\\n",
       "0  Led by Woody, Andy's toys live happily in his ...   21.946943   \n",
       "1  When siblings Judy and Peter discover an encha...   17.015539   \n",
       "\n",
       "                                production_companies  ... release_date  \\\n",
       "0     [{'name': 'Pixar Animation Studios', 'id': 3}]  ...   1995-10-30   \n",
       "1  [{'name': 'TriStar Pictures', 'id': 559}, {'na...  ...   1995-12-15   \n",
       "\n",
       "       revenue                                   spoken_languages      title  \\\n",
       "0  373554033.0           [{'iso_639_1': 'en', 'name': 'English'}]  Toy Story   \n",
       "1  262797249.0  [{'iso_639_1': 'en', 'name': 'English'}, {'iso...    Jumanji   \n",
       "\n",
       "   video vote_average  vote_count  \\\n",
       "0  False          7.7      5415.0   \n",
       "1  False          6.9      2413.0   \n",
       "\n",
       "                                                cast  \\\n",
       "0  [{'cast_id': 14, 'character': 'Woody (voice)',...   \n",
       "1  [{'cast_id': 1, 'character': 'Alan Parrish', '...   \n",
       "\n",
       "                                                crew  \\\n",
       "0  [{'credit_id': '52fe4284c3a36847f8024f49', 'de...   \n",
       "1  [{'credit_id': '52fe44bfc3a36847f80a7cd1', 'de...   \n",
       "\n",
       "                                            keywords  \n",
       "0  [{'id': 931, 'name': 'jealousy'}, {'id': 4290,...  \n",
       "1  [{'id': 10090, 'name': 'board game'}, {'id': 1...  \n",
       "\n",
       "[2 rows x 21 columns]"
      ]
     },
     "execution_count": 2,
     "metadata": {},
     "output_type": "execute_result"
    }
   ],
   "source": [
    "movies = pd.read_csv('../data/movies.csv')\n",
    "movies.head(2)"
   ]
  },
  {
   "cell_type": "code",
   "execution_count": 3,
   "id": "restricted-geology",
   "metadata": {},
   "outputs": [
    {
     "data": {
      "text/plain": [
       "Index(['adult', 'budget', 'genres', 'id', 'imdb_id', 'original_language',\n",
       "       'original_title', 'overview', 'popularity', 'production_companies',\n",
       "       'production_countries', 'release_date', 'revenue', 'spoken_languages',\n",
       "       'title', 'video', 'vote_average', 'vote_count', 'cast', 'crew',\n",
       "       'keywords'],\n",
       "      dtype='object')"
      ]
     },
     "execution_count": 3,
     "metadata": {},
     "output_type": "execute_result"
    }
   ],
   "source": [
    "movies.columns"
   ]
  },
  {
   "cell_type": "code",
   "execution_count": 8,
   "id": "anticipated-pennsylvania",
   "metadata": {},
   "outputs": [],
   "source": [
    "movies['cast'] = movies['cast'].map(ast.literal_eval)\n",
    "movies['crew'] = movies['crew'].map(ast.literal_eval)\n",
    "movies['genres'] = movies['genres'].map(ast.literal_eval)\n",
    "movies['keywords'] = movies['keywords'].map(ast.literal_eval)\n",
    "\n",
    "movies['production_companies'].fillna('[]', inplace=True)\n",
    "movies['production_companies'] = movies['production_companies'].map(ast.literal_eval)\n",
    "\n",
    "movies['spoken_languages'].fillna('[]', inplace=True)\n",
    "movies['spoken_languages'] = movies['spoken_languages'].map(ast.literal_eval)"
   ]
  },
  {
   "cell_type": "markdown",
   "id": "unlimited-alpha",
   "metadata": {},
   "source": [
    "# Preprocessing metadata"
   ]
  },
  {
   "cell_type": "markdown",
   "id": "grateful-mount",
   "metadata": {},
   "source": [
    "### 1. Adult"
   ]
  },
  {
   "cell_type": "code",
   "execution_count": 4,
   "id": "explicit-baker",
   "metadata": {},
   "outputs": [
    {
     "data": {
      "text/plain": [
       "array([False,  True])"
      ]
     },
     "execution_count": 4,
     "metadata": {},
     "output_type": "execute_result"
    }
   ],
   "source": [
    "movies['adult'].unique()"
   ]
  },
  {
   "cell_type": "code",
   "execution_count": 5,
   "id": "stainless-robin",
   "metadata": {},
   "outputs": [
    {
     "data": {
      "text/plain": [
       "0"
      ]
     },
     "execution_count": 5,
     "metadata": {},
     "output_type": "execute_result"
    }
   ],
   "source": [
    "movies['adult'].isna().sum()"
   ]
  },
  {
   "cell_type": "code",
   "execution_count": 7,
   "id": "italian-annex",
   "metadata": {},
   "outputs": [
    {
     "data": {
      "text/plain": [
       "False    45453\n",
       "True         9\n",
       "Name: adult, dtype: int64"
      ]
     },
     "execution_count": 7,
     "metadata": {},
     "output_type": "execute_result"
    }
   ],
   "source": [
    "movies['adult'].value_counts()"
   ]
  },
  {
   "cell_type": "code",
   "execution_count": 6,
   "id": "sound-mailman",
   "metadata": {},
   "outputs": [
    {
     "data": {
      "image/png": "[encoded data removed]",
      "text/plain": [
       "<Figure size 600x400 with 1 Axes>"
      ]
     },
     "metadata": {
      "needs_background": "light"
     },
     "output_type": "display_data"
    }
   ],
   "source": [
    "countplot(movies['adult'], plt, sns)"
   ]
  },
  {
   "cell_type": "markdown",
   "id": "european-breeding",
   "metadata": {},
   "source": [
    "### 2. Budget "
   ]
  },
  {
   "cell_type": "code",
   "execution_count": 10,
   "id": "crude-mustang",
   "metadata": {},
   "outputs": [
    {
     "data": {
      "text/plain": [
       "0"
      ]
     },
     "execution_count": 10,
     "metadata": {},
     "output_type": "execute_result"
    }
   ],
   "source": [
    "movies['budget'].isna().sum()"
   ]
  },
  {
   "cell_type": "code",
   "execution_count": 12,
   "id": "dress-costume",
   "metadata": {},
   "outputs": [
    {
     "data": {
      "text/plain": [
       "(36572, (45462, 21))"
      ]
     },
     "execution_count": 12,
     "metadata": {},
     "output_type": "execute_result"
    }
   ],
   "source": [
    "len(movies[movies['budget']==0]), movies.shape"
   ]
  },
  {
   "cell_type": "code",
   "execution_count": 14,
   "id": "sustained-calculator",
   "metadata": {},
   "outputs": [
    {
     "data": {
      "text/plain": [
       "count    8.890000e+03\n",
       "mean     2.160428e+07\n",
       "std      3.431063e+07\n",
       "min      1.000000e+00\n",
       "25%      2.000000e+06\n",
       "50%      8.000000e+06\n",
       "75%      2.500000e+07\n",
       "max      3.800000e+08\n",
       "Name: budget, dtype: float64"
      ]
     },
     "execution_count": 14,
     "metadata": {},
     "output_type": "execute_result"
    }
   ],
   "source": [
    "movies[movies['budget']!=0]['budget'].describe()"
   ]
  },
  {
   "cell_type": "code",
   "execution_count": 15,
   "id": "excessive-blade",
   "metadata": {},
   "outputs": [
    {
     "data": {
      "text/html": [
       "<div>\n",
       "<style scoped>\n",
       "    .dataframe tbody tr th:only-of-type {\n",
       "        vertical-align: middle;\n",
       "    }\n",
       "\n",
       "    .dataframe tbody tr th {\n",
       "        vertical-align: top;\n",
       "    }\n",
       "\n",
       "    .dataframe thead th {\n",
       "        text-align: right;\n",
       "    }\n",
       "</style>\n",
       "<table border=\"1\" class=\"dataframe\">\n",
       "  <thead>\n",
       "    <tr style=\"text-align: right;\">\n",
       "      <th></th>\n",
       "      <th>adult</th>\n",
       "      <th>budget</th>\n",
       "      <th>genres</th>\n",
       "      <th>id</th>\n",
       "      <th>imdb_id</th>\n",
       "      <th>original_language</th>\n",
       "      <th>original_title</th>\n",
       "      <th>overview</th>\n",
       "      <th>popularity</th>\n",
       "      <th>production_companies</th>\n",
       "      <th>...</th>\n",
       "      <th>release_date</th>\n",
       "      <th>revenue</th>\n",
       "      <th>spoken_languages</th>\n",
       "      <th>title</th>\n",
       "      <th>video</th>\n",
       "      <th>vote_average</th>\n",
       "      <th>vote_count</th>\n",
       "      <th>cast</th>\n",
       "      <th>crew</th>\n",
       "      <th>keywords</th>\n",
       "    </tr>\n",
       "  </thead>\n",
       "  <tbody>\n",
       "    <tr>\n",
       "      <th>17124</th>\n",
       "      <td>False</td>\n",
       "      <td>380000000</td>\n",
       "      <td>[{'id': 12, 'name': 'Adventure'}, {'id': 28, '...</td>\n",
       "      <td>1865</td>\n",
       "      <td>tt1298650</td>\n",
       "      <td>en</td>\n",
       "      <td>Pirates of the Caribbean: On Stranger Tides</td>\n",
       "      <td>Captain Jack Sparrow crosses paths with a woma...</td>\n",
       "      <td>27.88772</td>\n",
       "      <td>[{'name': 'Walt Disney Pictures', 'id': 2}, {'...</td>\n",
       "      <td>...</td>\n",
       "      <td>2011-05-14</td>\n",
       "      <td>1.045714e+09</td>\n",
       "      <td>[{'iso_639_1': 'en', 'name': 'English'}, {'iso...</td>\n",
       "      <td>Pirates of the Caribbean: On Stranger Tides</td>\n",
       "      <td>False</td>\n",
       "      <td>6.4</td>\n",
       "      <td>5068.0</td>\n",
       "      <td>[{'cast_id': 15, 'character': 'Captain Jack Sp...</td>\n",
       "      <td>[{'credit_id': '566b4f54c3a3683f56005151', 'de...</td>\n",
       "      <td>[{'id': 658, 'name': 'sea'}, {'id': 1316, 'nam...</td>\n",
       "    </tr>\n",
       "  </tbody>\n",
       "</table>\n",
       "<p>1 rows × 21 columns</p>\n",
       "</div>"
      ],
      "text/plain": [
       "       adult     budget                                             genres  \\\n",
       "17124  False  380000000  [{'id': 12, 'name': 'Adventure'}, {'id': 28, '...   \n",
       "\n",
       "         id    imdb_id original_language  \\\n",
       "17124  1865  tt1298650                en   \n",
       "\n",
       "                                    original_title  \\\n",
       "17124  Pirates of the Caribbean: On Stranger Tides   \n",
       "\n",
       "                                                overview  popularity  \\\n",
       "17124  Captain Jack Sparrow crosses paths with a woma...    27.88772   \n",
       "\n",
       "                                    production_companies  ... release_date  \\\n",
       "17124  [{'name': 'Walt Disney Pictures', 'id': 2}, {'...  ...   2011-05-14   \n",
       "\n",
       "            revenue                                   spoken_languages  \\\n",
       "17124  1.045714e+09  [{'iso_639_1': 'en', 'name': 'English'}, {'iso...   \n",
       "\n",
       "                                             title  video vote_average  \\\n",
       "17124  Pirates of the Caribbean: On Stranger Tides  False          6.4   \n",
       "\n",
       "       vote_count                                               cast  \\\n",
       "17124      5068.0  [{'cast_id': 15, 'character': 'Captain Jack Sp...   \n",
       "\n",
       "                                                    crew  \\\n",
       "17124  [{'credit_id': '566b4f54c3a3683f56005151', 'de...   \n",
       "\n",
       "                                                keywords  \n",
       "17124  [{'id': 658, 'name': 'sea'}, {'id': 1316, 'nam...  \n",
       "\n",
       "[1 rows x 21 columns]"
      ]
     },
     "execution_count": 15,
     "metadata": {},
     "output_type": "execute_result"
    }
   ],
   "source": [
    "movies[movies['budget']==3.800000e+08]"
   ]
  },
  {
   "cell_type": "markdown",
   "id": "irish-natural",
   "metadata": {},
   "source": [
    "### 3. Genres"
   ]
  },
  {
   "cell_type": "code",
   "execution_count": 22,
   "id": "painful-meaning",
   "metadata": {},
   "outputs": [],
   "source": [
    "movies['genres'] = movies['genres'].map(lambda genres: [g['name'] for g in genres])"
   ]
  },
  {
   "cell_type": "code",
   "execution_count": 26,
   "id": "radical-literacy",
   "metadata": {},
   "outputs": [],
   "source": [
    "flatten_genres = pd.Series(np.concatenate(movies['genres']))"
   ]
  },
  {
   "cell_type": "code",
   "execution_count": 28,
   "id": "physical-configuration",
   "metadata": {},
   "outputs": [
    {
     "data": {
      "text/plain": [
       "Drama              20265\n",
       "Comedy             13182\n",
       "Thriller            7624\n",
       "Romance             6735\n",
       "Action              6596\n",
       "Horror              4673\n",
       "Crime               4307\n",
       "Documentary         3932\n",
       "Adventure           3496\n",
       "Science Fiction     3049\n",
       "Family              2770\n",
       "Mystery             2467\n",
       "Fantasy             2313\n",
       "Animation           1935\n",
       "Foreign             1622\n",
       "Music               1598\n",
       "History             1398\n",
       "War                 1323\n",
       "Western             1042\n",
       "TV Movie             767\n",
       "dtype: int64"
      ]
     },
     "execution_count": 28,
     "metadata": {},
     "output_type": "execute_result"
    }
   ],
   "source": [
    "flatten_genres.value_counts()"
   ]
  },
  {
   "cell_type": "code",
   "execution_count": 37,
   "id": "economic-alarm",
   "metadata": {},
   "outputs": [],
   "source": [
    "set_size(plt, 15)"
   ]
  },
  {
   "cell_type": "code",
   "execution_count": 39,
   "id": "magnetic-edinburgh",
   "metadata": {},
   "outputs": [
    {
     "data": {
      "image/png": "[encoded data removed]",
      "text/plain": [
       "<Figure size 720x720 with 1 Axes>"
      ]
     },
     "metadata": {
      "needs_background": "light"
     },
     "output_type": "display_data"
    }
   ],
   "source": [
    "top_frequency(flatten_genres, plt, sns, \"Count\", \"Genre\", \"Genre frequency\", figsize=(10, 10))"
   ]
  },
  {
   "cell_type": "markdown",
   "id": "functional-burlington",
   "metadata": {},
   "source": [
    "### 4. Original language"
   ]
  },
  {
   "cell_type": "code",
   "execution_count": 40,
   "id": "appropriate-australian",
   "metadata": {},
   "outputs": [
    {
     "data": {
      "text/plain": [
       "array(['en', 'fr', 'zh', 'it', 'fa', 'nl', 'de', 'cn', 'ar', 'es', 'ru',\n",
       "       'sv', 'ja', 'ko', 'sr', 'bn', 'he', 'pt', 'wo', 'ro', 'hu', 'cy',\n",
       "       'vi', 'cs', 'da', 'no', 'nb', 'pl', 'el', 'sh', 'xx', 'mk', 'bo',\n",
       "       'ca', 'fi', 'th', 'sk', 'bs', 'hi', 'tr', 'is', 'ps', 'ab', 'eo',\n",
       "       'ka', 'mn', 'bm', 'zu', 'uk', 'af', 'la', 'et', 'ku', 'fy', 'lv',\n",
       "       'ta', 'sl', 'tl', 'ur', 'rw', 'id', 'bg', 'mr', 'lt', 'kk', 'ms',\n",
       "       'sq', nan, 'qu', 'te', 'am', 'jv', 'tg', 'ml', 'hr', 'lo', 'ay',\n",
       "       'kn', 'eu', 'ne', 'pa', 'ky', 'gl', 'uz', 'sm', 'mt', 'hy', 'iu',\n",
       "       'lb', 'si'], dtype=object)"
      ]
     },
     "execution_count": 40,
     "metadata": {},
     "output_type": "execute_result"
    }
   ],
   "source": [
    "movies['original_language'].unique()"
   ]
  },
  {
   "cell_type": "code",
   "execution_count": 43,
   "id": "respiratory-davis",
   "metadata": {},
   "outputs": [
    {
     "data": {
      "text/plain": [
       "en    32269\n",
       "fr     2438\n",
       "it     1529\n",
       "ja     1350\n",
       "de     1080\n",
       "es      993\n",
       "ru      826\n",
       "hi      508\n",
       "ko      444\n",
       "zh      409\n",
       "Name: original_language, dtype: int64"
      ]
     },
     "execution_count": 43,
     "metadata": {},
     "output_type": "execute_result"
    }
   ],
   "source": [
    "movies['original_language'].value_counts().head(10)"
   ]
  },
  {
   "cell_type": "markdown",
   "id": "taken-graph",
   "metadata": {},
   "source": [
    "### 5. Overview"
   ]
  },
  {
   "cell_type": "code",
   "execution_count": 44,
   "id": "auburn-recruitment",
   "metadata": {},
   "outputs": [
    {
     "data": {
      "text/plain": [
       "0    Led by Woody, Andy's toys live happily in his ...\n",
       "1    When siblings Judy and Peter discover an encha...\n",
       "2    A family wedding reignites the ancient feud be...\n",
       "Name: overview, dtype: object"
      ]
     },
     "execution_count": 44,
     "metadata": {},
     "output_type": "execute_result"
    }
   ],
   "source": [
    "movies['overview'].head(3)"
   ]
  },
  {
   "cell_type": "code",
   "execution_count": 47,
   "id": "stock-paste",
   "metadata": {},
   "outputs": [
    {
     "data": {
      "text/plain": [
       "954"
      ]
     },
     "execution_count": 47,
     "metadata": {},
     "output_type": "execute_result"
    }
   ],
   "source": [
    "movies['overview'].isna().sum()"
   ]
  },
  {
   "cell_type": "code",
   "execution_count": 48,
   "id": "infinite-gregory",
   "metadata": {},
   "outputs": [],
   "source": [
    "movies['overview'].fillna('', inplace=True)"
   ]
  },
  {
   "cell_type": "code",
   "execution_count": 50,
   "id": "pregnant-imperial",
   "metadata": {},
   "outputs": [],
   "source": [
    "movies['overview_length'] = movies['overview'].map(lambda x: len(x.split()))"
   ]
  },
  {
   "cell_type": "code",
   "execution_count": 51,
   "id": "aboriginal-grill",
   "metadata": {},
   "outputs": [
    {
     "data": {
      "text/plain": [
       "count    45462.000000\n",
       "mean        53.957151\n",
       "std         35.414330\n",
       "min          0.000000\n",
       "25%         26.000000\n",
       "50%         47.000000\n",
       "75%         72.000000\n",
       "max        187.000000\n",
       "Name: overview_length, dtype: float64"
      ]
     },
     "execution_count": 51,
     "metadata": {},
     "output_type": "execute_result"
    }
   ],
   "source": [
    "movies['overview_length'].describe()"
   ]
  },
  {
   "cell_type": "code",
   "execution_count": 52,
   "id": "civic-nepal",
   "metadata": {},
   "outputs": [
    {
     "data": {
      "text/plain": [
       "959"
      ]
     },
     "execution_count": 52,
     "metadata": {},
     "output_type": "execute_result"
    }
   ],
   "source": [
    "len(movies[movies['overview_length']==0])"
   ]
  },
  {
   "cell_type": "markdown",
   "id": "drawn-marking",
   "metadata": {},
   "source": [
    "### 6. Popularity"
   ]
  },
  {
   "cell_type": "code",
   "execution_count": 53,
   "id": "dutch-folder",
   "metadata": {},
   "outputs": [
    {
     "data": {
      "text/plain": [
       "0    21.946943\n",
       "1    17.015539\n",
       "2    11.712900\n",
       "3     3.859495\n",
       "4     8.387519\n",
       "Name: popularity, dtype: float64"
      ]
     },
     "execution_count": 53,
     "metadata": {},
     "output_type": "execute_result"
    }
   ],
   "source": [
    "movies['popularity'].head()"
   ]
  },
  {
   "cell_type": "code",
   "execution_count": 54,
   "id": "surrounded-america",
   "metadata": {},
   "outputs": [
    {
     "data": {
      "text/plain": [
       "3"
      ]
     },
     "execution_count": 54,
     "metadata": {},
     "output_type": "execute_result"
    }
   ],
   "source": [
    "movies['popularity'].isna().sum()"
   ]
  },
  {
   "cell_type": "code",
   "execution_count": 55,
   "id": "least-citizen",
   "metadata": {},
   "outputs": [
    {
     "data": {
      "text/plain": [
       "66"
      ]
     },
     "execution_count": 55,
     "metadata": {},
     "output_type": "execute_result"
    }
   ],
   "source": [
    "len(movies[movies['popularity']==0])"
   ]
  },
  {
   "cell_type": "code",
   "execution_count": 58,
   "id": "existing-radius",
   "metadata": {},
   "outputs": [],
   "source": [
    "movies['popularity'].fillna(0.0, inplace=True)"
   ]
  },
  {
   "cell_type": "code",
   "execution_count": 59,
   "id": "stuffed-bracket",
   "metadata": {},
   "outputs": [
    {
     "data": {
      "text/plain": [
       "count    45462.000000\n",
       "mean         2.921345\n",
       "std          6.005316\n",
       "min          0.000000\n",
       "25%          0.385872\n",
       "50%          1.127563\n",
       "75%          3.678685\n",
       "max        547.488298\n",
       "Name: popularity, dtype: float64"
      ]
     },
     "execution_count": 59,
     "metadata": {},
     "output_type": "execute_result"
    }
   ],
   "source": [
    "movies['popularity'].describe()"
   ]
  },
  {
   "cell_type": "markdown",
   "id": "equal-spine",
   "metadata": {},
   "source": [
    "### 7. Production companies"
   ]
  },
  {
   "cell_type": "code",
   "execution_count": 60,
   "id": "happy-spelling",
   "metadata": {},
   "outputs": [
    {
     "data": {
      "text/plain": [
       "0       [{'name': 'Pixar Animation Studios', 'id': 3}]\n",
       "1    [{'name': 'TriStar Pictures', 'id': 559}, {'na...\n",
       "2    [{'name': 'Warner Bros.', 'id': 6194}, {'name'...\n",
       "3    [{'name': 'Twentieth Century Fox Film Corporat...\n",
       "4    [{'name': 'Sandollar Productions', 'id': 5842}...\n",
       "Name: production_companies, dtype: object"
      ]
     },
     "execution_count": 60,
     "metadata": {},
     "output_type": "execute_result"
    }
   ],
   "source": [
    "movies['production_companies'].head()"
   ]
  },
  {
   "cell_type": "code",
   "execution_count": 61,
   "id": "automated-arthur",
   "metadata": {},
   "outputs": [],
   "source": [
    "movies['production_companies'] = movies['production_companies'].map(lambda comp: [c['name'] for c in comp])"
   ]
  },
  {
   "cell_type": "code",
   "execution_count": 62,
   "id": "related-transportation",
   "metadata": {},
   "outputs": [
    {
     "data": {
      "text/plain": [
       "0                            [Pixar Animation Studios]\n",
       "1    [TriStar Pictures, Teitler Film, Interscope Co...\n",
       "2                       [Warner Bros., Lancaster Gate]\n",
       "3             [Twentieth Century Fox Film Corporation]\n",
       "4         [Sandollar Productions, Touchstone Pictures]\n",
       "Name: production_companies, dtype: object"
      ]
     },
     "execution_count": 62,
     "metadata": {},
     "output_type": "execute_result"
    }
   ],
   "source": [
    "movies['production_companies'].head()"
   ]
  },
  {
   "cell_type": "code",
   "execution_count": 63,
   "id": "pacific-working",
   "metadata": {},
   "outputs": [],
   "source": [
    "flatten_companies = pd.Series(np.concatenate(movies['production_companies']))"
   ]
  },
  {
   "cell_type": "code",
   "execution_count": 65,
   "id": "tough-adoption",
   "metadata": {},
   "outputs": [
    {
     "data": {
      "text/plain": [
       "Warner Bros.                              1250\n",
       "Metro-Goldwyn-Mayer (MGM)                 1076\n",
       "Paramount Pictures                        1003\n",
       "Twentieth Century Fox Film Corporation     836\n",
       "Universal Pictures                         830\n",
       "                                          ... \n",
       "P-R Productions Picture                      1\n",
       "LeGrand Productions                          1\n",
       "Gemini Industries                            1\n",
       "Historias Cinematográficas                   1\n",
       "J.B.J Film                                   1\n",
       "Length: 23537, dtype: int64"
      ]
     },
     "execution_count": 65,
     "metadata": {},
     "output_type": "execute_result"
    }
   ],
   "source": [
    "flatten_companies.value_counts()"
   ]
  },
  {
   "cell_type": "code",
   "execution_count": 66,
   "id": "hungarian-appeal",
   "metadata": {},
   "outputs": [
    {
     "data": {
      "image/png": "[encoded data removed]",
      "text/plain": [
       "<Figure size 720x720 with 1 Axes>"
      ]
     },
     "metadata": {
      "needs_background": "light"
     },
     "output_type": "display_data"
    }
   ],
   "source": [
    "top_frequency(flatten_companies, plt, sns, \"Count\", \"Company\", \"Company frequency\", figsize=(10, 10))"
   ]
  },
  {
   "cell_type": "markdown",
   "id": "necessary-jonathan",
   "metadata": {},
   "source": [
    "### 8. Revenue"
   ]
  },
  {
   "cell_type": "code",
   "execution_count": 67,
   "id": "cutting-caribbean",
   "metadata": {},
   "outputs": [
    {
     "data": {
      "text/plain": [
       "3"
      ]
     },
     "execution_count": 67,
     "metadata": {},
     "output_type": "execute_result"
    }
   ],
   "source": [
    "movies['revenue'].isna().sum()"
   ]
  },
  {
   "cell_type": "code",
   "execution_count": 68,
   "id": "transparent-lighting",
   "metadata": {},
   "outputs": [
    {
     "data": {
      "text/plain": [
       "(38051, (45462, 22))"
      ]
     },
     "execution_count": 68,
     "metadata": {},
     "output_type": "execute_result"
    }
   ],
   "source": [
    "len(movies[movies['revenue']==0]), movies.shape"
   ]
  },
  {
   "cell_type": "code",
   "execution_count": 69,
   "id": "athletic-building",
   "metadata": {},
   "outputs": [
    {
     "data": {
      "text/plain": [
       "count    7.408000e+03\n",
       "mean     6.878739e+07\n",
       "std      1.464203e+08\n",
       "min      1.000000e+00\n",
       "25%      2.400000e+06\n",
       "50%      1.682272e+07\n",
       "75%      6.722707e+07\n",
       "max      2.787965e+09\n",
       "Name: revenue, dtype: float64"
      ]
     },
     "execution_count": 69,
     "metadata": {},
     "output_type": "execute_result"
    }
   ],
   "source": [
    "movies[movies['revenue']!=0]['revenue'].describe()"
   ]
  },
  {
   "cell_type": "markdown",
   "id": "alert-liverpool",
   "metadata": {},
   "source": [
    "### 9. Vote average"
   ]
  },
  {
   "cell_type": "code",
   "execution_count": 73,
   "id": "announced-samba",
   "metadata": {},
   "outputs": [
    {
     "data": {
      "text/plain": [
       "0    7.7\n",
       "1    6.9\n",
       "2    6.5\n",
       "3    6.1\n",
       "4    5.7\n",
       "Name: vote_average, dtype: float64"
      ]
     },
     "execution_count": 73,
     "metadata": {},
     "output_type": "execute_result"
    }
   ],
   "source": [
    "movies['vote_average'].head()"
   ]
  },
  {
   "cell_type": "code",
   "execution_count": 74,
   "id": "mental-commitment",
   "metadata": {},
   "outputs": [
    {
     "data": {
      "text/plain": [
       "3"
      ]
     },
     "execution_count": 74,
     "metadata": {},
     "output_type": "execute_result"
    }
   ],
   "source": [
    "movies['vote_average'].isna().sum()"
   ]
  },
  {
   "cell_type": "code",
   "execution_count": 78,
   "id": "defined-valuation",
   "metadata": {},
   "outputs": [],
   "source": [
    "movies['vote_average'].fillna(0, inplace=True)"
   ]
  },
  {
   "cell_type": "code",
   "execution_count": 79,
   "id": "variable-alliance",
   "metadata": {},
   "outputs": [
    {
     "data": {
      "text/plain": [
       "(3000, (45462, 22))"
      ]
     },
     "execution_count": 79,
     "metadata": {},
     "output_type": "execute_result"
    }
   ],
   "source": [
    "len(movies[movies['vote_average']==0]), movies.shape"
   ]
  },
  {
   "cell_type": "code",
   "execution_count": 80,
   "id": "civil-there",
   "metadata": {},
   "outputs": [
    {
     "data": {
      "text/plain": [
       "count    42462.000000\n",
       "mean         6.014877\n",
       "std          1.256208\n",
       "min          0.500000\n",
       "25%          5.300000\n",
       "50%          6.100000\n",
       "75%          6.900000\n",
       "max         10.000000\n",
       "Name: vote_average, dtype: float64"
      ]
     },
     "execution_count": 80,
     "metadata": {},
     "output_type": "execute_result"
    }
   ],
   "source": [
    "movies[movies['vote_average']!=0]['vote_average'].describe()"
   ]
  },
  {
   "cell_type": "code",
   "execution_count": 104,
   "id": "aquatic-berkeley",
   "metadata": {},
   "outputs": [
    {
     "data": {
      "image/png": "[encoded data removed]",
      "text/plain": [
       "<Figure size 720x1080 with 1 Axes>"
      ]
     },
     "metadata": {
      "needs_background": "light"
     },
     "output_type": "display_data"
    }
   ],
   "source": [
    "most_voted_avg_movies = movies.sort_values(['vote_average'], ascending=False)\n",
    "plt.figure(figsize=(10, 15))\n",
    "plt.title('Top voted movie')\n",
    "plt.ylabel(\"Vote point\")\n",
    "plt.xlabel(\"Movie\")\n",
    "sns.barplot(x='vote_average', y='title',data=most_voted_avg_movies[:30],orient='h');"
   ]
  },
  {
   "cell_type": "code",
   "execution_count": 81,
   "id": "guilty-expense",
   "metadata": {},
   "outputs": [],
   "source": [
    "movies['round_vote_avg'] = movies['vote_average'].map(round)"
   ]
  },
  {
   "cell_type": "code",
   "execution_count": 82,
   "id": "everyday-weekend",
   "metadata": {},
   "outputs": [
    {
     "data": {
      "image/png": "[encoded data removed]",
      "text/plain": [
       "<Figure size 600x400 with 1 Axes>"
      ]
     },
     "metadata": {
      "needs_background": "light"
     },
     "output_type": "display_data"
    }
   ],
   "source": [
    "countplot(movies['round_vote_avg'], plt, sns)"
   ]
  },
  {
   "cell_type": "markdown",
   "id": "mental-hazard",
   "metadata": {},
   "source": [
    "### 10. Vote count"
   ]
  },
  {
   "cell_type": "code",
   "execution_count": 83,
   "id": "damaged-distance",
   "metadata": {},
   "outputs": [
    {
     "data": {
      "text/plain": [
       "0    5415.0\n",
       "1    2413.0\n",
       "2      92.0\n",
       "3      34.0\n",
       "4     173.0\n",
       "Name: vote_count, dtype: float64"
      ]
     },
     "execution_count": 83,
     "metadata": {},
     "output_type": "execute_result"
    }
   ],
   "source": [
    "movies['vote_count'].head()"
   ]
  },
  {
   "cell_type": "code",
   "execution_count": 84,
   "id": "indie-disabled",
   "metadata": {},
   "outputs": [
    {
     "data": {
      "text/plain": [
       "3"
      ]
     },
     "execution_count": 84,
     "metadata": {},
     "output_type": "execute_result"
    }
   ],
   "source": [
    "movies['vote_count'].isna().sum()"
   ]
  },
  {
   "cell_type": "code",
   "execution_count": 85,
   "id": "handmade-range",
   "metadata": {},
   "outputs": [],
   "source": [
    "movies['vote_count'].fillna(0, inplace=True)"
   ]
  },
  {
   "cell_type": "code",
   "execution_count": 86,
   "id": "ahead-purpose",
   "metadata": {},
   "outputs": [
    {
     "data": {
      "text/plain": [
       "(2901, (45462, 23))"
      ]
     },
     "execution_count": 86,
     "metadata": {},
     "output_type": "execute_result"
    }
   ],
   "source": [
    "len(movies[movies['vote_count']==0]), movies.shape"
   ]
  },
  {
   "cell_type": "code",
   "execution_count": 103,
   "id": "educational-saturday",
   "metadata": {},
   "outputs": [
    {
     "data": {
      "image/png": "[encoded data removed]",
      "text/plain": [
       "<Figure size 720x1080 with 1 Axes>"
      ]
     },
     "metadata": {
      "needs_background": "light"
     },
     "output_type": "display_data"
    }
   ],
   "source": [
    "most_voted_movies = movies.sort_values(['vote_count'], ascending=False)\n",
    "plt.figure(figsize=(10, 15))\n",
    "plt.title('Top voted movie')\n",
    "plt.ylabel(\"Vote count\")\n",
    "plt.xlabel(\"Movie\")\n",
    "sns.barplot(x='vote_count',y='title',data=most_voted_movies[:30],orient='h');"
   ]
  },
  {
   "cell_type": "markdown",
   "id": "peaceful-biodiversity",
   "metadata": {},
   "source": [
    "### 11. Cast"
   ]
  },
  {
   "cell_type": "code",
   "execution_count": 105,
   "id": "lightweight-sport",
   "metadata": {},
   "outputs": [
    {
     "data": {
      "text/plain": [
       "0    [{'cast_id': 14, 'character': 'Woody (voice)',...\n",
       "1    [{'cast_id': 1, 'character': 'Alan Parrish', '...\n",
       "2    [{'cast_id': 2, 'character': 'Max Goldman', 'c...\n",
       "3    [{'cast_id': 1, 'character': 'Savannah 'Vannah...\n",
       "4    [{'cast_id': 1, 'character': 'George Banks', '...\n",
       "Name: cast, dtype: object"
      ]
     },
     "execution_count": 105,
     "metadata": {},
     "output_type": "execute_result"
    }
   ],
   "source": [
    "movies['cast'].head()"
   ]
  },
  {
   "cell_type": "code",
   "execution_count": 107,
   "id": "floating-facing",
   "metadata": {},
   "outputs": [],
   "source": [
    "movies['cast'] = movies['cast'].map(lambda cast: [c['name'] for c in cast])"
   ]
  },
  {
   "cell_type": "code",
   "execution_count": 110,
   "id": "czech-forwarding",
   "metadata": {},
   "outputs": [
    {
     "data": {
      "text/plain": [
       "Bess Flowers            241\n",
       "Christopher Lee         148\n",
       "John Wayne              125\n",
       "Samuel L. Jackson       123\n",
       "Michael Caine           110\n",
       "                       ... \n",
       "Sorrell Brooke            1\n",
       "Victoria Larriveu         1\n",
       "Philippe Giblin           1\n",
       "Thomas Gräßle             1\n",
       "Brandon Scott Miller      1\n",
       "Length: 202747, dtype: int64"
      ]
     },
     "execution_count": 110,
     "metadata": {},
     "output_type": "execute_result"
    }
   ],
   "source": [
    "flatten_casts = pd.Series(np.concatenate(movies['cast']))\n",
    "flatten_casts.value_counts()"
   ]
  },
  {
   "cell_type": "code",
   "execution_count": 112,
   "id": "domestic-opera",
   "metadata": {},
   "outputs": [
    {
     "data": {
      "image/png": "[encoded data removed]",
      "text/plain": [
       "<Figure size 720x720 with 1 Axes>"
      ]
     },
     "metadata": {
      "needs_background": "light"
     },
     "output_type": "display_data"
    }
   ],
   "source": [
    "top_frequency(flatten_casts, plt, sns, \"Count\", \"Actor\", \"Actor frequency\", figsize=(10, 10))"
   ]
  },
  {
   "cell_type": "markdown",
   "id": "elementary-cookbook",
   "metadata": {},
   "source": [
    "### 12. Keywords"
   ]
  },
  {
   "cell_type": "code",
   "execution_count": 113,
   "id": "traditional-chuck",
   "metadata": {},
   "outputs": [
    {
     "data": {
      "text/plain": [
       "0    [{'id': 931, 'name': 'jealousy'}, {'id': 4290,...\n",
       "1    [{'id': 10090, 'name': 'board game'}, {'id': 1...\n",
       "2    [{'id': 1495, 'name': 'fishing'}, {'id': 12392...\n",
       "3    [{'id': 818, 'name': 'based on novel'}, {'id':...\n",
       "4    [{'id': 1009, 'name': 'baby'}, {'id': 1599, 'n...\n",
       "Name: keywords, dtype: object"
      ]
     },
     "execution_count": 113,
     "metadata": {},
     "output_type": "execute_result"
    }
   ],
   "source": [
    "movies['keywords'].head()"
   ]
  },
  {
   "cell_type": "code",
   "execution_count": 114,
   "id": "indie-cloud",
   "metadata": {},
   "outputs": [],
   "source": [
    "movies['keywords'] = movies['keywords'].map(lambda keywords: [key['name'] for key in keywords])"
   ]
  },
  {
   "cell_type": "code",
   "execution_count": 115,
   "id": "detailed-component",
   "metadata": {},
   "outputs": [
    {
     "data": {
      "text/plain": [
       "woman director       3041\n",
       "independent film     1916\n",
       "murder               1286\n",
       "based on novel        823\n",
       "musical               726\n",
       "                     ... \n",
       "multiple felonies       1\n",
       "brechtian theatre       1\n",
       "fouke monster           1\n",
       "ska                     1\n",
       "social security         1\n",
       "Length: 19956, dtype: int64"
      ]
     },
     "execution_count": 115,
     "metadata": {},
     "output_type": "execute_result"
    }
   ],
   "source": [
    "flatten_keywords = pd.Series(np.concatenate(movies['keywords']))\n",
    "flatten_keywords.value_counts()"
   ]
  },
  {
   "cell_type": "code",
   "execution_count": 116,
   "id": "changed-screw",
   "metadata": {},
   "outputs": [
    {
     "data": {
      "image/png": "[encoded data removed]",
      "text/plain": [
       "<Figure size 720x720 with 1 Axes>"
      ]
     },
     "metadata": {
      "needs_background": "light"
     },
     "output_type": "display_data"
    }
   ],
   "source": [
    "top_frequency(flatten_keywords, plt, sns, \"Count\", \"Keyword\", \"Keyword frequency\", figsize=(10, 10))"
   ]
  },
  {
   "cell_type": "code",
   "execution_count": 9,
   "id": "brutal-plaza",
   "metadata": {},
   "outputs": [
    {
     "data": {
      "text/plain": [
       "Index(['adult', 'budget', 'genres', 'id', 'imdb_id', 'original_language',\n",
       "       'original_title', 'overview', 'popularity', 'production_companies',\n",
       "       'production_countries', 'release_date', 'revenue', 'spoken_languages',\n",
       "       'title', 'video', 'vote_average', 'vote_count', 'cast', 'crew',\n",
       "       'keywords'],\n",
       "      dtype='object')"
      ]
     },
     "execution_count": 9,
     "metadata": {},
     "output_type": "execute_result"
    }
   ],
   "source": [
    "movies.columns"
   ]
  },
  {
   "cell_type": "code",
   "execution_count": 117,
   "id": "mental-eating",
   "metadata": {},
   "outputs": [
    {
     "data": {
      "text/html": [
       "<div>\n",
       "<style scoped>\n",
       "    .dataframe tbody tr th:only-of-type {\n",
       "        vertical-align: middle;\n",
       "    }\n",
       "\n",
       "    .dataframe tbody tr th {\n",
       "        vertical-align: top;\n",
       "    }\n",
       "\n",
       "    .dataframe thead th {\n",
       "        text-align: right;\n",
       "    }\n",
       "</style>\n",
       "<table border=\"1\" class=\"dataframe\">\n",
       "  <thead>\n",
       "    <tr style=\"text-align: right;\">\n",
       "      <th></th>\n",
       "      <th>adult</th>\n",
       "      <th>budget</th>\n",
       "      <th>genres</th>\n",
       "      <th>id</th>\n",
       "      <th>imdb_id</th>\n",
       "      <th>original_language</th>\n",
       "      <th>original_title</th>\n",
       "      <th>overview</th>\n",
       "      <th>popularity</th>\n",
       "      <th>production_companies</th>\n",
       "      <th>...</th>\n",
       "      <th>spoken_languages</th>\n",
       "      <th>title</th>\n",
       "      <th>video</th>\n",
       "      <th>vote_average</th>\n",
       "      <th>vote_count</th>\n",
       "      <th>cast</th>\n",
       "      <th>crew</th>\n",
       "      <th>keywords</th>\n",
       "      <th>overview_length</th>\n",
       "      <th>round_vote_avg</th>\n",
       "    </tr>\n",
       "  </thead>\n",
       "  <tbody>\n",
       "    <tr>\n",
       "      <th>0</th>\n",
       "      <td>False</td>\n",
       "      <td>30000000</td>\n",
       "      <td>[Animation, Comedy, Family]</td>\n",
       "      <td>862</td>\n",
       "      <td>tt0114709</td>\n",
       "      <td>en</td>\n",
       "      <td>Toy Story</td>\n",
       "      <td>Led by Woody, Andy's toys live happily in his ...</td>\n",
       "      <td>21.946943</td>\n",
       "      <td>[Pixar Animation Studios]</td>\n",
       "      <td>...</td>\n",
       "      <td>[{'iso_639_1': 'en', 'name': 'English'}]</td>\n",
       "      <td>Toy Story</td>\n",
       "      <td>False</td>\n",
       "      <td>7.7</td>\n",
       "      <td>5415.0</td>\n",
       "      <td>[Tom Hanks, Tim Allen, Don Rickles, Jim Varney...</td>\n",
       "      <td>[{'credit_id': '52fe4284c3a36847f8024f49', 'de...</td>\n",
       "      <td>[jealousy, toy, boy, friendship, friends, riva...</td>\n",
       "      <td>50</td>\n",
       "      <td>8</td>\n",
       "    </tr>\n",
       "    <tr>\n",
       "      <th>1</th>\n",
       "      <td>False</td>\n",
       "      <td>65000000</td>\n",
       "      <td>[Adventure, Fantasy, Family]</td>\n",
       "      <td>8844</td>\n",
       "      <td>tt0113497</td>\n",
       "      <td>en</td>\n",
       "      <td>Jumanji</td>\n",
       "      <td>When siblings Judy and Peter discover an encha...</td>\n",
       "      <td>17.015539</td>\n",
       "      <td>[TriStar Pictures, Teitler Film, Interscope Co...</td>\n",
       "      <td>...</td>\n",
       "      <td>[{'iso_639_1': 'en', 'name': 'English'}, {'iso...</td>\n",
       "      <td>Jumanji</td>\n",
       "      <td>False</td>\n",
       "      <td>6.9</td>\n",
       "      <td>2413.0</td>\n",
       "      <td>[Robin Williams, Jonathan Hyde, Kirsten Dunst,...</td>\n",
       "      <td>[{'credit_id': '52fe44bfc3a36847f80a7cd1', 'de...</td>\n",
       "      <td>[board game, disappearance, based on children'...</td>\n",
       "      <td>67</td>\n",
       "      <td>7</td>\n",
       "    </tr>\n",
       "    <tr>\n",
       "      <th>2</th>\n",
       "      <td>False</td>\n",
       "      <td>0</td>\n",
       "      <td>[Romance, Comedy]</td>\n",
       "      <td>15602</td>\n",
       "      <td>tt0113228</td>\n",
       "      <td>en</td>\n",
       "      <td>Grumpier Old Men</td>\n",
       "      <td>A family wedding reignites the ancient feud be...</td>\n",
       "      <td>11.712900</td>\n",
       "      <td>[Warner Bros., Lancaster Gate]</td>\n",
       "      <td>...</td>\n",
       "      <td>[{'iso_639_1': 'en', 'name': 'English'}]</td>\n",
       "      <td>Grumpier Old Men</td>\n",
       "      <td>False</td>\n",
       "      <td>6.5</td>\n",
       "      <td>92.0</td>\n",
       "      <td>[Walter Matthau, Jack Lemmon, Ann-Margret, Sop...</td>\n",
       "      <td>[{'credit_id': '52fe466a9251416c75077a89', 'de...</td>\n",
       "      <td>[fishing, best friend, duringcreditsstinger, o...</td>\n",
       "      <td>56</td>\n",
       "      <td>6</td>\n",
       "    </tr>\n",
       "  </tbody>\n",
       "</table>\n",
       "<p>3 rows × 23 columns</p>\n",
       "</div>"
      ],
      "text/plain": [
       "   adult    budget                        genres     id    imdb_id  \\\n",
       "0  False  30000000   [Animation, Comedy, Family]    862  tt0114709   \n",
       "1  False  65000000  [Adventure, Fantasy, Family]   8844  tt0113497   \n",
       "2  False         0             [Romance, Comedy]  15602  tt0113228   \n",
       "\n",
       "  original_language    original_title  \\\n",
       "0                en         Toy Story   \n",
       "1                en           Jumanji   \n",
       "2                en  Grumpier Old Men   \n",
       "\n",
       "                                            overview  popularity  \\\n",
       "0  Led by Woody, Andy's toys live happily in his ...   21.946943   \n",
       "1  When siblings Judy and Peter discover an encha...   17.015539   \n",
       "2  A family wedding reignites the ancient feud be...   11.712900   \n",
       "\n",
       "                                production_companies  ...  \\\n",
       "0                          [Pixar Animation Studios]  ...   \n",
       "1  [TriStar Pictures, Teitler Film, Interscope Co...  ...   \n",
       "2                     [Warner Bros., Lancaster Gate]  ...   \n",
       "\n",
       "                                    spoken_languages             title  video  \\\n",
       "0           [{'iso_639_1': 'en', 'name': 'English'}]         Toy Story  False   \n",
       "1  [{'iso_639_1': 'en', 'name': 'English'}, {'iso...           Jumanji  False   \n",
       "2           [{'iso_639_1': 'en', 'name': 'English'}]  Grumpier Old Men  False   \n",
       "\n",
       "  vote_average vote_count                                               cast  \\\n",
       "0          7.7     5415.0  [Tom Hanks, Tim Allen, Don Rickles, Jim Varney...   \n",
       "1          6.9     2413.0  [Robin Williams, Jonathan Hyde, Kirsten Dunst,...   \n",
       "2          6.5       92.0  [Walter Matthau, Jack Lemmon, Ann-Margret, Sop...   \n",
       "\n",
       "                                                crew  \\\n",
       "0  [{'credit_id': '52fe4284c3a36847f8024f49', 'de...   \n",
       "1  [{'credit_id': '52fe44bfc3a36847f80a7cd1', 'de...   \n",
       "2  [{'credit_id': '52fe466a9251416c75077a89', 'de...   \n",
       "\n",
       "                                            keywords overview_length  \\\n",
       "0  [jealousy, toy, boy, friendship, friends, riva...              50   \n",
       "1  [board game, disappearance, based on children'...              67   \n",
       "2  [fishing, best friend, duringcreditsstinger, o...              56   \n",
       "\n",
       "  round_vote_avg  \n",
       "0              8  \n",
       "1              7  \n",
       "2              6  \n",
       "\n",
       "[3 rows x 23 columns]"
      ]
     },
     "execution_count": 117,
     "metadata": {},
     "output_type": "execute_result"
    }
   ],
   "source": [
    "movies.head(3)"
   ]
  },
  {
   "cell_type": "markdown",
   "id": "indonesian-netherlands",
   "metadata": {},
   "source": [
    "### 13. Spoken Languages"
   ]
  },
  {
   "cell_type": "code",
   "execution_count": 118,
   "id": "premium-liberal",
   "metadata": {},
   "outputs": [
    {
     "data": {
      "text/plain": [
       "0             [{'iso_639_1': 'en', 'name': 'English'}]\n",
       "1    [{'iso_639_1': 'en', 'name': 'English'}, {'iso...\n",
       "2             [{'iso_639_1': 'en', 'name': 'English'}]\n",
       "Name: spoken_languages, dtype: object"
      ]
     },
     "execution_count": 118,
     "metadata": {},
     "output_type": "execute_result"
    }
   ],
   "source": [
    "movies['spoken_languages'].head(3)"
   ]
  },
  {
   "cell_type": "code",
   "execution_count": 119,
   "id": "primary-chicken",
   "metadata": {},
   "outputs": [],
   "source": [
    "movies['spoken_languages'] = movies['spoken_languages'].map(lambda languages: [lang['name'] for lang in languages])"
   ]
  },
  {
   "cell_type": "code",
   "execution_count": 120,
   "id": "significant-breath",
   "metadata": {},
   "outputs": [
    {
     "data": {
      "text/plain": [
       "English            28745\n",
       "Français            4196\n",
       "Deutsch             2625\n",
       "Español             2413\n",
       "Italiano            2367\n",
       "                   ...  \n",
       "Malti                  3\n",
       "ozbek                  2\n",
       "беларуская мова        2\n",
       "Fulfulde               2\n",
       "Hausa                  1\n",
       "Length: 75, dtype: int64"
      ]
     },
     "execution_count": 120,
     "metadata": {},
     "output_type": "execute_result"
    }
   ],
   "source": [
    "flatten_spoken_languages = pd.Series(np.concatenate(movies['spoken_languages']))\n",
    "flatten_spoken_languages.value_counts()"
   ]
  },
  {
   "cell_type": "code",
   "execution_count": 121,
   "id": "distinct-shock",
   "metadata": {},
   "outputs": [
    {
     "data": {
      "image/png": "[encoded data removed]",
      "text/plain": [
       "<Figure size 720x720 with 1 Axes>"
      ]
     },
     "metadata": {
      "needs_background": "light"
     },
     "output_type": "display_data"
    }
   ],
   "source": [
    "top_frequency(flatten_spoken_languages, plt, sns, \"Count\", \"Language\", \"Language frequency\", figsize=(10, 10))"
   ]
  },
  {
   "cell_type": "code",
   "execution_count": 126,
   "id": "rising-cream",
   "metadata": {},
   "outputs": [],
   "source": [
    "movies.to_csv('../data/processed_movies.csv', index=False, columns=['budget',\n",
    "                                                                    'genres',\n",
    "                                                                    'id',\n",
    "                                                                    'original_language',\n",
    "                                                                    'overview',\n",
    "                                                                    'popularity',\n",
    "                                                                    'production_companies',\n",
    "                                                                    'revenue',\n",
    "                                                                    'spoken_languages',\n",
    "                                                                    'title',\n",
    "                                                                    'vote_average',\n",
    "                                                                    'vote_count',\n",
    "                                                                    'cast',\n",
    "                                                                    'keywords'])"
   ]
  },
  {
   "cell_type": "markdown",
   "id": "marked-psychology",
   "metadata": {},
   "source": [
    "# Interesting metadata"
   ]
  },
  {
   "cell_type": "code",
   "execution_count": 3,
   "id": "third-scenario",
   "metadata": {},
   "outputs": [
    {
     "data": {
      "text/html": [
       "<div>\n",
       "<style scoped>\n",
       "    .dataframe tbody tr th:only-of-type {\n",
       "        vertical-align: middle;\n",
       "    }\n",
       "\n",
       "    .dataframe tbody tr th {\n",
       "        vertical-align: top;\n",
       "    }\n",
       "\n",
       "    .dataframe thead th {\n",
       "        text-align: right;\n",
       "    }\n",
       "</style>\n",
       "<table border=\"1\" class=\"dataframe\">\n",
       "  <thead>\n",
       "    <tr style=\"text-align: right;\">\n",
       "      <th></th>\n",
       "      <th>budget</th>\n",
       "      <th>genres</th>\n",
       "      <th>tmdbId</th>\n",
       "      <th>original_language</th>\n",
       "      <th>overview</th>\n",
       "      <th>popularity</th>\n",
       "      <th>production_companies</th>\n",
       "      <th>revenue</th>\n",
       "      <th>spoken_languages</th>\n",
       "      <th>title</th>\n",
       "      <th>vote_average</th>\n",
       "      <th>vote_count</th>\n",
       "      <th>cast</th>\n",
       "      <th>keywords</th>\n",
       "    </tr>\n",
       "  </thead>\n",
       "  <tbody>\n",
       "    <tr>\n",
       "      <th>0</th>\n",
       "      <td>30000000</td>\n",
       "      <td>[Animation, Comedy, Family]</td>\n",
       "      <td>862</td>\n",
       "      <td>en</td>\n",
       "      <td>Led by Woody, Andy's toys live happily in his ...</td>\n",
       "      <td>21.946943</td>\n",
       "      <td>[Pixar Animation Studios]</td>\n",
       "      <td>373554033.0</td>\n",
       "      <td>[English]</td>\n",
       "      <td>Toy Story</td>\n",
       "      <td>7.7</td>\n",
       "      <td>5415.0</td>\n",
       "      <td>[Tom Hanks, Tim Allen, Don Rickles, Jim Varney...</td>\n",
       "      <td>[jealousy, toy, boy, friendship, friends, riva...</td>\n",
       "    </tr>\n",
       "    <tr>\n",
       "      <th>1</th>\n",
       "      <td>65000000</td>\n",
       "      <td>[Adventure, Fantasy, Family]</td>\n",
       "      <td>8844</td>\n",
       "      <td>en</td>\n",
       "      <td>When siblings Judy and Peter discover an encha...</td>\n",
       "      <td>17.015539</td>\n",
       "      <td>[TriStar Pictures, Teitler Film, Interscope Co...</td>\n",
       "      <td>262797249.0</td>\n",
       "      <td>[English, Français]</td>\n",
       "      <td>Jumanji</td>\n",
       "      <td>6.9</td>\n",
       "      <td>2413.0</td>\n",
       "      <td>[Robin Williams, Jonathan Hyde, Kirsten Dunst,...</td>\n",
       "      <td>[board game, disappearance, based on children'...</td>\n",
       "    </tr>\n",
       "  </tbody>\n",
       "</table>\n",
       "</div>"
      ],
      "text/plain": [
       "     budget                        genres  tmdbId original_language  \\\n",
       "0  30000000   [Animation, Comedy, Family]     862                en   \n",
       "1  65000000  [Adventure, Fantasy, Family]    8844                en   \n",
       "\n",
       "                                            overview  popularity  \\\n",
       "0  Led by Woody, Andy's toys live happily in his ...   21.946943   \n",
       "1  When siblings Judy and Peter discover an encha...   17.015539   \n",
       "\n",
       "                                production_companies      revenue  \\\n",
       "0                          [Pixar Animation Studios]  373554033.0   \n",
       "1  [TriStar Pictures, Teitler Film, Interscope Co...  262797249.0   \n",
       "\n",
       "      spoken_languages      title  vote_average  vote_count  \\\n",
       "0            [English]  Toy Story           7.7      5415.0   \n",
       "1  [English, Français]    Jumanji           6.9      2413.0   \n",
       "\n",
       "                                                cast  \\\n",
       "0  [Tom Hanks, Tim Allen, Don Rickles, Jim Varney...   \n",
       "1  [Robin Williams, Jonathan Hyde, Kirsten Dunst,...   \n",
       "\n",
       "                                            keywords  \n",
       "0  [jealousy, toy, boy, friendship, friends, riva...  \n",
       "1  [board game, disappearance, based on children'...  "
      ]
     },
     "execution_count": 3,
     "metadata": {},
     "output_type": "execute_result"
    }
   ],
   "source": [
    "movies = pd.read_csv('../data/processed_movies.csv')\n",
    "\n",
    "movies.rename(columns={\"id\": \"tmdbId\"}, inplace=True)\n",
    "\n",
    "movies['genres'] = movies['genres'].map(ast.literal_eval)\n",
    "movies['production_companies'] = movies['production_companies'].map(ast.literal_eval)\n",
    "movies['spoken_languages'] = movies['spoken_languages'].map(ast.literal_eval)\n",
    "movies['cast'] = movies['cast'].map(ast.literal_eval)\n",
    "movies['keywords'] = movies['keywords'].map(ast.literal_eval)\n",
    "\n",
    "\n",
    "movies.head(2)"
   ]
  },
  {
   "cell_type": "code",
   "execution_count": 4,
   "id": "known-norwegian",
   "metadata": {},
   "outputs": [
    {
     "data": {
      "text/html": [
       "<div>\n",
       "<style scoped>\n",
       "    .dataframe tbody tr th:only-of-type {\n",
       "        vertical-align: middle;\n",
       "    }\n",
       "\n",
       "    .dataframe tbody tr th {\n",
       "        vertical-align: top;\n",
       "    }\n",
       "\n",
       "    .dataframe thead th {\n",
       "        text-align: right;\n",
       "    }\n",
       "</style>\n",
       "<table border=\"1\" class=\"dataframe\">\n",
       "  <thead>\n",
       "    <tr style=\"text-align: right;\">\n",
       "      <th></th>\n",
       "      <th>movieId</th>\n",
       "      <th>imdbId</th>\n",
       "      <th>tmdbId</th>\n",
       "    </tr>\n",
       "  </thead>\n",
       "  <tbody>\n",
       "    <tr>\n",
       "      <th>0</th>\n",
       "      <td>1</td>\n",
       "      <td>114709</td>\n",
       "      <td>862.0</td>\n",
       "    </tr>\n",
       "    <tr>\n",
       "      <th>1</th>\n",
       "      <td>2</td>\n",
       "      <td>113497</td>\n",
       "      <td>8844.0</td>\n",
       "    </tr>\n",
       "    <tr>\n",
       "      <th>2</th>\n",
       "      <td>3</td>\n",
       "      <td>113228</td>\n",
       "      <td>15602.0</td>\n",
       "    </tr>\n",
       "    <tr>\n",
       "      <th>3</th>\n",
       "      <td>4</td>\n",
       "      <td>114885</td>\n",
       "      <td>31357.0</td>\n",
       "    </tr>\n",
       "    <tr>\n",
       "      <th>4</th>\n",
       "      <td>5</td>\n",
       "      <td>113041</td>\n",
       "      <td>11862.0</td>\n",
       "    </tr>\n",
       "  </tbody>\n",
       "</table>\n",
       "</div>"
      ],
      "text/plain": [
       "   movieId  imdbId   tmdbId\n",
       "0        1  114709    862.0\n",
       "1        2  113497   8844.0\n",
       "2        3  113228  15602.0\n",
       "3        4  114885  31357.0\n",
       "4        5  113041  11862.0"
      ]
     },
     "execution_count": 4,
     "metadata": {},
     "output_type": "execute_result"
    }
   ],
   "source": [
    "links = pd.read_csv('../data/links.csv')\n",
    "links.drop_duplicates('tmdbId', inplace=True)\n",
    "links.head()"
   ]
  },
  {
   "cell_type": "code",
   "execution_count": 5,
   "id": "crazy-seven",
   "metadata": {},
   "outputs": [
    {
     "data": {
      "text/plain": [
       "((45462, 14), (45595, 3))"
      ]
     },
     "execution_count": 5,
     "metadata": {},
     "output_type": "execute_result"
    }
   ],
   "source": [
    "movies.shape, links.shape"
   ]
  },
  {
   "cell_type": "code",
   "execution_count": 6,
   "id": "interesting-property",
   "metadata": {},
   "outputs": [
    {
     "data": {
      "text/plain": [
       "(45462, 16)"
      ]
     },
     "execution_count": 6,
     "metadata": {},
     "output_type": "execute_result"
    }
   ],
   "source": [
    "movies = movies.merge(links, how='left', on='tmdbId')\n",
    "movies.shape"
   ]
  },
  {
   "cell_type": "code",
   "execution_count": 10,
   "id": "knowing-claim",
   "metadata": {},
   "outputs": [],
   "source": [
    "movies['overview'].fillna('', inplace=True)\n",
    "movies['overview_length'] = movies['overview'].map(lambda x : len(x.split()))\n",
    "movies['genres_length'] = movies['genres'].map(len)"
   ]
  },
  {
   "cell_type": "code",
   "execution_count": 11,
   "id": "numerical-gardening",
   "metadata": {},
   "outputs": [
    {
     "data": {
      "text/plain": [
       "(41999, 18)"
      ]
     },
     "execution_count": 11,
     "metadata": {},
     "output_type": "execute_result"
    }
   ],
   "source": [
    "movies = movies[(movies['overview_length'] >= 8) & (movies['genres_length'] >= 1)]\n",
    "movies.shape"
   ]
  },
  {
   "cell_type": "code",
   "execution_count": 13,
   "id": "listed-lecture",
   "metadata": {},
   "outputs": [
    {
     "data": {
      "text/html": [
       "<div>\n",
       "<style scoped>\n",
       "    .dataframe tbody tr th:only-of-type {\n",
       "        vertical-align: middle;\n",
       "    }\n",
       "\n",
       "    .dataframe tbody tr th {\n",
       "        vertical-align: top;\n",
       "    }\n",
       "\n",
       "    .dataframe thead th {\n",
       "        text-align: right;\n",
       "    }\n",
       "</style>\n",
       "<table border=\"1\" class=\"dataframe\">\n",
       "  <thead>\n",
       "    <tr style=\"text-align: right;\">\n",
       "      <th></th>\n",
       "      <th>budget</th>\n",
       "      <th>genres</th>\n",
       "      <th>tmdbId</th>\n",
       "      <th>original_language</th>\n",
       "      <th>overview</th>\n",
       "      <th>popularity</th>\n",
       "      <th>production_companies</th>\n",
       "      <th>revenue</th>\n",
       "      <th>spoken_languages</th>\n",
       "      <th>title</th>\n",
       "      <th>vote_average</th>\n",
       "      <th>vote_count</th>\n",
       "      <th>cast</th>\n",
       "      <th>keywords</th>\n",
       "      <th>movieId</th>\n",
       "      <th>imdbId</th>\n",
       "      <th>overview_length</th>\n",
       "      <th>genres_length</th>\n",
       "    </tr>\n",
       "  </thead>\n",
       "  <tbody>\n",
       "    <tr>\n",
       "      <th>0</th>\n",
       "      <td>30000000</td>\n",
       "      <td>[Animation, Comedy, Family]</td>\n",
       "      <td>862</td>\n",
       "      <td>en</td>\n",
       "      <td>Led by Woody, Andy's toys live happily in his ...</td>\n",
       "      <td>21.946943</td>\n",
       "      <td>[Pixar Animation Studios]</td>\n",
       "      <td>373554033.0</td>\n",
       "      <td>[English]</td>\n",
       "      <td>Toy Story</td>\n",
       "      <td>7.7</td>\n",
       "      <td>5415.0</td>\n",
       "      <td>[Tom Hanks, Tim Allen, Don Rickles, Jim Varney...</td>\n",
       "      <td>[jealousy, toy, boy, friendship, friends, riva...</td>\n",
       "      <td>1</td>\n",
       "      <td>114709</td>\n",
       "      <td>50</td>\n",
       "      <td>3</td>\n",
       "    </tr>\n",
       "  </tbody>\n",
       "</table>\n",
       "</div>"
      ],
      "text/plain": [
       "     budget                       genres  tmdbId original_language  \\\n",
       "0  30000000  [Animation, Comedy, Family]     862                en   \n",
       "\n",
       "                                            overview  popularity  \\\n",
       "0  Led by Woody, Andy's toys live happily in his ...   21.946943   \n",
       "\n",
       "        production_companies      revenue spoken_languages      title  \\\n",
       "0  [Pixar Animation Studios]  373554033.0        [English]  Toy Story   \n",
       "\n",
       "   vote_average  vote_count  \\\n",
       "0           7.7      5415.0   \n",
       "\n",
       "                                                cast  \\\n",
       "0  [Tom Hanks, Tim Allen, Don Rickles, Jim Varney...   \n",
       "\n",
       "                                            keywords  movieId  imdbId  \\\n",
       "0  [jealousy, toy, boy, friendship, friends, riva...        1  114709   \n",
       "\n",
       "   overview_length  genres_length  \n",
       "0               50              3  "
      ]
     },
     "execution_count": 13,
     "metadata": {},
     "output_type": "execute_result"
    }
   ],
   "source": [
    "movies.head(1)"
   ]
  },
  {
   "cell_type": "code",
   "execution_count": 15,
   "id": "italic-granny",
   "metadata": {},
   "outputs": [],
   "source": [
    "movies.to_csv('../data/movies_w_description.csv', index=False, columns=['movieId',\n",
    "                                                                        'overview',\n",
    "                                                                        'genres',\n",
    "                                                                        'title',\n",
    "                                                                        'keywords'])"
   ]
  },
  {
   "cell_type": "code",
   "execution_count": 14,
   "id": "rocky-times",
   "metadata": {},
   "outputs": [
    {
     "data": {
      "text/plain": [
       "(41999, 18)"
      ]
     },
     "execution_count": 14,
     "metadata": {},
     "output_type": "execute_result"
    }
   ],
   "source": [
    "movies.shape"
   ]
  },
  {
   "cell_type": "code",
   "execution_count": null,
   "id": "sporting-trademark",
   "metadata": {},
   "outputs": [],
   "source": []
  },
  {
   "cell_type": "code",
   "execution_count": 13,
   "id": "designing-honduras",
   "metadata": {},
   "outputs": [
    {
     "data": {
      "text/plain": [
       "17888"
      ]
     },
     "execution_count": 13,
     "metadata": {},
     "output_type": "execute_result"
    }
   ],
   "source": [
    "unique_sid = list()\n",
    "with open('../data/processed/4_5_5_False_15000/unique_sid.txt', 'r') as f:\n",
    "    for line in f:\n",
    "        unique_sid.append(int(line.strip()))\n",
    "        \n",
    "len(unique_sid)"
   ]
  },
  {
   "cell_type": "code",
   "execution_count": 18,
   "id": "parliamentary-drawing",
   "metadata": {},
   "outputs": [],
   "source": [
    "movies['tmdbId'] = movies['tmdbId'].astype(int)"
   ]
  },
  {
   "cell_type": "code",
   "execution_count": 20,
   "id": "silent-midnight",
   "metadata": {},
   "outputs": [
    {
     "data": {
      "text/plain": [
       "(17773, 17)"
      ]
     },
     "execution_count": 20,
     "metadata": {},
     "output_type": "execute_result"
    }
   ],
   "source": [
    "selected_movies = movies[movies['movieId'].isin(unique_sid)]\n",
    "selected_movies.shape"
   ]
  },
  {
   "cell_type": "code",
   "execution_count": 21,
   "id": "pretty-skirt",
   "metadata": {},
   "outputs": [
    {
     "data": {
      "text/plain": [
       "115"
      ]
     },
     "execution_count": 21,
     "metadata": {},
     "output_type": "execute_result"
    }
   ],
   "source": [
    "17888 - 17773"
   ]
  },
  {
   "cell_type": "code",
   "execution_count": null,
   "id": "productive-guidance",
   "metadata": {},
   "outputs": [],
   "source": [
    "df.loc[(df['column_name'] >= A) & (df['column_name'] <= B)]"
   ]
  },
  {
   "cell_type": "code",
   "execution_count": 24,
   "id": "compliant-black",
   "metadata": {},
   "outputs": [],
   "source": [
    "len(movies[movies['overview_length']==0])"
   ]
  },
  {
   "cell_type": "code",
   "execution_count": 27,
   "id": "judicial-issue",
   "metadata": {},
   "outputs": [
    {
     "name": "stdout",
     "output_type": "stream",
     "text": [
      "0 959\n",
      "1 4\n",
      "2 26\n",
      "3 146\n",
      "4 44\n",
      "5 54\n",
      "6 70\n",
      "7 79\n",
      "8 122\n",
      "9 168\n"
     ]
    }
   ],
   "source": [
    "for i in range(10):\n",
    "    print(i, len(movies[movies['overview_length']==i]))"
   ]
  },
  {
   "cell_type": "code",
   "execution_count": 30,
   "id": "acoustic-generation",
   "metadata": {},
   "outputs": [
    {
     "data": {
      "text/html": [
       "<div>\n",
       "<style scoped>\n",
       "    .dataframe tbody tr th:only-of-type {\n",
       "        vertical-align: middle;\n",
       "    }\n",
       "\n",
       "    .dataframe tbody tr th {\n",
       "        vertical-align: top;\n",
       "    }\n",
       "\n",
       "    .dataframe thead th {\n",
       "        text-align: right;\n",
       "    }\n",
       "</style>\n",
       "<table border=\"1\" class=\"dataframe\">\n",
       "  <thead>\n",
       "    <tr style=\"text-align: right;\">\n",
       "      <th></th>\n",
       "      <th>budget</th>\n",
       "      <th>genres</th>\n",
       "      <th>id</th>\n",
       "      <th>original_language</th>\n",
       "      <th>overview</th>\n",
       "      <th>popularity</th>\n",
       "      <th>production_companies</th>\n",
       "      <th>revenue</th>\n",
       "      <th>spoken_languages</th>\n",
       "      <th>title</th>\n",
       "      <th>vote_average</th>\n",
       "      <th>vote_count</th>\n",
       "      <th>cast</th>\n",
       "      <th>keywords</th>\n",
       "      <th>tmdbId</th>\n",
       "      <th>movieId</th>\n",
       "      <th>imdbId</th>\n",
       "      <th>overview_length</th>\n",
       "    </tr>\n",
       "  </thead>\n",
       "  <tbody>\n",
       "    <tr>\n",
       "      <th>137</th>\n",
       "      <td>0</td>\n",
       "      <td>[]</td>\n",
       "      <td>124639</td>\n",
       "      <td>en</td>\n",
       "      <td>A subtle yet violent commentary on feudal lords.</td>\n",
       "      <td>0.001205</td>\n",
       "      <td>[]</td>\n",
       "      <td>0.0</td>\n",
       "      <td>[]</td>\n",
       "      <td>Target</td>\n",
       "      <td>0.0</td>\n",
       "      <td>0.0</td>\n",
       "      <td>[]</td>\n",
       "      <td>[]</td>\n",
       "      <td>124639</td>\n",
       "      <td>139</td>\n",
       "      <td>114618</td>\n",
       "      <td>8</td>\n",
       "    </tr>\n",
       "    <tr>\n",
       "      <th>5123</th>\n",
       "      <td>0</td>\n",
       "      <td>[Foreign]</td>\n",
       "      <td>125764</td>\n",
       "      <td>en</td>\n",
       "      <td>A mysterious creature is killing a farmer's li...</td>\n",
       "      <td>0.058586</td>\n",
       "      <td>[]</td>\n",
       "      <td>0.0</td>\n",
       "      <td>[English]</td>\n",
       "      <td>In The Winter Dark</td>\n",
       "      <td>6.5</td>\n",
       "      <td>1.0</td>\n",
       "      <td>[Brenda Blethyn, Ray Barrett, Richard Roxburgh...</td>\n",
       "      <td>[]</td>\n",
       "      <td>125764</td>\n",
       "      <td>5257</td>\n",
       "      <td>123114</td>\n",
       "      <td>8</td>\n",
       "    </tr>\n",
       "    <tr>\n",
       "      <th>6414</th>\n",
       "      <td>0</td>\n",
       "      <td>[Drama, Music]</td>\n",
       "      <td>24356</td>\n",
       "      <td>en</td>\n",
       "      <td>Amidst unrest, organizers put on a benefit con...</td>\n",
       "      <td>2.524264</td>\n",
       "      <td>[BBC Films, Intermedia Films]</td>\n",
       "      <td>0.0</td>\n",
       "      <td>[English]</td>\n",
       "      <td>Masked and Anonymous</td>\n",
       "      <td>5.2</td>\n",
       "      <td>13.0</td>\n",
       "      <td>[Bob Dylan, Jeff Bridges, Penélope Cruz, John ...</td>\n",
       "      <td>[journalist, musical, concert, independent film]</td>\n",
       "      <td>24356</td>\n",
       "      <td>6563</td>\n",
       "      <td>319829</td>\n",
       "      <td>8</td>\n",
       "    </tr>\n",
       "    <tr>\n",
       "      <th>6622</th>\n",
       "      <td>0</td>\n",
       "      <td>[Comedy]</td>\n",
       "      <td>18113</td>\n",
       "      <td>en</td>\n",
       "      <td>Chaos and misunderstandings ensue in a coed dorm</td>\n",
       "      <td>4.640429</td>\n",
       "      <td>[National Lampoon Productions]</td>\n",
       "      <td>0.0</td>\n",
       "      <td>[English]</td>\n",
       "      <td>National Lampoon Presents Dorm Daze</td>\n",
       "      <td>4.6</td>\n",
       "      <td>34.0</td>\n",
       "      <td>[Tatyana Ali, Boti Bliss, Gable Carr, Patrick ...</td>\n",
       "      <td>[gay, prostitute, college, dormitory, mistaken...</td>\n",
       "      <td>18113</td>\n",
       "      <td>6771</td>\n",
       "      <td>362511</td>\n",
       "      <td>8</td>\n",
       "    </tr>\n",
       "    <tr>\n",
       "      <th>6813</th>\n",
       "      <td>0</td>\n",
       "      <td>[]</td>\n",
       "      <td>158413</td>\n",
       "      <td>en</td>\n",
       "      <td>Documentary account of George W. Bush's presid...</td>\n",
       "      <td>0.202712</td>\n",
       "      <td>[]</td>\n",
       "      <td>0.0</td>\n",
       "      <td>[]</td>\n",
       "      <td>Journeys with George</td>\n",
       "      <td>8.0</td>\n",
       "      <td>1.0</td>\n",
       "      <td>[George W. Bush]</td>\n",
       "      <td>[]</td>\n",
       "      <td>158413</td>\n",
       "      <td>6965</td>\n",
       "      <td>312848</td>\n",
       "      <td>8</td>\n",
       "    </tr>\n",
       "    <tr>\n",
       "      <th>...</th>\n",
       "      <td>...</td>\n",
       "      <td>...</td>\n",
       "      <td>...</td>\n",
       "      <td>...</td>\n",
       "      <td>...</td>\n",
       "      <td>...</td>\n",
       "      <td>...</td>\n",
       "      <td>...</td>\n",
       "      <td>...</td>\n",
       "      <td>...</td>\n",
       "      <td>...</td>\n",
       "      <td>...</td>\n",
       "      <td>...</td>\n",
       "      <td>...</td>\n",
       "      <td>...</td>\n",
       "      <td>...</td>\n",
       "      <td>...</td>\n",
       "      <td>...</td>\n",
       "    </tr>\n",
       "    <tr>\n",
       "      <th>44713</th>\n",
       "      <td>0</td>\n",
       "      <td>[Comedy]</td>\n",
       "      <td>127098</td>\n",
       "      <td>fr</td>\n",
       "      <td>Pioneer filmmaker Georges Méliès performs his ...</td>\n",
       "      <td>0.141611</td>\n",
       "      <td>[Star Film Company]</td>\n",
       "      <td>0.0</td>\n",
       "      <td>[]</td>\n",
       "      <td>Extraordinary Illusions</td>\n",
       "      <td>4.8</td>\n",
       "      <td>4.0</td>\n",
       "      <td>[Georges Méliès]</td>\n",
       "      <td>[illusionist]</td>\n",
       "      <td>127098</td>\n",
       "      <td>174167</td>\n",
       "      <td>223509</td>\n",
       "      <td>8</td>\n",
       "    </tr>\n",
       "    <tr>\n",
       "      <th>44724</th>\n",
       "      <td>0</td>\n",
       "      <td>[]</td>\n",
       "      <td>196491</td>\n",
       "      <td>fr</td>\n",
       "      <td>Magical flowery frolics, similar to a Melies f...</td>\n",
       "      <td>0.073093</td>\n",
       "      <td>[]</td>\n",
       "      <td>0.0</td>\n",
       "      <td>[]</td>\n",
       "      <td>Les tulipes</td>\n",
       "      <td>4.5</td>\n",
       "      <td>2.0</td>\n",
       "      <td>[]</td>\n",
       "      <td>[]</td>\n",
       "      <td>196491</td>\n",
       "      <td>174203</td>\n",
       "      <td>173368</td>\n",
       "      <td>8</td>\n",
       "    </tr>\n",
       "    <tr>\n",
       "      <th>44859</th>\n",
       "      <td>0</td>\n",
       "      <td>[Comedy]</td>\n",
       "      <td>17630</td>\n",
       "      <td>fr</td>\n",
       "      <td>They call her ugly. She's gonna act ugly.</td>\n",
       "      <td>3.841513</td>\n",
       "      <td>[Karé Productions]</td>\n",
       "      <td>0.0</td>\n",
       "      <td>[Français]</td>\n",
       "      <td>Ugly Melanie</td>\n",
       "      <td>5.6</td>\n",
       "      <td>74.0</td>\n",
       "      <td>[Marilou Berry, Frédérique Bel, Chantal Lauby,...</td>\n",
       "      <td>[]</td>\n",
       "      <td>17630</td>\n",
       "      <td>174629</td>\n",
       "      <td>1132608</td>\n",
       "      <td>8</td>\n",
       "    </tr>\n",
       "    <tr>\n",
       "      <th>45045</th>\n",
       "      <td>0</td>\n",
       "      <td>[Drama]</td>\n",
       "      <td>260969</td>\n",
       "      <td>ru</td>\n",
       "      <td>Drama film about different lifes of twin broth...</td>\n",
       "      <td>0.102196</td>\n",
       "      <td>[Mosfilm]</td>\n",
       "      <td>0.0</td>\n",
       "      <td>[Pусский]</td>\n",
       "      <td>Kerosene Salesman's Wife</td>\n",
       "      <td>7.0</td>\n",
       "      <td>2.0</td>\n",
       "      <td>[Vytautas Paukste, Aleksandr Baluev, Sergey Ve...</td>\n",
       "      <td>[]</td>\n",
       "      <td>260969</td>\n",
       "      <td>175287</td>\n",
       "      <td>96503</td>\n",
       "      <td>8</td>\n",
       "    </tr>\n",
       "    <tr>\n",
       "      <th>45457</th>\n",
       "      <td>0</td>\n",
       "      <td>[Drama, Family]</td>\n",
       "      <td>439050</td>\n",
       "      <td>fa</td>\n",
       "      <td>Rising and falling between a man and woman.</td>\n",
       "      <td>0.072051</td>\n",
       "      <td>[]</td>\n",
       "      <td>0.0</td>\n",
       "      <td>[فارسی]</td>\n",
       "      <td>Subdue</td>\n",
       "      <td>4.0</td>\n",
       "      <td>1.0</td>\n",
       "      <td>[Leila Hatami, Kourosh Tahami, Elham Korda]</td>\n",
       "      <td>[tragic love]</td>\n",
       "      <td>439050</td>\n",
       "      <td>176269</td>\n",
       "      <td>6209470</td>\n",
       "      <td>8</td>\n",
       "    </tr>\n",
       "  </tbody>\n",
       "</table>\n",
       "<p>122 rows × 18 columns</p>\n",
       "</div>"
      ],
      "text/plain": [
       "       budget           genres      id original_language  \\\n",
       "137         0               []  124639                en   \n",
       "5123        0        [Foreign]  125764                en   \n",
       "6414        0   [Drama, Music]   24356                en   \n",
       "6622        0         [Comedy]   18113                en   \n",
       "6813        0               []  158413                en   \n",
       "...       ...              ...     ...               ...   \n",
       "44713       0         [Comedy]  127098                fr   \n",
       "44724       0               []  196491                fr   \n",
       "44859       0         [Comedy]   17630                fr   \n",
       "45045       0          [Drama]  260969                ru   \n",
       "45457       0  [Drama, Family]  439050                fa   \n",
       "\n",
       "                                                overview  popularity  \\\n",
       "137     A subtle yet violent commentary on feudal lords.    0.001205   \n",
       "5123   A mysterious creature is killing a farmer's li...    0.058586   \n",
       "6414   Amidst unrest, organizers put on a benefit con...    2.524264   \n",
       "6622    Chaos and misunderstandings ensue in a coed dorm    4.640429   \n",
       "6813   Documentary account of George W. Bush's presid...    0.202712   \n",
       "...                                                  ...         ...   \n",
       "44713  Pioneer filmmaker Georges Méliès performs his ...    0.141611   \n",
       "44724  Magical flowery frolics, similar to a Melies f...    0.073093   \n",
       "44859          They call her ugly. She's gonna act ugly.    3.841513   \n",
       "45045  Drama film about different lifes of twin broth...    0.102196   \n",
       "45457        Rising and falling between a man and woman.    0.072051   \n",
       "\n",
       "                 production_companies  revenue spoken_languages  \\\n",
       "137                                []      0.0               []   \n",
       "5123                               []      0.0        [English]   \n",
       "6414    [BBC Films, Intermedia Films]      0.0        [English]   \n",
       "6622   [National Lampoon Productions]      0.0        [English]   \n",
       "6813                               []      0.0               []   \n",
       "...                               ...      ...              ...   \n",
       "44713             [Star Film Company]      0.0               []   \n",
       "44724                              []      0.0               []   \n",
       "44859              [Karé Productions]      0.0       [Français]   \n",
       "45045                       [Mosfilm]      0.0        [Pусский]   \n",
       "45457                              []      0.0          [فارسی]   \n",
       "\n",
       "                                     title  vote_average  vote_count  \\\n",
       "137                                 Target           0.0         0.0   \n",
       "5123                    In The Winter Dark           6.5         1.0   \n",
       "6414                  Masked and Anonymous           5.2        13.0   \n",
       "6622   National Lampoon Presents Dorm Daze           4.6        34.0   \n",
       "6813                  Journeys with George           8.0         1.0   \n",
       "...                                    ...           ...         ...   \n",
       "44713              Extraordinary Illusions           4.8         4.0   \n",
       "44724                          Les tulipes           4.5         2.0   \n",
       "44859                         Ugly Melanie           5.6        74.0   \n",
       "45045             Kerosene Salesman's Wife           7.0         2.0   \n",
       "45457                               Subdue           4.0         1.0   \n",
       "\n",
       "                                                    cast  \\\n",
       "137                                                   []   \n",
       "5123   [Brenda Blethyn, Ray Barrett, Richard Roxburgh...   \n",
       "6414   [Bob Dylan, Jeff Bridges, Penélope Cruz, John ...   \n",
       "6622   [Tatyana Ali, Boti Bliss, Gable Carr, Patrick ...   \n",
       "6813                                    [George W. Bush]   \n",
       "...                                                  ...   \n",
       "44713                                   [Georges Méliès]   \n",
       "44724                                                 []   \n",
       "44859  [Marilou Berry, Frédérique Bel, Chantal Lauby,...   \n",
       "45045  [Vytautas Paukste, Aleksandr Baluev, Sergey Ve...   \n",
       "45457        [Leila Hatami, Kourosh Tahami, Elham Korda]   \n",
       "\n",
       "                                                keywords  tmdbId  movieId  \\\n",
       "137                                                   []  124639      139   \n",
       "5123                                                  []  125764     5257   \n",
       "6414    [journalist, musical, concert, independent film]   24356     6563   \n",
       "6622   [gay, prostitute, college, dormitory, mistaken...   18113     6771   \n",
       "6813                                                  []  158413     6965   \n",
       "...                                                  ...     ...      ...   \n",
       "44713                                      [illusionist]  127098   174167   \n",
       "44724                                                 []  196491   174203   \n",
       "44859                                                 []   17630   174629   \n",
       "45045                                                 []  260969   175287   \n",
       "45457                                      [tragic love]  439050   176269   \n",
       "\n",
       "        imdbId  overview_length  \n",
       "137     114618                8  \n",
       "5123    123114                8  \n",
       "6414    319829                8  \n",
       "6622    362511                8  \n",
       "6813    312848                8  \n",
       "...        ...              ...  \n",
       "44713   223509                8  \n",
       "44724   173368                8  \n",
       "44859  1132608                8  \n",
       "45045    96503                8  \n",
       "45457  6209470                8  \n",
       "\n",
       "[122 rows x 18 columns]"
      ]
     },
     "execution_count": 30,
     "metadata": {},
     "output_type": "execute_result"
    }
   ],
   "source": [
    "movies[movies['overview_length']==8]"
   ]
  },
  {
   "cell_type": "code",
   "execution_count": null,
   "id": "ultimate-facility",
   "metadata": {},
   "outputs": [],
   "source": []
  },
  {
   "cell_type": "markdown",
   "id": "angry-classroom",
   "metadata": {},
   "source": [
    "# Fine tuning movie description with BERT"
   ]
  },
  {
   "cell_type": "code",
   "execution_count": 10,
   "id": "above-missouri",
   "metadata": {},
   "outputs": [
    {
     "data": {
      "text/html": [
       "<div>\n",
       "<style scoped>\n",
       "    .dataframe tbody tr th:only-of-type {\n",
       "        vertical-align: middle;\n",
       "    }\n",
       "\n",
       "    .dataframe tbody tr th {\n",
       "        vertical-align: top;\n",
       "    }\n",
       "\n",
       "    .dataframe thead th {\n",
       "        text-align: right;\n",
       "    }\n",
       "</style>\n",
       "<table border=\"1\" class=\"dataframe\">\n",
       "  <thead>\n",
       "    <tr style=\"text-align: right;\">\n",
       "      <th></th>\n",
       "      <th>movieId</th>\n",
       "      <th>overview</th>\n",
       "      <th>genres</th>\n",
       "      <th>title</th>\n",
       "      <th>keywords</th>\n",
       "    </tr>\n",
       "  </thead>\n",
       "  <tbody>\n",
       "    <tr>\n",
       "      <th>0</th>\n",
       "      <td>1</td>\n",
       "      <td>Led by Woody, Andy's toys live happily in his ...</td>\n",
       "      <td>[Animation, Comedy, Family]</td>\n",
       "      <td>Toy Story</td>\n",
       "      <td>[jealousy, toy, boy, friendship, friends, riva...</td>\n",
       "    </tr>\n",
       "    <tr>\n",
       "      <th>1</th>\n",
       "      <td>2</td>\n",
       "      <td>When siblings Judy and Peter discover an encha...</td>\n",
       "      <td>[Adventure, Fantasy, Family]</td>\n",
       "      <td>Jumanji</td>\n",
       "      <td>[board game, disappearance, based on children'...</td>\n",
       "    </tr>\n",
       "  </tbody>\n",
       "</table>\n",
       "</div>"
      ],
      "text/plain": [
       "   movieId                                           overview  \\\n",
       "0        1  Led by Woody, Andy's toys live happily in his ...   \n",
       "1        2  When siblings Judy and Peter discover an encha...   \n",
       "\n",
       "                         genres      title  \\\n",
       "0   [Animation, Comedy, Family]  Toy Story   \n",
       "1  [Adventure, Fantasy, Family]    Jumanji   \n",
       "\n",
       "                                            keywords  \n",
       "0  [jealousy, toy, boy, friendship, friends, riva...  \n",
       "1  [board game, disappearance, based on children'...  "
      ]
     },
     "execution_count": 10,
     "metadata": {},
     "output_type": "execute_result"
    }
   ],
   "source": [
    "movies = pd.read_csv('../data/movies_w_description.csv')\n",
    "movies.drop_duplicates('movieId', inplace=True)\n",
    "movies['genres'] = movies['genres'].map(ast.literal_eval)\n",
    "movies['keywords'] = movies['keywords'].map(ast.literal_eval)\n",
    "movies.head(2)"
   ]
  },
  {
   "cell_type": "code",
   "execution_count": 11,
   "id": "middle-possibility",
   "metadata": {},
   "outputs": [
    {
     "data": {
      "text/plain": [
       "(41969, 5)"
      ]
     },
     "execution_count": 11,
     "metadata": {},
     "output_type": "execute_result"
    }
   ],
   "source": [
    "movies.shape"
   ]
  },
  {
   "cell_type": "code",
   "execution_count": 13,
   "id": "hearing-river",
   "metadata": {},
   "outputs": [
    {
     "data": {
      "text/plain": [
       "17493"
      ]
     },
     "execution_count": 13,
     "metadata": {},
     "output_type": "execute_result"
    }
   ],
   "source": [
    "unique_sid = list()\n",
    "with open('../data/processed/4_5_5_False_15000/unique_sid.txt', 'r') as f:\n",
    "    for line in f:\n",
    "        unique_sid.append(int(line.strip()))\n",
    "        \n",
    "len(unique_sid)"
   ]
  },
  {
   "cell_type": "code",
   "execution_count": 14,
   "id": "threatened-pontiac",
   "metadata": {},
   "outputs": [
    {
     "data": {
      "text/plain": [
       "(17493, 5)"
      ]
     },
     "execution_count": 14,
     "metadata": {},
     "output_type": "execute_result"
    }
   ],
   "source": [
    "movies = movies[movies['movieId'].isin(unique_sid)]\n",
    "movies.shape"
   ]
  },
  {
   "cell_type": "code",
   "execution_count": null,
   "id": "prospective-memory",
   "metadata": {},
   "outputs": [],
   "source": [
    "# [CLS][OVERVIEW][TOKEN][KEYWORDS]"
   ]
  }
 ],
 "metadata": {
  "kernelspec": {
   "display_name": "Python 3",
   "language": "python",
   "name": "python3"
  },
  "language_info": {
   "codemirror_mode": {
    "name": "ipython",
    "version": 3
   },
   "file_extension": ".py",
   "mimetype": "text/x-python",
   "name": "python",
   "nbconvert_exporter": "python",
   "pygments_lexer": "ipython3",
   "version": "3.8.2"
  }
 },
 "nbformat": 4,
 "nbformat_minor": 5
}
