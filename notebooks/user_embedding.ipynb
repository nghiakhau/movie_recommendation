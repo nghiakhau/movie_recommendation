{
 "cells": [
  {
   "cell_type": "code",
   "execution_count": 1,
   "id": "boolean-letter",
   "metadata": {},
   "outputs": [],
   "source": [
    "import torch"
   ]
  },
  {
   "cell_type": "code",
   "execution_count": 2,
   "id": "outstanding-collapse",
   "metadata": {},
   "outputs": [],
   "source": [
    "import torch.nn as nn"
   ]
  },
  {
   "cell_type": "code",
   "execution_count": 3,
   "id": "productive-cleaning",
   "metadata": {},
   "outputs": [],
   "source": [
    "encoder_layer = nn.TransformerEncoderLayer(d_model=768, nhead=8, dim_feedforward=1024)\n",
    "transformer_encoder = nn.TransformerEncoder(encoder_layer, num_layers=2)"
   ]
  },
  {
   "cell_type": "code",
   "execution_count": 4,
   "id": "correct-headquarters",
   "metadata": {},
   "outputs": [
    {
     "data": {
      "text/plain": [
       "torch.Size([512, 256, 768])"
      ]
     },
     "execution_count": 4,
     "metadata": {},
     "output_type": "execute_result"
    }
   ],
   "source": [
    "src = torch.rand(512, 256, 768)\n",
    "out = transformer_encoder(src)\n",
    "\n",
    "out.shape"
   ]
  },
  {
   "cell_type": "code",
   "execution_count": 5,
   "id": "homeless-screening",
   "metadata": {},
   "outputs": [
    {
     "data": {
      "text/plain": [
       "torch.Size([512, 768])"
      ]
     },
     "execution_count": 5,
     "metadata": {},
     "output_type": "execute_result"
    }
   ],
   "source": [
    "b = out[:,0,:]\n",
    "b.shape"
   ]
  },
  {
   "cell_type": "code",
   "execution_count": 27,
   "id": "floral-integral",
   "metadata": {},
   "outputs": [],
   "source": [
    "weights = torch.rand(32, 768)\n",
    "emb = nn.Embedding(34, 768)"
   ]
  },
  {
   "cell_type": "code",
   "execution_count": 28,
   "id": "identical-collins",
   "metadata": {},
   "outputs": [
    {
     "data": {
      "text/plain": [
       "tensor([[0.3551, 0.4667, 0.2254,  ..., 0.3689, 0.4831, 0.6095],\n",
       "        [0.2903, 0.0490, 0.2537,  ..., 0.3775, 0.3358, 0.5252],\n",
       "        [0.4214, 0.4785, 0.7752,  ..., 0.8758, 0.8985, 0.8920],\n",
       "        ...,\n",
       "        [0.3350, 0.7590, 0.5379,  ..., 0.1325, 0.9690, 0.9358],\n",
       "        [0.3238, 0.1922, 0.7860,  ..., 0.4943, 0.8964, 0.5433],\n",
       "        [0.2255, 0.8967, 0.6095,  ..., 0.0406, 0.5915, 0.4774]])"
      ]
     },
     "execution_count": 28,
     "metadata": {},
     "output_type": "execute_result"
    }
   ],
   "source": [
    "weights"
   ]
  },
  {
   "cell_type": "code",
   "execution_count": 29,
   "id": "visible-judgment",
   "metadata": {},
   "outputs": [
    {
     "data": {
      "text/plain": [
       "tensor([[[ 0.3559, -0.0227,  1.0181,  ..., -0.1432,  1.6440,  0.2354],\n",
       "         [ 0.0597,  1.7064, -0.3051,  ..., -0.2558,  1.1282, -0.7924]],\n",
       "\n",
       "        [[-0.8913,  0.4222,  1.7534,  ...,  0.8478,  1.4343, -0.0596],\n",
       "         [ 1.2938,  0.7136,  0.3205,  ...,  0.3385,  0.0960, -0.2269]]],\n",
       "       grad_fn=<EmbeddingBackward>)"
      ]
     },
     "execution_count": 29,
     "metadata": {},
     "output_type": "execute_result"
    }
   ],
   "source": [
    "idx = torch.tensor([[0, 31],[32,33]])\n",
    "emb(idx)"
   ]
  },
  {
   "cell_type": "code",
   "execution_count": 30,
   "id": "desirable-ethernet",
   "metadata": {},
   "outputs": [],
   "source": [
    "emb.weight.data[:32, :] = weights"
   ]
  },
  {
   "cell_type": "code",
   "execution_count": 32,
   "id": "naval-workstation",
   "metadata": {},
   "outputs": [
    {
     "data": {
      "text/plain": [
       "tensor([[[ 0.3551,  0.4667,  0.2254,  ...,  0.3689,  0.4831,  0.6095],\n",
       "         [ 0.2255,  0.8967,  0.6095,  ...,  0.0406,  0.5915,  0.4774]],\n",
       "\n",
       "        [[-0.8913,  0.4222,  1.7534,  ...,  0.8478,  1.4343, -0.0596],\n",
       "         [ 1.2938,  0.7136,  0.3205,  ...,  0.3385,  0.0960, -0.2269]]],\n",
       "       grad_fn=<EmbeddingBackward>)"
      ]
     },
     "execution_count": 32,
     "metadata": {},
     "output_type": "execute_result"
    }
   ],
   "source": [
    "emb(idx)"
   ]
  },
  {
   "cell_type": "code",
   "execution_count": 11,
   "id": "copyrighted-prison",
   "metadata": {},
   "outputs": [
    {
     "data": {
      "text/plain": [
       "tensor([[0.2000, 0.4000],\n",
       "        [0.5000, 1.0000]])"
      ]
     },
     "execution_count": 11,
     "metadata": {},
     "output_type": "execute_result"
    }
   ],
   "source": [
    "a = torch.tensor([[0.2, 0.4], [0.5, 1]])\n",
    "a"
   ]
  },
  {
   "cell_type": "code",
   "execution_count": 6,
   "id": "earned-amazon",
   "metadata": {},
   "outputs": [],
   "source": [
    "multihead_attn = nn.MultiheadAttention(embed_dim=768, num_heads = 8, kdim=96, vdim=96)"
   ]
  },
  {
   "cell_type": "code",
   "execution_count": 14,
   "id": "plastic-medicine",
   "metadata": {},
   "outputs": [],
   "source": [
    "x = torch.rand(32, 2, 96)\n",
    "y = torch.rand(32, 2, 768)"
   ]
  },
  {
   "cell_type": "code",
   "execution_count": 15,
   "id": "nonprofit-expert",
   "metadata": {},
   "outputs": [],
   "source": [
    "attn_output, attn_output_weights = multihead_attn(query=y, key=x, value=x)"
   ]
  },
  {
   "cell_type": "code",
   "execution_count": 16,
   "id": "adjusted-noise",
   "metadata": {},
   "outputs": [
    {
     "data": {
      "text/plain": [
       "(torch.Size([32, 2, 768]), torch.Size([2, 32, 32]))"
      ]
     },
     "execution_count": 16,
     "metadata": {},
     "output_type": "execute_result"
    }
   ],
   "source": [
    "attn_output.shape, attn_output_weights.shape"
   ]
  },
  {
   "cell_type": "code",
   "execution_count": 33,
   "id": "periodic-parallel",
   "metadata": {},
   "outputs": [],
   "source": [
    "import os\n",
    "import sys\n",
    "\n",
    "\"append parent directory so that we can import sibling module\"\n",
    "\n",
    "parent_dir = os.path.dirname(os.path.abspath('.'))\n",
    "sys.path.append(parent_dir)"
   ]
  },
  {
   "cell_type": "code",
   "execution_count": 34,
   "id": "several-acting",
   "metadata": {},
   "outputs": [],
   "source": [
    "import numpy as np\n",
    "from data_loader.rating_loader import data_processing, load_train_data, load_tr_te_data"
   ]
  },
  {
   "cell_type": "code",
   "execution_count": 35,
   "id": "answering-leone",
   "metadata": {},
   "outputs": [],
   "source": [
    "processed_data_dir = \"../data/processed/4_5_5_False_15000\""
   ]
  },
  {
   "cell_type": "code",
   "execution_count": 37,
   "id": "usual-toolbox",
   "metadata": {},
   "outputs": [],
   "source": [
    "n_items = 17493"
   ]
  },
  {
   "cell_type": "code",
   "execution_count": 38,
   "id": "acknowledged-enzyme",
   "metadata": {},
   "outputs": [],
   "source": [
    "train_data = load_train_data(os.path.join(processed_data_dir, 'train.csv'), n_items)\n",
    "vad_data_tr, vad_data_te = load_tr_te_data(os.path.join(processed_data_dir, 'validation_tr.csv'),\n",
    "                                           os.path.join(processed_data_dir, 'validation_te.csv'),\n",
    "                                           n_items)"
   ]
  },
  {
   "cell_type": "code",
   "execution_count": 40,
   "id": "sufficient-orbit",
   "metadata": {},
   "outputs": [
    {
     "data": {
      "text/plain": [
       "(193924, 17493)"
      ]
     },
     "execution_count": 40,
     "metadata": {},
     "output_type": "execute_result"
    }
   ],
   "source": [
    "train_data.shape"
   ]
  },
  {
   "cell_type": "code",
   "execution_count": 41,
   "id": "civic-fiber",
   "metadata": {},
   "outputs": [
    {
     "data": {
      "text/plain": [
       "((15000, 17493), (15000, 17493))"
      ]
     },
     "execution_count": 41,
     "metadata": {},
     "output_type": "execute_result"
    }
   ],
   "source": [
    "vad_data_tr.shape, vad_data_te.shape"
   ]
  },
  {
   "cell_type": "code",
   "execution_count": 42,
   "id": "opening-privacy",
   "metadata": {},
   "outputs": [
    {
     "data": {
      "text/plain": [
       "scipy.sparse.csr.csr_matrix"
      ]
     },
     "execution_count": 42,
     "metadata": {},
     "output_type": "execute_result"
    }
   ],
   "source": [
    "type(train_data)"
   ]
  },
  {
   "cell_type": "code",
   "execution_count": 45,
   "id": "stunning-offset",
   "metadata": {},
   "outputs": [
    {
     "data": {
      "text/plain": [
       "11117298"
      ]
     },
     "execution_count": 45,
     "metadata": {},
     "output_type": "execute_result"
    }
   ],
   "source": [
    "train_data.nnz"
   ]
  },
  {
   "cell_type": "code",
   "execution_count": 46,
   "id": "configured-content",
   "metadata": {},
   "outputs": [],
   "source": [
    "rows, cols = train_data.nonzero()"
   ]
  },
  {
   "cell_type": "code",
   "execution_count": 56,
   "id": "hybrid-siemens",
   "metadata": {},
   "outputs": [],
   "source": [
    "train_data = np.split(train_data.indices, train_data.indptr)[1:-1]\n",
    "vad_data_tr = np.split(vad_data_tr.indices, vad_data_tr.indptr)[1:-1]\n",
    "vad_data_te = np.split(vad_data_te.indices, vad_data_te.indptr)[1:-1]"
   ]
  },
  {
   "cell_type": "code",
   "execution_count": 57,
   "id": "revolutionary-perth",
   "metadata": {},
   "outputs": [
    {
     "data": {
      "text/plain": [
       "array([145, 715, 767, 878], dtype=int32)"
      ]
     },
     "execution_count": 57,
     "metadata": {},
     "output_type": "execute_result"
    }
   ],
   "source": [
    "vad_data_te[0]"
   ]
  },
  {
   "cell_type": "code",
   "execution_count": 59,
   "id": "allied-coaching",
   "metadata": {},
   "outputs": [
    {
     "data": {
      "text/plain": [
       "array([   3,  153,  181,  251,  259,  262,  304,  320,  336,  366,  671,\n",
       "        804,  832,  901,  950, 1016, 1772, 2019, 2102, 3007], dtype=int32)"
      ]
     },
     "execution_count": 59,
     "metadata": {},
     "output_type": "execute_result"
    }
   ],
   "source": [
    "vad_data_tr[0]"
   ]
  },
  {
   "cell_type": "code",
   "execution_count": 61,
   "id": "viral-royal",
   "metadata": {},
   "outputs": [
    {
     "ename": "ValueError",
     "evalue": "expected sequence of length 3 at dim 1 (got 2)",
     "output_type": "error",
     "traceback": [
      "\u001b[0;31m---------------------------------------------------------------------------\u001b[0m",
      "\u001b[0;31mValueError\u001b[0m                                Traceback (most recent call last)",
      "\u001b[0;32m<ipython-input-61-8a61450581fa>\u001b[0m in \u001b[0;36m<module>\u001b[0;34m\u001b[0m\n\u001b[0;32m----> 1\u001b[0;31m \u001b[0mtorch\u001b[0m\u001b[0;34m.\u001b[0m\u001b[0mtensor\u001b[0m\u001b[0;34m(\u001b[0m\u001b[0;34m[\u001b[0m\u001b[0;34m[\u001b[0m\u001b[0;36m1\u001b[0m\u001b[0;34m,\u001b[0m\u001b[0;36m2\u001b[0m\u001b[0;34m,\u001b[0m\u001b[0;36m3\u001b[0m\u001b[0;34m]\u001b[0m\u001b[0;34m,\u001b[0m \u001b[0;34m[\u001b[0m\u001b[0;36m1\u001b[0m\u001b[0;34m,\u001b[0m\u001b[0;36m4\u001b[0m\u001b[0;34m]\u001b[0m\u001b[0;34m]\u001b[0m\u001b[0;34m)\u001b[0m\u001b[0;34m\u001b[0m\u001b[0;34m\u001b[0m\u001b[0m\n\u001b[0m",
      "\u001b[0;31mValueError\u001b[0m: expected sequence of length 3 at dim 1 (got 2)"
     ]
    }
   ],
   "source": [
    "torch.tensor([[1,2,3], [1,4]])"
   ]
  },
  {
   "cell_type": "code",
   "execution_count": 62,
   "id": "optimum-angel",
   "metadata": {},
   "outputs": [
    {
     "data": {
      "text/plain": [
       "tensor([[0., 0., 0., 0., 0.],\n",
       "        [0., 0., 0., 0., 0.],\n",
       "        [0., 0., 0., 0., 0.]])"
      ]
     },
     "execution_count": 62,
     "metadata": {},
     "output_type": "execute_result"
    }
   ],
   "source": [
    "mask = torch.zeros(3, 5)\n",
    "mask"
   ]
  },
  {
   "cell_type": "code",
   "execution_count": 65,
   "id": "subsequent-cabin",
   "metadata": {},
   "outputs": [
    {
     "ename": "TypeError",
     "evalue": "scatter_() received an invalid combination of arguments - got (int, list, float), but expected one of:\n * (int dim, Tensor index, Tensor src)\n      didn't match because some of the arguments have invalid types: (\u001b[32;1mint\u001b[0m, \u001b[31;1mlist\u001b[0m, \u001b[31;1mfloat\u001b[0m)\n * (int dim, Tensor index, Tensor src, *, str reduce)\n * (int dim, Tensor index, Number value)\n      didn't match because some of the arguments have invalid types: (\u001b[32;1mint\u001b[0m, \u001b[31;1mlist\u001b[0m, \u001b[31;1mfloat\u001b[0m)\n * (int dim, Tensor index, Number value, *, str reduce)\n",
     "output_type": "error",
     "traceback": [
      "\u001b[0;31m---------------------------------------------------------------------------\u001b[0m",
      "\u001b[0;31mTypeError\u001b[0m                                 Traceback (most recent call last)",
      "\u001b[0;32m<ipython-input-65-35442d19227c>\u001b[0m in \u001b[0;36m<module>\u001b[0;34m\u001b[0m\n\u001b[1;32m      1\u001b[0m \u001b[0mindices\u001b[0m \u001b[0;34m=\u001b[0m \u001b[0;34m[\u001b[0m\u001b[0;34m[\u001b[0m\u001b[0;36m1\u001b[0m\u001b[0;34m,\u001b[0m\u001b[0;36m2\u001b[0m\u001b[0;34m]\u001b[0m\u001b[0;34m,\u001b[0m \u001b[0;34m[\u001b[0m\u001b[0;36m0\u001b[0m\u001b[0;34m,\u001b[0m\u001b[0;36m3\u001b[0m\u001b[0;34m,\u001b[0m\u001b[0;36m4\u001b[0m\u001b[0;34m]\u001b[0m\u001b[0;34m,\u001b[0m \u001b[0;34m[\u001b[0m\u001b[0;36m0\u001b[0m\u001b[0;34m,\u001b[0m\u001b[0;36m1\u001b[0m\u001b[0;34m,\u001b[0m\u001b[0;36m2\u001b[0m\u001b[0;34m,\u001b[0m\u001b[0;36m3\u001b[0m\u001b[0;34m]\u001b[0m\u001b[0;34m]\u001b[0m\u001b[0;34m\u001b[0m\u001b[0;34m\u001b[0m\u001b[0m\n\u001b[1;32m      2\u001b[0m \u001b[0;34m\u001b[0m\u001b[0m\n\u001b[0;32m----> 3\u001b[0;31m \u001b[0mmask\u001b[0m\u001b[0;34m.\u001b[0m\u001b[0mscatter_\u001b[0m\u001b[0;34m(\u001b[0m\u001b[0;36m2\u001b[0m\u001b[0;34m,\u001b[0m \u001b[0mindices\u001b[0m\u001b[0;34m,\u001b[0m \u001b[0;36m1.\u001b[0m\u001b[0;34m)\u001b[0m\u001b[0;34m\u001b[0m\u001b[0;34m\u001b[0m\u001b[0m\n\u001b[0m",
      "\u001b[0;31mTypeError\u001b[0m: scatter_() received an invalid combination of arguments - got (int, list, float), but expected one of:\n * (int dim, Tensor index, Tensor src)\n      didn't match because some of the arguments have invalid types: (\u001b[32;1mint\u001b[0m, \u001b[31;1mlist\u001b[0m, \u001b[31;1mfloat\u001b[0m)\n * (int dim, Tensor index, Tensor src, *, str reduce)\n * (int dim, Tensor index, Number value)\n      didn't match because some of the arguments have invalid types: (\u001b[32;1mint\u001b[0m, \u001b[31;1mlist\u001b[0m, \u001b[31;1mfloat\u001b[0m)\n * (int dim, Tensor index, Number value, *, str reduce)\n"
     ]
    }
   ],
   "source": [
    "indices = [[1,2], [0,3,4], [0,1,2,3]]\n",
    "\n",
    "mask.scatter_(2, indices, 1.)"
   ]
  },
  {
   "cell_type": "code",
   "execution_count": 68,
   "id": "dangerous-edwards",
   "metadata": {},
   "outputs": [
    {
     "data": {
      "text/plain": [
       "inf"
      ]
     },
     "execution_count": 68,
     "metadata": {},
     "output_type": "execute_result"
    }
   ],
   "source": [
    "np.inf"
   ]
  },
  {
   "cell_type": "code",
   "execution_count": 83,
   "id": "lightweight-anchor",
   "metadata": {},
   "outputs": [
    {
     "data": {
      "text/plain": [
       "array([[0., 1., 1., 0., 0.],\n",
       "       [1., 0., 0., 1., 1.],\n",
       "       [1., 1., 1., 1., 0.]])"
      ]
     },
     "execution_count": 83,
     "metadata": {},
     "output_type": "execute_result"
    }
   ],
   "source": [
    "target = np.zeros((3, 5))\n",
    "pred = torch.zeros(3, 5)\n",
    "vad_data_te = [[1,2], [0,3,4], [0,1,2,3]]\n",
    "for i in range(target.shape[0]):\n",
    "    target[i, vad_data_te[i]] = 1.0\n",
    "    # pred[i, batch.idx_wo_pad[i]] = -10\n",
    "target"
   ]
  },
  {
   "cell_type": "code",
   "execution_count": 92,
   "id": "tight-mirror",
   "metadata": {},
   "outputs": [
    {
     "data": {
      "text/plain": [
       "array([[0., 1., 1., 0., 0.],\n",
       "       [1., 0., 0., 1., 1.],\n",
       "       [1., 1., 1., 1., 0.]])"
      ]
     },
     "execution_count": 92,
     "metadata": {},
     "output_type": "execute_result"
    }
   ],
   "source": [
    "target"
   ]
  },
  {
   "cell_type": "code",
   "execution_count": 94,
   "id": "extraordinary-novel",
   "metadata": {},
   "outputs": [],
   "source": [
    "from scipy import sparse"
   ]
  },
  {
   "cell_type": "code",
   "execution_count": 95,
   "id": "finnish-search",
   "metadata": {},
   "outputs": [
    {
     "data": {
      "text/plain": [
       "(3, 5)"
      ]
     },
     "execution_count": 95,
     "metadata": {},
     "output_type": "execute_result"
    }
   ],
   "source": [
    "target_s = sparse.csr_matrix(target) \n",
    "target_s.shape"
   ]
  },
  {
   "cell_type": "code",
   "execution_count": 96,
   "id": "figured-collective",
   "metadata": {},
   "outputs": [
    {
     "data": {
      "text/plain": [
       "array([2, 3, 4], dtype=int32)"
      ]
     },
     "execution_count": 96,
     "metadata": {},
     "output_type": "execute_result"
    }
   ],
   "source": [
    "target_s.getnnz(axis=1)"
   ]
  },
  {
   "cell_type": "code",
   "execution_count": 97,
   "id": "sticky-portsmouth",
   "metadata": {},
   "outputs": [
    {
     "data": {
      "text/plain": [
       "array([[False,  True,  True, False, False],\n",
       "       [ True, False, False,  True,  True],\n",
       "       [ True,  True,  True,  True, False]])"
      ]
     },
     "execution_count": 97,
     "metadata": {},
     "output_type": "execute_result"
    }
   ],
   "source": [
    "(target_s > 0).toarray()"
   ]
  },
  {
   "cell_type": "code",
   "execution_count": 69,
   "id": "cubic-surprise",
   "metadata": {},
   "outputs": [],
   "source": [
    "from torch.nn.utils.rnn import pad_sequence"
   ]
  },
  {
   "cell_type": "code",
   "execution_count": 72,
   "id": "interior-paper",
   "metadata": {},
   "outputs": [],
   "source": [
    "vad_data_te = [torch.tensor([1,2]), torch.tensor([0,3,4]), torch.tensor([0,1,2,3])]"
   ]
  },
  {
   "cell_type": "code",
   "execution_count": 76,
   "id": "amended-handbook",
   "metadata": {},
   "outputs": [
    {
     "data": {
      "text/plain": [
       "tensor([[1, 2, 5, 5],\n",
       "        [0, 3, 4, 5],\n",
       "        [0, 1, 2, 3]])"
      ]
     },
     "execution_count": 76,
     "metadata": {},
     "output_type": "execute_result"
    }
   ],
   "source": [
    "a = pad_sequence(vad_data_te, True, padding_value=5)\n",
    "a"
   ]
  },
  {
   "cell_type": "code",
   "execution_count": 74,
   "id": "beneficial-aside",
   "metadata": {},
   "outputs": [
    {
     "data": {
      "text/plain": [
       "tensor([[0., 0., 0.],\n",
       "        [0., 0., 0.]])"
      ]
     },
     "execution_count": 74,
     "metadata": {},
     "output_type": "execute_result"
    }
   ],
   "source": [
    "torch.zeros(2,3)"
   ]
  },
  {
   "cell_type": "code",
   "execution_count": 75,
   "id": "pointed-freight",
   "metadata": {},
   "outputs": [
    {
     "data": {
      "text/plain": [
       "0"
      ]
     },
     "execution_count": 75,
     "metadata": {},
     "output_type": "execute_result"
    }
   ],
   "source": [
    "7%1"
   ]
  },
  {
   "cell_type": "code",
   "execution_count": 77,
   "id": "disabled-tomorrow",
   "metadata": {},
   "outputs": [
    {
     "data": {
      "text/plain": [
       "tensor([[0, 0, 0, 0],\n",
       "        [0, 0, 0, 0],\n",
       "        [0, 0, 0, 0]])"
      ]
     },
     "execution_count": 77,
     "metadata": {},
     "output_type": "execute_result"
    }
   ],
   "source": [
    "torch.zeros_like(a)"
   ]
  },
  {
   "cell_type": "code",
   "execution_count": 78,
   "id": "harmful-toddler",
   "metadata": {},
   "outputs": [
    {
     "data": {
      "text/plain": [
       "array([[0, 0, 0, 0],\n",
       "       [0, 0, 0, 0],\n",
       "       [0, 0, 0, 0]])"
      ]
     },
     "execution_count": 78,
     "metadata": {},
     "output_type": "execute_result"
    }
   ],
   "source": [
    "np.zeros_like(a)"
   ]
  },
  {
   "cell_type": "code",
   "execution_count": 87,
   "id": "unlikely-anatomy",
   "metadata": {},
   "outputs": [
    {
     "data": {
      "text/plain": [
       "array([1, 2, 3])"
      ]
     },
     "execution_count": 87,
     "metadata": {},
     "output_type": "execute_result"
    }
   ],
   "source": [
    "b = np.array([1,2,3])\n",
    "b"
   ]
  },
  {
   "cell_type": "code",
   "execution_count": 90,
   "id": "referenced-multimedia",
   "metadata": {},
   "outputs": [
    {
     "data": {
      "text/plain": [
       "[1, 1, 2, 3, 3]"
      ]
     },
     "execution_count": 90,
     "metadata": {},
     "output_type": "execute_result"
    }
   ],
   "source": [
    "[1] + b.tolist() + [3]"
   ]
  },
  {
   "cell_type": "code",
   "execution_count": null,
   "id": "interested-relief",
   "metadata": {},
   "outputs": [],
   "source": [
    "b."
   ]
  }
 ],
 "metadata": {
  "kernelspec": {
   "display_name": "Python 3",
   "language": "python",
   "name": "python3"
  },
  "language_info": {
   "codemirror_mode": {
    "name": "ipython",
    "version": 3
   },
   "file_extension": ".py",
   "mimetype": "text/x-python",
   "name": "python",
   "nbconvert_exporter": "python",
   "pygments_lexer": "ipython3",
   "version": "3.8.2"
  }
 },
 "nbformat": 4,
 "nbformat_minor": 5
}
