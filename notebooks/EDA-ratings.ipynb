{
 "cells": [
  {
   "cell_type": "code",
   "execution_count": 1,
   "id": "regulation-break",
   "metadata": {},
   "outputs": [],
   "source": [
    "import numpy as np\n",
    "import pandas as pd\n",
    "import matplotlib.pyplot as plt\n",
    "from scipy import sparse\n",
    "import seaborn as sns\n",
    "import sys\n",
    "import os\n",
    "import math\n",
    "import time\n",
    "import random\n",
    "import warnings\n",
    "warnings.filterwarnings(\"ignore\")"
   ]
  },
  {
   "cell_type": "markdown",
   "id": "ceramic-privacy",
   "metadata": {},
   "source": [
    "## 5. Ratings\n",
    "Consisting of 26 million ratings and 750,000 tag applications from 270,000 users on all the 45,000 movies in this dataset"
   ]
  },
  {
   "cell_type": "code",
   "execution_count": 2,
   "id": "minute-crossing",
   "metadata": {},
   "outputs": [
    {
     "name": "stdout",
     "output_type": "stream",
     "text": [
      "ratings.shape (26024289, 4)\n"
     ]
    },
    {
     "data": {
      "text/html": [
       "<div>\n",
       "<style scoped>\n",
       "    .dataframe tbody tr th:only-of-type {\n",
       "        vertical-align: middle;\n",
       "    }\n",
       "\n",
       "    .dataframe tbody tr th {\n",
       "        vertical-align: top;\n",
       "    }\n",
       "\n",
       "    .dataframe thead th {\n",
       "        text-align: right;\n",
       "    }\n",
       "</style>\n",
       "<table border=\"1\" class=\"dataframe\">\n",
       "  <thead>\n",
       "    <tr style=\"text-align: right;\">\n",
       "      <th></th>\n",
       "      <th>userId</th>\n",
       "      <th>movieId</th>\n",
       "      <th>rating</th>\n",
       "      <th>timestamp</th>\n",
       "    </tr>\n",
       "  </thead>\n",
       "  <tbody>\n",
       "    <tr>\n",
       "      <th>0</th>\n",
       "      <td>1</td>\n",
       "      <td>110</td>\n",
       "      <td>1.0</td>\n",
       "      <td>1425941529</td>\n",
       "    </tr>\n",
       "    <tr>\n",
       "      <th>1</th>\n",
       "      <td>1</td>\n",
       "      <td>147</td>\n",
       "      <td>4.5</td>\n",
       "      <td>1425942435</td>\n",
       "    </tr>\n",
       "    <tr>\n",
       "      <th>2</th>\n",
       "      <td>1</td>\n",
       "      <td>858</td>\n",
       "      <td>5.0</td>\n",
       "      <td>1425941523</td>\n",
       "    </tr>\n",
       "    <tr>\n",
       "      <th>3</th>\n",
       "      <td>1</td>\n",
       "      <td>1221</td>\n",
       "      <td>5.0</td>\n",
       "      <td>1425941546</td>\n",
       "    </tr>\n",
       "    <tr>\n",
       "      <th>4</th>\n",
       "      <td>1</td>\n",
       "      <td>1246</td>\n",
       "      <td>5.0</td>\n",
       "      <td>1425941556</td>\n",
       "    </tr>\n",
       "  </tbody>\n",
       "</table>\n",
       "</div>"
      ],
      "text/plain": [
       "   userId  movieId  rating   timestamp\n",
       "0       1      110     1.0  1425941529\n",
       "1       1      147     4.5  1425942435\n",
       "2       1      858     5.0  1425941523\n",
       "3       1     1221     5.0  1425941546\n",
       "4       1     1246     5.0  1425941556"
      ]
     },
     "execution_count": 2,
     "metadata": {},
     "output_type": "execute_result"
    }
   ],
   "source": [
    "ratings = pd.read_csv('../data/ratings.csv')\n",
    "print('ratings.shape', ratings.shape)\n",
    "ratings.head()"
   ]
  },
  {
   "cell_type": "code",
   "execution_count": 3,
   "id": "civil-polish",
   "metadata": {},
   "outputs": [
    {
     "name": "stdout",
     "output_type": "stream",
     "text": [
      "movies.shape (41999, 5)\n"
     ]
    },
    {
     "data": {
      "text/html": [
       "<div>\n",
       "<style scoped>\n",
       "    .dataframe tbody tr th:only-of-type {\n",
       "        vertical-align: middle;\n",
       "    }\n",
       "\n",
       "    .dataframe tbody tr th {\n",
       "        vertical-align: top;\n",
       "    }\n",
       "\n",
       "    .dataframe thead th {\n",
       "        text-align: right;\n",
       "    }\n",
       "</style>\n",
       "<table border=\"1\" class=\"dataframe\">\n",
       "  <thead>\n",
       "    <tr style=\"text-align: right;\">\n",
       "      <th></th>\n",
       "      <th>movieId</th>\n",
       "      <th>overview</th>\n",
       "      <th>genres</th>\n",
       "      <th>title</th>\n",
       "      <th>keywords</th>\n",
       "    </tr>\n",
       "  </thead>\n",
       "  <tbody>\n",
       "    <tr>\n",
       "      <th>0</th>\n",
       "      <td>1</td>\n",
       "      <td>Led by Woody, Andy's toys live happily in his ...</td>\n",
       "      <td>['Animation', 'Comedy', 'Family']</td>\n",
       "      <td>Toy Story</td>\n",
       "      <td>['jealousy', 'toy', 'boy', 'friendship', 'frie...</td>\n",
       "    </tr>\n",
       "    <tr>\n",
       "      <th>1</th>\n",
       "      <td>2</td>\n",
       "      <td>When siblings Judy and Peter discover an encha...</td>\n",
       "      <td>['Adventure', 'Fantasy', 'Family']</td>\n",
       "      <td>Jumanji</td>\n",
       "      <td>['board game', 'disappearance', \"based on chil...</td>\n",
       "    </tr>\n",
       "    <tr>\n",
       "      <th>2</th>\n",
       "      <td>3</td>\n",
       "      <td>A family wedding reignites the ancient feud be...</td>\n",
       "      <td>['Romance', 'Comedy']</td>\n",
       "      <td>Grumpier Old Men</td>\n",
       "      <td>['fishing', 'best friend', 'duringcreditssting...</td>\n",
       "    </tr>\n",
       "    <tr>\n",
       "      <th>3</th>\n",
       "      <td>4</td>\n",
       "      <td>Cheated on, mistreated and stepped on, the wom...</td>\n",
       "      <td>['Comedy', 'Drama', 'Romance']</td>\n",
       "      <td>Waiting to Exhale</td>\n",
       "      <td>['based on novel', 'interracial relationship',...</td>\n",
       "    </tr>\n",
       "    <tr>\n",
       "      <th>4</th>\n",
       "      <td>5</td>\n",
       "      <td>Just when George Banks has recovered from his ...</td>\n",
       "      <td>['Comedy']</td>\n",
       "      <td>Father of the Bride Part II</td>\n",
       "      <td>['baby', 'midlife crisis', 'confidence', 'agin...</td>\n",
       "    </tr>\n",
       "  </tbody>\n",
       "</table>\n",
       "</div>"
      ],
      "text/plain": [
       "   movieId                                           overview  \\\n",
       "0        1  Led by Woody, Andy's toys live happily in his ...   \n",
       "1        2  When siblings Judy and Peter discover an encha...   \n",
       "2        3  A family wedding reignites the ancient feud be...   \n",
       "3        4  Cheated on, mistreated and stepped on, the wom...   \n",
       "4        5  Just when George Banks has recovered from his ...   \n",
       "\n",
       "                               genres                        title  \\\n",
       "0   ['Animation', 'Comedy', 'Family']                    Toy Story   \n",
       "1  ['Adventure', 'Fantasy', 'Family']                      Jumanji   \n",
       "2               ['Romance', 'Comedy']             Grumpier Old Men   \n",
       "3      ['Comedy', 'Drama', 'Romance']            Waiting to Exhale   \n",
       "4                          ['Comedy']  Father of the Bride Part II   \n",
       "\n",
       "                                            keywords  \n",
       "0  ['jealousy', 'toy', 'boy', 'friendship', 'frie...  \n",
       "1  ['board game', 'disappearance', \"based on chil...  \n",
       "2  ['fishing', 'best friend', 'duringcreditssting...  \n",
       "3  ['based on novel', 'interracial relationship',...  \n",
       "4  ['baby', 'midlife crisis', 'confidence', 'agin...  "
      ]
     },
     "execution_count": 3,
     "metadata": {},
     "output_type": "execute_result"
    }
   ],
   "source": [
    "movies = pd.read_csv('../data/movies_w_description.csv')\n",
    "print('movies.shape', movies.shape)\n",
    "movies.head()"
   ]
  },
  {
   "cell_type": "code",
   "execution_count": 4,
   "id": "collected-reference",
   "metadata": {},
   "outputs": [
    {
     "data": {
      "text/plain": [
       "(25941199, 4)"
      ]
     },
     "execution_count": 4,
     "metadata": {},
     "output_type": "execute_result"
    }
   ],
   "source": [
    "ratings = ratings[ratings['movieId'].isin(movies['movieId'])]\n",
    "ratings.shape"
   ]
  },
  {
   "cell_type": "code",
   "execution_count": 5,
   "id": "ahead-scientist",
   "metadata": {},
   "outputs": [],
   "source": [
    "DATA_DIR = 'data/processed'\n",
    "POSITIVE_RATING_THRESHOLD = 4\n",
    "MIN_USER_COUNT = 5  # only keep the user who gives at least min_user_count ratings\n",
    "MIN_MOVIE_COUNT = 5  # only keep the movie that receives at least min_movie_count ratings\n",
    "SORTED_BY_TIMESTAMP = False  # sort the ratings by timestamp before split tr and te\n",
    "NUM_USER_TEST = 12000\n",
    "SEED = 98765"
   ]
  },
  {
   "cell_type": "code",
   "execution_count": 6,
   "id": "theoretical-mining",
   "metadata": {},
   "outputs": [
    {
     "name": "stdout",
     "output_type": "stream",
     "text": [
      "ratings.shape (12937988, 4)\n"
     ]
    },
    {
     "data": {
      "text/html": [
       "<div>\n",
       "<style scoped>\n",
       "    .dataframe tbody tr th:only-of-type {\n",
       "        vertical-align: middle;\n",
       "    }\n",
       "\n",
       "    .dataframe tbody tr th {\n",
       "        vertical-align: top;\n",
       "    }\n",
       "\n",
       "    .dataframe thead th {\n",
       "        text-align: right;\n",
       "    }\n",
       "</style>\n",
       "<table border=\"1\" class=\"dataframe\">\n",
       "  <thead>\n",
       "    <tr style=\"text-align: right;\">\n",
       "      <th></th>\n",
       "      <th>userId</th>\n",
       "      <th>movieId</th>\n",
       "      <th>rating</th>\n",
       "      <th>timestamp</th>\n",
       "    </tr>\n",
       "  </thead>\n",
       "  <tbody>\n",
       "    <tr>\n",
       "      <th>1</th>\n",
       "      <td>1</td>\n",
       "      <td>147</td>\n",
       "      <td>4.5</td>\n",
       "      <td>1425942435</td>\n",
       "    </tr>\n",
       "    <tr>\n",
       "      <th>2</th>\n",
       "      <td>1</td>\n",
       "      <td>858</td>\n",
       "      <td>5.0</td>\n",
       "      <td>1425941523</td>\n",
       "    </tr>\n",
       "    <tr>\n",
       "      <th>3</th>\n",
       "      <td>1</td>\n",
       "      <td>1221</td>\n",
       "      <td>5.0</td>\n",
       "      <td>1425941546</td>\n",
       "    </tr>\n",
       "    <tr>\n",
       "      <th>4</th>\n",
       "      <td>1</td>\n",
       "      <td>1246</td>\n",
       "      <td>5.0</td>\n",
       "      <td>1425941556</td>\n",
       "    </tr>\n",
       "    <tr>\n",
       "      <th>5</th>\n",
       "      <td>1</td>\n",
       "      <td>1968</td>\n",
       "      <td>4.0</td>\n",
       "      <td>1425942148</td>\n",
       "    </tr>\n",
       "  </tbody>\n",
       "</table>\n",
       "</div>"
      ],
      "text/plain": [
       "   userId  movieId  rating   timestamp\n",
       "1       1      147     4.5  1425942435\n",
       "2       1      858     5.0  1425941523\n",
       "3       1     1221     5.0  1425941546\n",
       "4       1     1246     5.0  1425941556\n",
       "5       1     1968     4.0  1425942148"
      ]
     },
     "execution_count": 6,
     "metadata": {},
     "output_type": "execute_result"
    }
   ],
   "source": [
    "# binarize the data (only keep ratings >= 4)\n",
    "ratings = ratings[ratings['rating'] >= POSITIVE_RATING_THRESHOLD]\n",
    "print('ratings.shape', ratings.shape)\n",
    "ratings.head()"
   ]
  },
  {
   "cell_type": "code",
   "execution_count": 7,
   "id": "dental-broadcasting",
   "metadata": {},
   "outputs": [
    {
     "name": "stdout",
     "output_type": "stream",
     "text": [
      "Before filtering, there are 12937988 ratings from 265039 users and 30222 movies (sparsity: 0.162%)\n"
     ]
    }
   ],
   "source": [
    "n_user = len(ratings['userId'].unique())\n",
    "n_movie = len(ratings['movieId'].unique())\n",
    "\n",
    "sparsity = 1. * ratings.shape[0] / (n_user * n_movie)\n",
    "\n",
    "print(\"Before filtering, there are %d ratings from %d users and %d movies (sparsity: %.3f%%)\" % \n",
    "      (ratings.shape[0], n_user, n_movie, sparsity * 100))"
   ]
  },
  {
   "cell_type": "code",
   "execution_count": 8,
   "id": "foreign-nomination",
   "metadata": {},
   "outputs": [
    {
     "data": {
      "image/png": "[encoded data removed]",
      "text/plain": [
       "<Figure size 576x576 with 1 Axes>"
      ]
     },
     "metadata": {
      "needs_background": "light"
     },
     "output_type": "display_data"
    }
   ],
   "source": [
    "sorted_ratings_per_user = np.sort(ratings.groupby('userId').count()['rating'])[::-1]\n",
    "\n",
    "plt.figure(figsize=(8,8))\n",
    "plt.plot(sorted_ratings_per_user)\n",
    "plt.ylabel(\"Number of ratings (sorted)\")\n",
    "plt.xlabel(\"Users\")\n",
    "plt.title('Number of ratings (sorted) per user');"
   ]
  },
  {
   "cell_type": "code",
   "execution_count": 9,
   "id": "certain-active",
   "metadata": {},
   "outputs": [
    {
     "data": {
      "text/plain": [
       "(48.815412071431, 3672)"
      ]
     },
     "execution_count": 9,
     "metadata": {},
     "output_type": "execute_result"
    }
   ],
   "source": [
    "sorted_ratings_per_user.mean(), sorted_ratings_per_user.max()"
   ]
  },
  {
   "cell_type": "code",
   "execution_count": 12,
   "id": "encouraging-cleanup",
   "metadata": {},
   "outputs": [
    {
     "data": {
      "text/plain": [
       "array([17., 52.])"
      ]
     },
     "execution_count": 12,
     "metadata": {},
     "output_type": "execute_result"
    }
   ],
   "source": [
    "np.quantile(sorted_ratings_per_user, [0.5, 0.75])"
   ]
  },
  {
   "cell_type": "code",
   "execution_count": 7,
   "id": "falling-board",
   "metadata": {
    "scrolled": false
   },
   "outputs": [
    {
     "data": {
      "image/png": "[encoded data removed]",
      "text/plain": [
       "<Figure size 576x576 with 1 Axes>"
      ]
     },
     "metadata": {
      "needs_background": "light"
     },
     "output_type": "display_data"
    }
   ],
   "source": [
    "sorted_ratings_per_movie = np.sort(ratings.groupby('movieId').count()['rating'])[::-1]\n",
    "\n",
    "plt.figure(figsize=(8,8))\n",
    "plt.plot(sorted_ratings_per_movie)\n",
    "plt.ylabel(\"Number of ratings (sorted)\")\n",
    "plt.xlabel(\"Movies\")\n",
    "plt.title('Number of ratings (sorted) per movies');"
   ]
  },
  {
   "cell_type": "code",
   "execution_count": 8,
   "id": "interpreted-diagnosis",
   "metadata": {},
   "outputs": [],
   "source": [
    "def get_count(data, id):\n",
    "    playcount_groupbyid = data[[id]].groupby(id, as_index=False)\n",
    "    count = playcount_groupbyid.size()\n",
    "    return count"
   ]
  },
  {
   "cell_type": "code",
   "execution_count": 9,
   "id": "alpine-object",
   "metadata": {},
   "outputs": [],
   "source": [
    "def filter_triplets(data, min_user_count=0, min_movie_count=0):\n",
    "    \"\"\"\n",
    "        min_user_count: only keep the user who gives at least min_user_count ratings\n",
    "        min_movie_count: only keep the movie that receives at least min_movie_count ratings\n",
    "    \"\"\"\n",
    "    # Only keep the data for items which were clicked on by at least min_sc users. \n",
    "    if min_movie_count > 0:\n",
    "        itemcount = get_count(data, 'movieId')\n",
    "        data = data[data['movieId'].isin(itemcount[itemcount['size'] >= min_movie_count]['movieId'])]\n",
    "    \n",
    "    # Only keep the triplets for users who clicked on at least min_uc items\n",
    "    # After doing this, some of the items will have less than min_uc users, but should only be a small proportion\n",
    "    if min_user_count > 0:\n",
    "        usercount = get_count(data, 'userId')\n",
    "        data = data[data['userId'].isin(usercount[usercount['size'] >= min_user_count]['userId'])]\n",
    "    \n",
    "    # Update both usercount and itemcount after filtering\n",
    "    usercount, itemcount = get_count(data, 'userId'), get_count(data, 'movieId') \n",
    "    return data, usercount, itemcount"
   ]
  },
  {
   "cell_type": "code",
   "execution_count": 10,
   "id": "friendly-belief",
   "metadata": {},
   "outputs": [],
   "source": [
    "ratings, user_activity, movie_popularity = filter_triplets(ratings, MIN_USER_COUNT, MIN_MOVIE_COUNT)"
   ]
  },
  {
   "cell_type": "code",
   "execution_count": 11,
   "id": "respective-alberta",
   "metadata": {},
   "outputs": [
    {
     "name": "stdout",
     "output_type": "stream",
     "text": [
      "After filtering, there are 12851343 watching events from 224089 users and 17888 movies (sparsity: 0.321%)\n"
     ]
    }
   ],
   "source": [
    "sparsity = 1. * ratings.shape[0] / (user_activity.shape[0] * movie_popularity.shape[0])\n",
    "\n",
    "print(\"After filtering, there are %d watching events from %d users and %d movies (sparsity: %.3f%%)\" % \n",
    "      (ratings.shape[0], user_activity.shape[0], movie_popularity.shape[0], sparsity * 100))"
   ]
  },
  {
   "cell_type": "code",
   "execution_count": 16,
   "id": "knowing-albany",
   "metadata": {},
   "outputs": [
    {
     "name": "stdout",
     "output_type": "stream",
     "text": [
      "After filtering, there are 12877023 watching events from 224147 users and 31985 movies (sparsity: 0.180%)\n"
     ]
    }
   ],
   "source": [
    "sparsity = 1. * ratings.shape[0] / (user_activity.shape[0] * movie_popularity.shape[0])\n",
    "\n",
    "print(\"After filtering, there are %d watching events from %d users and %d movies (sparsity: %.3f%%)\" % \n",
    "      (ratings.shape[0], user_activity.shape[0], movie_popularity.shape[0], sparsity * 100))"
   ]
  },
  {
   "cell_type": "code",
   "execution_count": 17,
   "id": "super-conspiracy",
   "metadata": {},
   "outputs": [],
   "source": [
    "unique_uid = user_activity['userId'].to_numpy()\n",
    "n_users = len(unique_uid)\n",
    "\n",
    "np.random.seed(SEED)\n",
    "idx_perm = np.random.permutation(n_users)\n",
    "unique_uid = unique_uid[idx_perm]"
   ]
  },
  {
   "cell_type": "code",
   "execution_count": 18,
   "id": "revolutionary-alloy",
   "metadata": {},
   "outputs": [],
   "source": [
    "# create train/validation/test users\n",
    "\n",
    "tr_users = unique_uid[:(n_users - NUM_USER_TEST * 2)]\n",
    "vd_users = unique_uid[(n_users - NUM_USER_TEST * 2): (n_users - NUM_USER_TEST)]\n",
    "te_users = unique_uid[(n_users - NUM_USER_TEST):]"
   ]
  },
  {
   "cell_type": "code",
   "execution_count": 19,
   "id": "excited-banana",
   "metadata": {},
   "outputs": [
    {
     "data": {
      "text/plain": [
       "(200147, 12000, 12000)"
      ]
     },
     "execution_count": 19,
     "metadata": {},
     "output_type": "execute_result"
    }
   ],
   "source": [
    "len(tr_users), len(vd_users), len(te_users)"
   ]
  },
  {
   "cell_type": "code",
   "execution_count": 20,
   "id": "welsh-telephone",
   "metadata": {},
   "outputs": [],
   "source": [
    "train_ratings = ratings.loc[ratings['userId'].isin(tr_users)]"
   ]
  },
  {
   "cell_type": "code",
   "execution_count": 21,
   "id": "empty-nomination",
   "metadata": {},
   "outputs": [
    {
     "data": {
      "text/plain": [
       "200147"
      ]
     },
     "execution_count": 21,
     "metadata": {},
     "output_type": "execute_result"
    }
   ],
   "source": [
    "len(train_ratings['userId'].unique())"
   ]
  },
  {
   "cell_type": "code",
   "execution_count": 22,
   "id": "pretty-large",
   "metadata": {},
   "outputs": [
    {
     "data": {
      "text/plain": [
       "30920"
      ]
     },
     "execution_count": 22,
     "metadata": {},
     "output_type": "execute_result"
    }
   ],
   "source": [
    "unique_sid = pd.unique(train_ratings['movieId'])\n",
    "len(unique_sid)"
   ]
  },
  {
   "cell_type": "code",
   "execution_count": 23,
   "id": "instant-measurement",
   "metadata": {},
   "outputs": [],
   "source": [
    "movieId2id = dict((sid, i) for (i, sid) in enumerate(unique_sid))\n",
    "userId2id = dict((pid, i) for (i, pid) in enumerate(unique_uid))"
   ]
  },
  {
   "cell_type": "code",
   "execution_count": 24,
   "id": "female-sister",
   "metadata": {},
   "outputs": [
    {
     "data": {
      "text/plain": [
       "'data/processed/4_5_0_False_12000_98765'"
      ]
     },
     "execution_count": 24,
     "metadata": {},
     "output_type": "execute_result"
    }
   ],
   "source": [
    "NAME_DIR = '{}_{}_{}_{}_{}_{}'.format(POSITIVE_RATING_THRESHOLD, MIN_USER_COUNT, MIN_MOVIE_COUNT,SORTED_BY_TIMESTAMP,NUM_USER_TEST,SEED)\n",
    "processed_data_dir = os.path.join(DATA_DIR, NAME_DIR)\n",
    "processed_data_dir"
   ]
  },
  {
   "cell_type": "code",
   "execution_count": 25,
   "id": "endangered-rotation",
   "metadata": {},
   "outputs": [],
   "source": [
    "if not os.path.exists(processed_data_dir):\n",
    "    os.makedirs(processed_data_dir)\n",
    "\n",
    "with open(os.path.join(processed_data_dir, 'unique_sid.txt'), 'w') as f:\n",
    "    for sid in unique_sid:\n",
    "        f.write('%s\\n' % sid)"
   ]
  },
  {
   "cell_type": "code",
   "execution_count": 26,
   "id": "widespread-individual",
   "metadata": {},
   "outputs": [],
   "source": [
    "def split_train_test_proportion(data, sorted_by_timestamp, test_prop=0.2):\n",
    "    data_grouped_by_user = data.groupby('userId')\n",
    "    tr_list, te_list = list(), list()\n",
    "\n",
    "    for i, (_, group) in enumerate(data_grouped_by_user):\n",
    "        n_items_u = len(group)\n",
    "        if n_items_u < 2:\n",
    "            continue\n",
    "        if sorted_by_timestamp:\n",
    "            group = group.sort_values('timestamp')\n",
    "\n",
    "\n",
    "        idx = np.zeros(n_items_u, dtype='bool')\n",
    "        test_size = max(1, int(test_prop * n_items_u))\n",
    "        \n",
    "        if sorted_by_timestamp:\n",
    "            idx[-test_size:] = True\n",
    "        else:\n",
    "            idx[np.random.choice(n_items_u, size=test_size, replace=False).astype('int64')] = True\n",
    "\n",
    "        tr_list.append(group[np.logical_not(idx)])\n",
    "        te_list.append(group[idx])\n",
    "\n",
    "\n",
    "        if i % 1000 == 0:\n",
    "            print(\"%d users sampled\" % i)\n",
    "            sys.stdout.flush()\n",
    "\n",
    "    data_tr = pd.concat(tr_list)\n",
    "    data_te = pd.concat(te_list)\n",
    "    \n",
    "    return data_tr, data_te"
   ]
  },
  {
   "cell_type": "code",
   "execution_count": 27,
   "id": "earned-conclusion",
   "metadata": {},
   "outputs": [],
   "source": [
    "vad_ratings = ratings.loc[ratings['userId'].isin(vd_users)]\n",
    "vad_ratings = vad_ratings.loc[vad_ratings['movieId'].isin(unique_sid)]"
   ]
  },
  {
   "cell_type": "code",
   "execution_count": 28,
   "id": "fatal-earth",
   "metadata": {},
   "outputs": [
    {
     "data": {
      "text/plain": [
       "12000"
      ]
     },
     "execution_count": 28,
     "metadata": {},
     "output_type": "execute_result"
    }
   ],
   "source": [
    "len(vad_ratings['userId'].unique())"
   ]
  },
  {
   "cell_type": "code",
   "execution_count": 29,
   "id": "physical-spanish",
   "metadata": {},
   "outputs": [
    {
     "name": "stdout",
     "output_type": "stream",
     "text": [
      "0 users sampled\n",
      "1000 users sampled\n",
      "2000 users sampled\n",
      "3000 users sampled\n",
      "4000 users sampled\n",
      "5000 users sampled\n",
      "6000 users sampled\n",
      "7000 users sampled\n",
      "8000 users sampled\n",
      "9000 users sampled\n",
      "10000 users sampled\n",
      "11000 users sampled\n"
     ]
    },
    {
     "data": {
      "text/plain": [
       "((547074, 4), (131071, 4))"
      ]
     },
     "execution_count": 29,
     "metadata": {},
     "output_type": "execute_result"
    }
   ],
   "source": [
    "vad_ratings_tr, vad_ratings_te = split_train_test_proportion(vad_ratings, SORTED_BY_TIMESTAMP, test_prop=0.2)\n",
    "\n",
    "vad_ratings_tr.shape, vad_ratings_te.shape"
   ]
  },
  {
   "cell_type": "code",
   "execution_count": 30,
   "id": "specialized-universe",
   "metadata": {},
   "outputs": [
    {
     "data": {
      "text/plain": [
       "(12000, 12000)"
      ]
     },
     "execution_count": 30,
     "metadata": {},
     "output_type": "execute_result"
    }
   ],
   "source": [
    "len(vad_ratings_tr['userId'].unique()), len(vad_ratings_te['userId'].unique())"
   ]
  },
  {
   "cell_type": "code",
   "execution_count": 31,
   "id": "surprising-caribbean",
   "metadata": {},
   "outputs": [],
   "source": [
    "test_ratings = ratings.loc[ratings['userId'].isin(te_users)]\n",
    "test_ratings = test_ratings.loc[test_ratings['movieId'].isin(unique_sid)]"
   ]
  },
  {
   "cell_type": "code",
   "execution_count": 32,
   "id": "sapphire-essence",
   "metadata": {},
   "outputs": [
    {
     "name": "stdout",
     "output_type": "stream",
     "text": [
      "0 users sampled\n",
      "1000 users sampled\n",
      "2000 users sampled\n",
      "3000 users sampled\n",
      "4000 users sampled\n",
      "5000 users sampled\n",
      "6000 users sampled\n",
      "7000 users sampled\n",
      "8000 users sampled\n",
      "9000 users sampled\n",
      "10000 users sampled\n",
      "11000 users sampled\n"
     ]
    },
    {
     "data": {
      "text/plain": [
       "((548964, 4), (131544, 4))"
      ]
     },
     "execution_count": 32,
     "metadata": {},
     "output_type": "execute_result"
    }
   ],
   "source": [
    "test_ratings_tr, test_ratings_te = split_train_test_proportion(test_ratings, SORTED_BY_TIMESTAMP, test_prop=0.2)\n",
    "\n",
    "test_ratings_tr.shape, test_ratings_te.shape"
   ]
  },
  {
   "cell_type": "code",
   "execution_count": 33,
   "id": "stopped-import",
   "metadata": {},
   "outputs": [
    {
     "data": {
      "text/plain": [
       "(11999, 11999)"
      ]
     },
     "execution_count": 33,
     "metadata": {},
     "output_type": "execute_result"
    }
   ],
   "source": [
    "len(test_ratings_tr['userId'].unique()), len(test_ratings_te['userId'].unique())"
   ]
  },
  {
   "cell_type": "code",
   "execution_count": 34,
   "id": "subtle-testament",
   "metadata": {},
   "outputs": [],
   "source": [
    "def numerize(data, userId2id, movieId2id):\n",
    "    uid = data['userId'].apply(lambda x: userId2id[x])\n",
    "    sid = data['movieId'].apply(lambda x: movieId2id[x])\n",
    "    return pd.DataFrame(data={'uid': uid, 'sid': sid}, columns=['uid', 'sid'])"
   ]
  },
  {
   "cell_type": "code",
   "execution_count": 35,
   "id": "expanded-salem",
   "metadata": {},
   "outputs": [],
   "source": [
    "train_data = numerize(train_ratings, userId2id, movieId2id)\n",
    "train_data.to_csv(os.path.join(processed_data_dir, 'train.csv'), index=False)"
   ]
  },
  {
   "cell_type": "code",
   "execution_count": 36,
   "id": "cooperative-polish",
   "metadata": {},
   "outputs": [],
   "source": [
    "vad_data_tr = numerize(vad_ratings_tr, userId2id, movieId2id)\n",
    "vad_data_tr.to_csv(os.path.join(processed_data_dir, 'validation_tr.csv'), index=False)"
   ]
  },
  {
   "cell_type": "code",
   "execution_count": 37,
   "id": "ruled-pursuit",
   "metadata": {},
   "outputs": [],
   "source": [
    "vad_data_te = numerize(vad_ratings_te, userId2id, movieId2id)\n",
    "vad_data_te.to_csv(os.path.join(processed_data_dir, 'validation_te.csv'), index=False)"
   ]
  },
  {
   "cell_type": "code",
   "execution_count": 38,
   "id": "derived-communist",
   "metadata": {},
   "outputs": [],
   "source": [
    "test_data_tr = numerize(test_ratings_tr, userId2id, movieId2id)\n",
    "test_data_tr.to_csv(os.path.join(processed_data_dir, 'test_tr.csv'), index=False)"
   ]
  },
  {
   "cell_type": "code",
   "execution_count": 39,
   "id": "mental-procedure",
   "metadata": {},
   "outputs": [],
   "source": [
    "test_data_te = numerize(test_ratings_te, userId2id, movieId2id)\n",
    "test_data_te.to_csv(os.path.join(processed_data_dir, 'test_te.csv'), index=False)"
   ]
  },
  {
   "cell_type": "code",
   "execution_count": null,
   "id": "thirty-standing",
   "metadata": {},
   "outputs": [],
   "source": []
  },
  {
   "cell_type": "code",
   "execution_count": null,
   "id": "acquired-surgery",
   "metadata": {},
   "outputs": [],
   "source": []
  },
  {
   "cell_type": "code",
   "execution_count": 40,
   "id": "falling-choir",
   "metadata": {},
   "outputs": [
    {
     "data": {
      "text/plain": [
       "'data/processed/4_5_0_False_12000_98765'"
      ]
     },
     "execution_count": 40,
     "metadata": {},
     "output_type": "execute_result"
    }
   ],
   "source": [
    "processed_data_dir"
   ]
  },
  {
   "cell_type": "code",
   "execution_count": 41,
   "id": "surprising-clock",
   "metadata": {},
   "outputs": [
    {
     "data": {
      "text/plain": [
       "30920"
      ]
     },
     "execution_count": 41,
     "metadata": {},
     "output_type": "execute_result"
    }
   ],
   "source": [
    "unique_sid = list()\n",
    "with open(os.path.join(processed_data_dir, 'unique_sid.txt'), 'r') as f:\n",
    "    for line in f:\n",
    "        unique_sid.append(line.strip())\n",
    "\n",
    "n_items = len(unique_sid)\n",
    "n_items"
   ]
  },
  {
   "cell_type": "code",
   "execution_count": 42,
   "id": "attractive-sharing",
   "metadata": {},
   "outputs": [],
   "source": [
    "def load_train_data(csv_file):\n",
    "    tp = pd.read_csv(csv_file)\n",
    "    n_users = tp['uid'].max() + 1\n",
    "\n",
    "    rows, cols = tp['uid'], tp['sid']\n",
    "    data = sparse.csr_matrix((np.ones_like(rows),\n",
    "                             (rows, cols)), dtype='float64',\n",
    "                             shape=(n_users, n_items))\n",
    "    return data"
   ]
  },
  {
   "cell_type": "code",
   "execution_count": 43,
   "id": "rubber-beijing",
   "metadata": {},
   "outputs": [],
   "source": [
    "train_data = load_train_data(os.path.join(processed_data_dir, 'train.csv'))"
   ]
  },
  {
   "cell_type": "code",
   "execution_count": 44,
   "id": "relevant-musician",
   "metadata": {},
   "outputs": [],
   "source": [
    "def load_tr_te_data(csv_file_tr, csv_file_te):\n",
    "    tp_tr = pd.read_csv(csv_file_tr)\n",
    "    tp_te = pd.read_csv(csv_file_te)\n",
    "\n",
    "    start_idx = min(tp_tr['uid'].min(), tp_te['uid'].min())\n",
    "    end_idx = max(tp_tr['uid'].max(), tp_te['uid'].max())\n",
    "\n",
    "    rows_tr, cols_tr = tp_tr['uid'] - start_idx, tp_tr['sid']\n",
    "    rows_te, cols_te = tp_te['uid'] - start_idx, tp_te['sid']\n",
    "\n",
    "    data_tr = sparse.csr_matrix((np.ones_like(rows_tr),\n",
    "                             (rows_tr, cols_tr)), dtype='float64', shape=(end_idx - start_idx + 1, n_items))\n",
    "    data_te = sparse.csr_matrix((np.ones_like(rows_te),\n",
    "                             (rows_te, cols_te)), dtype='float64', shape=(end_idx - start_idx + 1, n_items))\n",
    "    \n",
    "    # remove the rows whose all elements are zero\n",
    "    tr_all_zeros = np.where(np.array(data_tr.getnnz(1)<1) == True)[0]\n",
    "    te_all_zeros = np.where(np.array(data_te.getnnz(1)<1) == True)[0]\n",
    "    if len(tr_all_zeros) > 0 or len(te_all_zeros) > 0:\n",
    "        print('tr_data: detect rows {} whose all elements are zero. Removing...'.format(tr_all_zeros))\n",
    "        print('te_data: detect rows {} whose all elements are zero. Removing...'.format(te_all_zeros))\n",
    "        data_tr = data_tr[data_tr.getnnz(1)>0]\n",
    "        data_te = data_te[data_te.getnnz(1)>0]\n",
    "    \n",
    "    return data_tr, data_te"
   ]
  },
  {
   "cell_type": "code",
   "execution_count": 45,
   "id": "hazardous-slide",
   "metadata": {},
   "outputs": [],
   "source": [
    "vad_data_tr, vad_data_te = load_tr_te_data(os.path.join(processed_data_dir, 'validation_tr.csv'),\n",
    "                                           os.path.join(processed_data_dir, 'validation_te.csv'))"
   ]
  },
  {
   "cell_type": "code",
   "execution_count": 46,
   "id": "binding-moore",
   "metadata": {},
   "outputs": [
    {
     "data": {
      "text/plain": [
       "((12000, 30920), (12000, 30920))"
      ]
     },
     "execution_count": 46,
     "metadata": {},
     "output_type": "execute_result"
    }
   ],
   "source": [
    "vad_data_tr.shape, vad_data_te.shape"
   ]
  },
  {
   "cell_type": "code",
   "execution_count": 47,
   "id": "legitimate-alfred",
   "metadata": {},
   "outputs": [
    {
     "name": "stdout",
     "output_type": "stream",
     "text": [
      "tr_data: detect rows [7387] whose all elements are zero. Removing...\n",
      "te_data: detect rows [7387] whose all elements are zero. Removing...\n"
     ]
    }
   ],
   "source": [
    "test_data_tr, test_data_te = load_tr_te_data(os.path.join(processed_data_dir, 'test_tr.csv'),\n",
    "                                             os.path.join(processed_data_dir, 'test_te.csv'))"
   ]
  },
  {
   "cell_type": "code",
   "execution_count": 48,
   "id": "intended-lingerie",
   "metadata": {},
   "outputs": [
    {
     "data": {
      "text/plain": [
       "((11999, 30920), (11999, 30920))"
      ]
     },
     "execution_count": 48,
     "metadata": {},
     "output_type": "execute_result"
    }
   ],
   "source": [
    "test_data_tr.shape, test_data_te.shape"
   ]
  },
  {
   "cell_type": "code",
   "execution_count": null,
   "id": "measured-standing",
   "metadata": {},
   "outputs": [],
   "source": []
  }
 ],
 "metadata": {
  "kernelspec": {
   "display_name": "Python 3",
   "language": "python",
   "name": "python3"
  },
  "language_info": {
   "codemirror_mode": {
    "name": "ipython",
    "version": 3
   },
   "file_extension": ".py",
   "mimetype": "text/x-python",
   "name": "python",
   "nbconvert_exporter": "python",
   "pygments_lexer": "ipython3",
   "version": "3.8.2"
  }
 },
 "nbformat": 4,
 "nbformat_minor": 5
}
